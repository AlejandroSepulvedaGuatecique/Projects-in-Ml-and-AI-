{
  "nbformat": 4,
  "nbformat_minor": 0,
  "metadata": {
    "colab": {
      "provenance": [],
      "collapsed_sections": [
        "vmwXU-7KKUhZ",
        "DVbt7HxRdsm-",
        "xlcEiVNAZEGn"
      ],
      "authorship_tag": "ABX9TyMuCRNkEpAyY2xW7EPrYXNN",
      "include_colab_link": true
    },
    "kernelspec": {
      "name": "python3",
      "display_name": "Python 3"
    },
    "language_info": {
      "name": "python"
    }
  },
  "cells": [
    {
      "cell_type": "markdown",
      "metadata": {
        "id": "view-in-github",
        "colab_type": "text"
      },
      "source": [
        "<a href=\"https://colab.research.google.com/github/AlejandroSepulvedaGuatecique/Projects-in-Ml-and-AI-/blob/main/HW2/HW2_Ensemble_Learning.ipynb\" target=\"_parent\"><img src=\"https://colab.research.google.com/assets/colab-badge.svg\" alt=\"Open In Colab\"/></a>"
      ]
    },
    {
      "cell_type": "markdown",
      "source": [
        "# HOMEWORK 2: ENSEMBLE LEARNING"
      ],
      "metadata": {
        "id": "M0aMI3fMI6RF"
      }
    },
    {
      "cell_type": "markdown",
      "source": [
        "Heart disease is one of the top leading cause of death in the world. Most heart diseases are not genetical and they develop through years. Therefore, there is a need to predict potential future patients with heart disease. Exploratory Data Analysis was done in [HW1](https://github.com/AlejandroSepulvedaGuatecique/Projects-in-Ml-and-AI-/blob/main/HW1/HW1_Logistic_Regression_Implementation.ipynb). The objective is to develop a model able to predict if a particular patient will have heart disease in the future or not based on a limit number of information from the patient. Three different techniques were analyzed to classify the binary data set: Decision Tree Classifier, Random Forest, AdaBoost classifier.\n",
        "\n"
      ],
      "metadata": {
        "id": "NE9hevWYI-ZO"
      }
    },
    {
      "cell_type": "code",
      "source": [
        "# import required libraries\n",
        "import pandas as pd\n",
        "import matplotlib.pyplot as plt\n",
        "import seaborn as sns\n",
        "import numpy as np\n",
        "from sklearn.datasets import make_classification\n",
        "from sklearn.model_selection import train_test_split\n",
        "from sklearn.preprocessing import Normalizer\n",
        "import time"
      ],
      "metadata": {
        "id": "vkcoDi9v9n6-"
      },
      "execution_count": null,
      "outputs": []
    },
    {
      "cell_type": "code",
      "source": [
        "# data source: https://www.kaggle.com/datasets/rishidamarla/heart-disease-prediction\n",
        "# note: we have combined Training and Testing data from Kaggle into a single data frame\n",
        "df = pd.read_csv('https://raw.githubusercontent.com/AlejandroSepulvedaGuatecique/Projects-in-Ml-and-AI-/main/HW1/Heart_Disease_Prediction.csv')\n",
        "df.columns = [c.replace(' ', '_') for c in df.columns] #Some columns names have spaces, here spaces are replaced by '_'\n",
        "mapping = {'Presence': 1, 'Absence': 0}\n",
        "df = df.replace({'Heart_Disease': mapping})\n",
        "\n",
        "y = df['Heart_Disease']\n",
        "X = df[['Age', 'Sex', 'Chest_pain_type', 'BP', 'Cholesterol', 'FBS_over_120',\n",
        "        'EKG_results', 'Max_HR', 'Exercise_angina', 'ST_depression',\n",
        "        'Slope_of_ST', 'Number_of_vessels_fluro', 'Thallium']]\n",
        "\n",
        "m = len(y)\n",
        "n = np.size(X,1)\n",
        "X = np.hstack((np.ones((m,1)),X))\n",
        "#y = y[:,np.newaxis]"
      ],
      "metadata": {
        "id": "9jsdy2MJxIQf"
      },
      "execution_count": null,
      "outputs": []
    },
    {
      "cell_type": "code",
      "source": [
        "# import required libraries\n",
        "from sklearn.tree import DecisionTreeClassifier\n",
        "from sklearn.metrics import classification_report, confusion_matrix\n",
        "from sklearn.model_selection import cross_val_score\n",
        "from sklearn.model_selection import RepeatedStratifiedKFold\n",
        "\n",
        "# splitting the data\n",
        "X_train, X_test, y_train, y_test = train_test_split(X, y,random_state=2, test_size=0.1)\n",
        "target_names = ['Abscense', 'Presence']"
      ],
      "metadata": {
        "id": "TG_Zjpd5za72"
      },
      "execution_count": null,
      "outputs": []
    },
    {
      "cell_type": "markdown",
      "source": [
        "## Implementation of Decision Tree Classifier\n",
        "\n",
        "Herein a decission tree classifier is implemented using the **DecisionTreeClassifier** built-in package from Scikit Learn. \n",
        "\n",
        "In the following codes the effect of the maximum depth criteria to measure the quality of a split is compared and analyzed, finally the best model is chosen. All the models were assessed with cross validation.  "
      ],
      "metadata": {
        "id": "QS1jZ5jxtcdd"
      }
    },
    {
      "cell_type": "markdown",
      "source": [
        "### Effect of Maximum depth for decission tree classifier\n",
        "\n",
        "Here, 30 decission tree classifier are fitted to the data. The first tree has a max depth equal to 1, while the second tree has a max depth equal to 2, and so on, until the last decission tree with a max depth equal to 30. "
      ],
      "metadata": {
        "id": "Qpjm4a0WJ_u4"
      }
    },
    {
      "cell_type": "code",
      "source": [
        "# Fitting first decission tree classifier \n",
        "loop=31\n",
        "mean_recall = np.zeros(loop-1)\n",
        "mean_f1 = np.zeros(loop-1)\n",
        "for maxdepth in np.arange(1,loop,1):\n",
        "      dtree = DecisionTreeClassifier(criterion='entropy',max_depth=maxdepth)\n",
        "      #dtree.fit(X_train,y_train)\n",
        "      #predictions = dtree.predict(X_test)\n",
        "      #print('Max depth =', dtree.tree_.max_depth)  \n",
        "      #print('The number of nodes (internal nodes + leaves) in the tree =', dtree.tree_.node_count)  \n",
        "      #print('confusion matrix= \\n',confusion_matrix(y_test, predictions))\n",
        "      #print(classification_report(y_test, predictions, target_names=target_names))\n",
        "\n",
        "      # Testing the decission tree classifier with the test set\n",
        "\n",
        "      cv = RepeatedStratifiedKFold(n_splits=5, n_repeats=3, random_state=1)\n",
        "      n_scores = cross_val_score(dtree, X_train, y_train, scoring='recall', cv=cv, n_jobs=-1, error_score='raise')\n",
        "      mean_recall[maxdepth-1] = np.mean(n_scores)\n",
        "      print('Max depth = %.3f : The average recall score is %.3f with an associated standard deviation equal to %.3f' % (maxdepth, np.mean(n_scores), np.std(n_scores)))\n",
        "      n_scores = cross_val_score(dtree, X_train, y_train, scoring='f1', cv=cv, n_jobs=-1, error_score='raise')\n",
        "      mean_f1[maxdepth-1] = np.mean(n_scores)\n",
        "      #print(n_scores)\n",
        "      print('Max depth = %.3f : The average f1 score is %.3f with an associated standard deviation equal to %.3f' % (maxdepth, np.mean(n_scores), np.std(n_scores)))\n"
      ],
      "metadata": {
        "colab": {
          "base_uri": "https://localhost:8080/"
        },
        "outputId": "fc1b194c-7127-43eb-93f5-539aaba9222c",
        "id": "Wp7ljqzjsRKP"
      },
      "execution_count": null,
      "outputs": [
        {
          "output_type": "stream",
          "name": "stdout",
          "text": [
            "Max depth = 1.000 : The average recall score is 0.683 with an associated standard deviation equal to 0.067\n",
            "Max depth = 1.000 : The average f1 score is 0.690 with an associated standard deviation equal to 0.049\n",
            "Max depth = 2.000 : The average recall score is 0.584 with an associated standard deviation equal to 0.120\n",
            "Max depth = 2.000 : The average f1 score is 0.662 with an associated standard deviation equal to 0.069\n",
            "Max depth = 3.000 : The average recall score is 0.724 with an associated standard deviation equal to 0.118\n",
            "Max depth = 3.000 : The average f1 score is 0.759 with an associated standard deviation equal to 0.074\n",
            "Max depth = 4.000 : The average recall score is 0.657 with an associated standard deviation equal to 0.091\n",
            "Max depth = 4.000 : The average f1 score is 0.723 with an associated standard deviation equal to 0.068\n",
            "Max depth = 5.000 : The average recall score is 0.714 with an associated standard deviation equal to 0.094\n",
            "Max depth = 5.000 : The average f1 score is 0.723 with an associated standard deviation equal to 0.068\n",
            "Max depth = 6.000 : The average recall score is 0.721 with an associated standard deviation equal to 0.088\n",
            "Max depth = 6.000 : The average f1 score is 0.723 with an associated standard deviation equal to 0.080\n",
            "Max depth = 7.000 : The average recall score is 0.724 with an associated standard deviation equal to 0.087\n",
            "Max depth = 7.000 : The average f1 score is 0.717 with an associated standard deviation equal to 0.054\n",
            "Max depth = 8.000 : The average recall score is 0.730 with an associated standard deviation equal to 0.090\n",
            "Max depth = 8.000 : The average f1 score is 0.708 with an associated standard deviation equal to 0.067\n",
            "Max depth = 9.000 : The average recall score is 0.730 with an associated standard deviation equal to 0.085\n",
            "Max depth = 9.000 : The average f1 score is 0.720 with an associated standard deviation equal to 0.067\n",
            "Max depth = 10.000 : The average recall score is 0.714 with an associated standard deviation equal to 0.094\n",
            "Max depth = 10.000 : The average f1 score is 0.719 with an associated standard deviation equal to 0.063\n",
            "Max depth = 11.000 : The average recall score is 0.724 with an associated standard deviation equal to 0.086\n",
            "Max depth = 11.000 : The average f1 score is 0.722 with an associated standard deviation equal to 0.077\n",
            "Max depth = 12.000 : The average recall score is 0.721 with an associated standard deviation equal to 0.090\n",
            "Max depth = 12.000 : The average f1 score is 0.719 with an associated standard deviation equal to 0.073\n",
            "Max depth = 13.000 : The average recall score is 0.721 with an associated standard deviation equal to 0.097\n",
            "Max depth = 13.000 : The average f1 score is 0.716 with an associated standard deviation equal to 0.058\n",
            "Max depth = 14.000 : The average recall score is 0.733 with an associated standard deviation equal to 0.085\n",
            "Max depth = 14.000 : The average f1 score is 0.727 with an associated standard deviation equal to 0.066\n",
            "Max depth = 15.000 : The average recall score is 0.717 with an associated standard deviation equal to 0.079\n",
            "Max depth = 15.000 : The average f1 score is 0.717 with an associated standard deviation equal to 0.068\n",
            "Max depth = 16.000 : The average recall score is 0.733 with an associated standard deviation equal to 0.088\n",
            "Max depth = 16.000 : The average f1 score is 0.721 with an associated standard deviation equal to 0.070\n",
            "Max depth = 17.000 : The average recall score is 0.717 with an associated standard deviation equal to 0.084\n",
            "Max depth = 17.000 : The average f1 score is 0.728 with an associated standard deviation equal to 0.062\n",
            "Max depth = 18.000 : The average recall score is 0.730 with an associated standard deviation equal to 0.091\n",
            "Max depth = 18.000 : The average f1 score is 0.727 with an associated standard deviation equal to 0.073\n",
            "Max depth = 19.000 : The average recall score is 0.724 with an associated standard deviation equal to 0.094\n",
            "Max depth = 19.000 : The average f1 score is 0.720 with an associated standard deviation equal to 0.062\n",
            "Max depth = 20.000 : The average recall score is 0.714 with an associated standard deviation equal to 0.100\n",
            "Max depth = 20.000 : The average f1 score is 0.728 with an associated standard deviation equal to 0.056\n",
            "Max depth = 21.000 : The average recall score is 0.727 with an associated standard deviation equal to 0.091\n",
            "Max depth = 21.000 : The average f1 score is 0.714 with an associated standard deviation equal to 0.061\n",
            "Max depth = 22.000 : The average recall score is 0.717 with an associated standard deviation equal to 0.089\n",
            "Max depth = 22.000 : The average f1 score is 0.726 with an associated standard deviation equal to 0.069\n",
            "Max depth = 23.000 : The average recall score is 0.717 with an associated standard deviation equal to 0.091\n",
            "Max depth = 23.000 : The average f1 score is 0.714 with an associated standard deviation equal to 0.074\n",
            "Max depth = 24.000 : The average recall score is 0.737 with an associated standard deviation equal to 0.088\n",
            "Max depth = 24.000 : The average f1 score is 0.727 with an associated standard deviation equal to 0.066\n",
            "Max depth = 25.000 : The average recall score is 0.714 with an associated standard deviation equal to 0.089\n",
            "Max depth = 25.000 : The average f1 score is 0.725 with an associated standard deviation equal to 0.057\n",
            "Max depth = 26.000 : The average recall score is 0.727 with an associated standard deviation equal to 0.086\n",
            "Max depth = 26.000 : The average f1 score is 0.724 with an associated standard deviation equal to 0.062\n",
            "Max depth = 27.000 : The average recall score is 0.714 with an associated standard deviation equal to 0.100\n",
            "Max depth = 27.000 : The average f1 score is 0.720 with an associated standard deviation equal to 0.059\n",
            "Max depth = 28.000 : The average recall score is 0.717 with an associated standard deviation equal to 0.096\n",
            "Max depth = 28.000 : The average f1 score is 0.727 with an associated standard deviation equal to 0.065\n",
            "Max depth = 29.000 : The average recall score is 0.717 with an associated standard deviation equal to 0.093\n",
            "Max depth = 29.000 : The average f1 score is 0.724 with an associated standard deviation equal to 0.071\n",
            "Max depth = 30.000 : The average recall score is 0.721 with an associated standard deviation equal to 0.090\n",
            "Max depth = 30.000 : The average f1 score is 0.721 with an associated standard deviation equal to 0.063\n"
          ]
        }
      ]
    },
    {
      "cell_type": "markdown",
      "source": [
        "The models are validated using k-cross validation with a k equal to 5. Also the models are assessed based on the f1 score and recall metrics. The following figure shows the obtained results. "
      ],
      "metadata": {
        "id": "QVglt6H1K75h"
      }
    },
    {
      "cell_type": "code",
      "source": [
        "fig,axes = plt.subplots(nrows=1,ncols=2,figsize=(12,4))\n",
        "fig.subplots_adjust(wspace=0.4,hspace=0,left=0.2, right=0.9, top=0.9, bottom=0.1)\n",
        "fontdict={  'fontsize': 12, 'fontname': 'serif'}\n",
        "axes[0].plot(mean_f1,'-o')\n",
        "axes[0].set_xlabel('Max depth of the tree',fontdict)\n",
        "axes[0].set_ylabel('f1 score',fontdict)\n",
        "axes[0].set_ylim(0.78, 0.625)\n",
        "\n",
        "axes[1].plot(mean_recall,'-o')\n",
        "axes[1].set_xlabel('Max depth of the tree',fontdict)\n",
        "axes[1].set_ylabel('recall',fontdict)\n",
        "axes[1].set_ylim(0.75, 0.55)\n",
        "\n",
        "\n",
        "for tick in axes[0].get_xticklabels():\n",
        "        tick.set_fontname(\"serif\")\n",
        "        tick.set_fontsize(12)\n",
        "for tick in axes[0].get_yticklabels():\n",
        "        tick.set_fontname(\"serif\")\n",
        "        tick.set_fontsize(12)\n",
        "\n",
        "for tick in axes[1].get_xticklabels():\n",
        "        tick.set_fontname(\"serif\")\n",
        "        tick.set_fontsize(12)\n",
        "for tick in axes[1].get_yticklabels():\n",
        "        tick.set_fontname(\"serif\")\n",
        "        tick.set_fontsize(12)"
      ],
      "metadata": {
        "colab": {
          "base_uri": "https://localhost:8080/",
          "height": 303
        },
        "id": "jYCUT8ShE-ba",
        "outputId": "f4f06354-96c8-4e70-b086-8447e0978818"
      },
      "execution_count": null,
      "outputs": [
        {
          "output_type": "display_data",
          "data": {
            "text/plain": [
              "<Figure size 864x288 with 2 Axes>"
            ],
            "image/png": "[encoded data removed]"
          },
          "metadata": {
            "needs_background": "light"
          }
        }
      ]
    },
    {
      "cell_type": "markdown",
      "source": [
        "Note that the figures have the y axis inversed. For a maximum depth equal to 1 were not optimal the f1 score was close to 0.69. This is a sign that the model may be underfitting the data. The optimal metric values were found at a maximum depth equal to 3 (f1=0.75, recall=0.74). After a maximum depth equal to 3 the f1 metric started to decrease again, suggesting an overfitting issue. With respect to the recall metric, small values are found at maximum depths equal to 1 and 2, suggesting an underfitting case. For max depth equal 3 a relatively large value is found, when the depth is increased, the metric does not increase, it remains close to the value obtained at max depth equal to 3. Therefore, the selected maximum depth value for this particular problem is 3."
      ],
      "metadata": {
        "id": "EAp_-lnPLxuX"
      }
    },
    {
      "cell_type": "markdown",
      "source": [
        "### Effect of criterion\n",
        "\n",
        "Let's see the effect of the function to measure the quality of a split. In the following codes the Gini and entropy criterion are used and the obtained results are compared"
      ],
      "metadata": {
        "id": "iR_1mIeO2Buo"
      }
    },
    {
      "cell_type": "code",
      "source": [
        "# Using entropy criterion\n",
        "maxdepth=3\n",
        "dtree = DecisionTreeClassifier(criterion='entropy',max_depth=3)\n",
        "cv = RepeatedStratifiedKFold(n_splits=5, n_repeats=3, random_state=1)\n",
        "n_scores = cross_val_score(dtree, X, y, scoring='recall', cv=cv, n_jobs=-1, error_score='raise')\n",
        "mean_recall= np.mean(n_scores)\n",
        "print('Max depth = %.3f : The average recall score is %.3f with an associated standard deviation equal to %.3f' % (maxdepth, np.mean(n_scores), np.std(n_scores)))\n",
        "n_scores = cross_val_score(dtree, X, y, scoring='f1', cv=cv, n_jobs=-1, error_score='raise')\n",
        "mean_f1= np.mean(n_scores)\n",
        "#print(n_scores)\n",
        "print('Max depth = %.3f : The average f1 score is %.3f with an associated standard deviation equal to %.3f' % (maxdepth, np.mean(n_scores), np.std(n_scores)))"
      ],
      "metadata": {
        "colab": {
          "base_uri": "https://localhost:8080/"
        },
        "outputId": "3fc97fc5-201e-4465-b9de-024557ce6653",
        "id": "KI3YTHLmx_Yu"
      },
      "execution_count": null,
      "outputs": [
        {
          "output_type": "stream",
          "name": "stdout",
          "text": [
            "Max depth = 3.000 : The average recall score is 0.727 with an associated standard deviation equal to 0.119\n",
            "Max depth = 3.000 : The average f1 score is 0.759 with an associated standard deviation equal to 0.074\n"
          ]
        }
      ]
    },
    {
      "cell_type": "code",
      "source": [
        "# Fitting first decission tree classifier\n",
        "maxdepth=3\n",
        "dtree = DecisionTreeClassifier(criterion='gini',max_depth=3)\n",
        "cv = RepeatedStratifiedKFold(n_splits=5, n_repeats=3, random_state=1)\n",
        "n_scores = cross_val_score(dtree, X, y, scoring='recall', cv=cv, n_jobs=-1, error_score='raise')\n",
        "mean_recall= np.mean(n_scores)\n",
        "print('Max depth = %.3f : The average recall score is %.3f with an associated standard deviation equal to %.3f' % (maxdepth, np.mean(n_scores), np.std(n_scores)))\n",
        "n_scores = cross_val_score(dtree, X, y, scoring='f1', cv=cv, n_jobs=-1, error_score='raise')\n",
        "mean_f1= np.mean(n_scores)\n",
        "#print(n_scores)\n",
        "print('Max depth = %.3f : The average f1 score is %.3f with an associated standard deviation equal to %.3f' % (maxdepth, np.mean(n_scores), np.std(n_scores)))"
      ],
      "metadata": {
        "colab": {
          "base_uri": "https://localhost:8080/"
        },
        "outputId": "29f3b49c-a75a-4fa6-f9a5-148a26a72f14",
        "id": "IWMvvCypOXRk"
      },
      "execution_count": null,
      "outputs": [
        {
          "output_type": "stream",
          "name": "stdout",
          "text": [
            "Max depth = 3.000 : The average recall score is 0.749 with an associated standard deviation equal to 0.115\n",
            "Max depth = 3.000 : The average f1 score is 0.767 with an associated standard deviation equal to 0.063\n"
          ]
        }
      ]
    },
    {
      "cell_type": "markdown",
      "source": [
        "Criterion: Entropy --> recall score is 0.73,  f1 score is 0.76\n",
        "Criterion: Gini --> recall score is 0.75,  f1 score is 0.77\n",
        "\n",
        "The f1 score obtained with both criteria are practically the same. However, the gini criterion leads to a higher recall score. The recall metric is critical for this type of problem, as it is crucial to ensure that all unhealthy patients receive treatment.\n",
        "\n",
        "The model with a gini criterion and a max depth equal to 3 is selected."
      ],
      "metadata": {
        "id": "bi_dKJxFQ7nB"
      }
    },
    {
      "cell_type": "code",
      "source": [
        "model_1 = DecisionTreeClassifier(criterion='gini',max_depth=3)"
      ],
      "metadata": {
        "id": "B_hFLESts5a-"
      },
      "execution_count": null,
      "outputs": []
    },
    {
      "cell_type": "markdown",
      "source": [
        "## Bagging ensemble method\n",
        "\n",
        "Here the **Random Forest Classifier** method is used. "
      ],
      "metadata": {
        "id": "U4xbTZHHTkop"
      }
    },
    {
      "cell_type": "markdown",
      "source": [
        "### Effect of criterion with Random Forest\n",
        "The effect of the criterion is analyzed. Two criteria are used: gini and entropy. "
      ],
      "metadata": {
        "id": "jx7Ef_M3KC8m"
      }
    },
    {
      "cell_type": "code",
      "execution_count": null,
      "metadata": {
        "id": "FxsGJ11S1Gs4",
        "colab": {
          "base_uri": "https://localhost:8080/"
        },
        "outputId": "2f56a2d7-fc77-4320-fc17-5e62e9692bad"
      },
      "outputs": [
        {
          "output_type": "stream",
          "name": "stdout",
          "text": [
            "The average recall score is 0.768 with an associated standard deviation equal to 0.079\n",
            "The average f1 score is 0.809 with an associated standard deviation equal to 0.050\n"
          ]
        }
      ],
      "source": [
        "from sklearn.ensemble import RandomForestClassifier\n",
        "rfc = RandomForestClassifier(n_estimators=100,criterion='gini')\n",
        "cv = RepeatedStratifiedKFold(n_splits=5, n_repeats=3, random_state=1)\n",
        "n_scores = cross_val_score(rfc, X_train, y_train, scoring='recall', cv=cv, n_jobs=-1, error_score='raise')\n",
        "print('The average recall score is %.3f with an associated standard deviation equal to %.3f' % (np.mean(n_scores), np.std(n_scores)))\n",
        "n_scores = cross_val_score(rfc, X_train, y_train, scoring='f1', cv=cv, n_jobs=-1, error_score='raise')\n",
        "mean_f1= np.mean(n_scores)\n",
        "print('The average f1 score is %.3f with an associated standard deviation equal to %.3f' % (np.mean(n_scores), np.std(n_scores)))"
      ]
    },
    {
      "cell_type": "code",
      "source": [
        "from sklearn.ensemble import RandomForestClassifier\n",
        "rfc = RandomForestClassifier(n_estimators=100,criterion='entropy')\n",
        "cv = RepeatedStratifiedKFold(n_splits=5, n_repeats=3, random_state=1)\n",
        "n_scores = cross_val_score(rfc, X_train, y_train, scoring='recall', cv=cv, n_jobs=-1, error_score='raise')\n",
        "print('The average recall score is %.3f with an associated standard deviation equal to %.3f' % (np.mean(n_scores), np.std(n_scores)))\n",
        "n_scores = cross_val_score(rfc, X_train, y_train, scoring='f1', cv=cv, n_jobs=-1, error_score='raise')\n",
        "mean_f1= np.mean(n_scores)\n",
        "print('The average f1 score is %.3f with an associated standard deviation equal to %.3f' % (np.mean(n_scores), np.std(n_scores)))"
      ],
      "metadata": {
        "colab": {
          "base_uri": "https://localhost:8080/"
        },
        "id": "9UTPDmQTZ_nh",
        "outputId": "ddfcb2a9-7c4e-457b-d0d0-5ee099c3044f"
      },
      "execution_count": null,
      "outputs": [
        {
          "output_type": "stream",
          "name": "stdout",
          "text": [
            "The average recall score is 0.768 with an associated standard deviation equal to 0.081\n",
            "The average f1 score is 0.812 with an associated standard deviation equal to 0.061\n"
          ]
        }
      ]
    },
    {
      "cell_type": "markdown",
      "source": [
        "Two random forest models were used to classify the data. The first one uses the gini function to measure the quality of a split, while the second one uses the entropy function. The f1 score and recall metrics are used to assess the model performance. The results showed that both criteria leads to the same model performance with a recall and f1 score equal to 0.77 and 0.81, respectively. In this work, the entropy criterion is selected for this model."
      ],
      "metadata": {
        "id": "6uiw694iKLL-"
      }
    },
    {
      "cell_type": "markdown",
      "source": [
        "### Effect of the number of trees in the forest"
      ],
      "metadata": {
        "id": "vmwXU-7KKUhZ"
      }
    },
    {
      "cell_type": "code",
      "source": [
        "loop=2\n",
        "j=0\n",
        "loop = np.geomspace(2,600,20, dtype=int)\n",
        "lenloop = len(loop)+1\n",
        "mean_recall = np.zeros(lenloop-1)\n",
        "mean_f1 = np.zeros(lenloop-1)\n",
        "for n_estimators in loop:\n",
        "      rfc = RandomForestClassifier(n_estimators=n_estimators,criterion='entropy')\n",
        "      cv = RepeatedStratifiedKFold(n_splits=5, n_repeats=3, random_state=1)\n",
        "      n_scores = cross_val_score(rfc, X, y, scoring='recall', cv=cv, n_jobs=-1, error_score='raise')\n",
        "      mean_recall[j] = np.mean(n_scores)\n",
        "      print('n_estimators = %.3f : The average recall score is %.3f with an associated standard deviation equal to %.3f' % (n_estimators, np.mean(n_scores), np.std(n_scores)))\n",
        "      n_scores = cross_val_score(rfc, X, y, scoring='f1', cv=cv, n_jobs=-1, error_score='raise')\n",
        "      mean_f1[j] = np.mean(n_scores)\n",
        "      print('n_estimators = %.3f : The average f1 score is %.3f with an associated standard deviation equal to %.3f' % (n_estimators, np.mean(n_scores), np.std(n_scores)))\n",
        "      j = j + 1\n"
      ],
      "metadata": {
        "colab": {
          "base_uri": "https://localhost:8080/"
        },
        "outputId": "38101ae0-f89d-4e86-eba9-763435289e4a",
        "id": "UgqaDim_9iAq"
      },
      "execution_count": null,
      "outputs": [
        {
          "output_type": "stream",
          "name": "stdout",
          "text": [
            "n_estimators = 2.000 : The average recall score is 0.594 with an associated standard deviation equal to 0.090\n",
            "n_estimators = 2.000 : The average f1 score is 0.659 with an associated standard deviation equal to 0.092\n",
            "n_estimators = 2.000 : The average recall score is 0.546 with an associated standard deviation equal to 0.104\n",
            "n_estimators = 2.000 : The average f1 score is 0.639 with an associated standard deviation equal to 0.056\n",
            "n_estimators = 3.000 : The average recall score is 0.746 with an associated standard deviation equal to 0.107\n",
            "n_estimators = 3.000 : The average f1 score is 0.744 with an associated standard deviation equal to 0.073\n",
            "n_estimators = 4.000 : The average recall score is 0.632 with an associated standard deviation equal to 0.068\n",
            "n_estimators = 4.000 : The average f1 score is 0.710 with an associated standard deviation equal to 0.059\n",
            "n_estimators = 6.000 : The average recall score is 0.670 with an associated standard deviation equal to 0.098\n",
            "n_estimators = 6.000 : The average f1 score is 0.771 with an associated standard deviation equal to 0.047\n",
            "n_estimators = 8.000 : The average recall score is 0.705 with an associated standard deviation equal to 0.078\n",
            "n_estimators = 8.000 : The average f1 score is 0.764 with an associated standard deviation equal to 0.057\n",
            "n_estimators = 12.000 : The average recall score is 0.740 with an associated standard deviation equal to 0.087\n",
            "n_estimators = 12.000 : The average f1 score is 0.790 with an associated standard deviation equal to 0.052\n",
            "n_estimators = 16.000 : The average recall score is 0.752 with an associated standard deviation equal to 0.087\n",
            "n_estimators = 16.000 : The average f1 score is 0.777 with an associated standard deviation equal to 0.071\n",
            "n_estimators = 22.000 : The average recall score is 0.746 with an associated standard deviation equal to 0.096\n",
            "n_estimators = 22.000 : The average f1 score is 0.804 with an associated standard deviation equal to 0.066\n",
            "n_estimators = 29.000 : The average recall score is 0.775 with an associated standard deviation equal to 0.099\n",
            "n_estimators = 29.000 : The average f1 score is 0.807 with an associated standard deviation equal to 0.063\n",
            "n_estimators = 40.000 : The average recall score is 0.762 with an associated standard deviation equal to 0.098\n",
            "n_estimators = 40.000 : The average f1 score is 0.800 with an associated standard deviation equal to 0.066\n",
            "n_estimators = 54.000 : The average recall score is 0.762 with an associated standard deviation equal to 0.089\n",
            "n_estimators = 54.000 : The average f1 score is 0.811 with an associated standard deviation equal to 0.059\n",
            "n_estimators = 73.000 : The average recall score is 0.784 with an associated standard deviation equal to 0.092\n",
            "n_estimators = 73.000 : The average f1 score is 0.817 with an associated standard deviation equal to 0.058\n",
            "n_estimators = 99.000 : The average recall score is 0.768 with an associated standard deviation equal to 0.090\n",
            "n_estimators = 99.000 : The average f1 score is 0.804 with an associated standard deviation equal to 0.059\n",
            "n_estimators = 133.000 : The average recall score is 0.784 with an associated standard deviation equal to 0.085\n",
            "n_estimators = 133.000 : The average f1 score is 0.820 with an associated standard deviation equal to 0.063\n",
            "n_estimators = 180.000 : The average recall score is 0.781 with an associated standard deviation equal to 0.073\n",
            "n_estimators = 180.000 : The average f1 score is 0.810 with an associated standard deviation equal to 0.056\n",
            "n_estimators = 243.000 : The average recall score is 0.784 with an associated standard deviation equal to 0.093\n",
            "n_estimators = 243.000 : The average f1 score is 0.815 with an associated standard deviation equal to 0.057\n",
            "n_estimators = 329.000 : The average recall score is 0.781 with an associated standard deviation equal to 0.079\n",
            "n_estimators = 329.000 : The average f1 score is 0.814 with an associated standard deviation equal to 0.063\n",
            "n_estimators = 444.000 : The average recall score is 0.784 with an associated standard deviation equal to 0.087\n",
            "n_estimators = 444.000 : The average f1 score is 0.811 with an associated standard deviation equal to 0.071\n",
            "n_estimators = 600.000 : The average recall score is 0.784 with an associated standard deviation equal to 0.085\n",
            "n_estimators = 600.000 : The average f1 score is 0.815 with an associated standard deviation equal to 0.062\n"
          ]
        }
      ]
    },
    {
      "cell_type": "code",
      "source": [
        "fig,axes = plt.subplots(nrows=1,ncols=2,figsize=(12,4))\n",
        "fig.subplots_adjust(wspace=0.4,hspace=0,left=0.2, right=0.9, top=0.9, bottom=0.1)\n",
        "fontdict={  'fontsize': 12, 'fontname': 'serif'}\n",
        "axes[0].plot(loop, mean_f1,'-o')\n",
        "axes[0].set_xlabel('# of trees in the forest',fontdict)\n",
        "axes[0].set_ylabel('f1 score',fontdict)\n",
        "axes[0].set_ylim(0, 1)\n",
        "\n",
        "axes[1].plot(loop, mean_recall,'-o')\n",
        "axes[1].set_xlabel('# of trees in the forest',fontdict)\n",
        "axes[1].set_ylabel('recall',fontdict)\n",
        "axes[1].set_ylim(0, 1)\n",
        "\n",
        "\n",
        "for tick in axes[0].get_xticklabels():\n",
        "        tick.set_fontname(\"serif\")\n",
        "        tick.set_fontsize(12)\n",
        "for tick in axes[0].get_yticklabels():\n",
        "        tick.set_fontname(\"serif\")\n",
        "        tick.set_fontsize(12)\n",
        "\n",
        "for tick in axes[1].get_xticklabels():\n",
        "        tick.set_fontname(\"serif\")\n",
        "        tick.set_fontsize(12)\n",
        "for tick in axes[1].get_yticklabels():\n",
        "        tick.set_fontname(\"serif\")\n",
        "        tick.set_fontsize(12)"
      ],
      "metadata": {
        "colab": {
          "base_uri": "https://localhost:8080/"
        },
        "outputId": "9b7b15fe-d3a5-43bd-f946-d57fb8052a3e",
        "id": "FieIxYs1_q0A"
      },
      "execution_count": null,
      "outputs": [
        {
          "output_type": "display_data",
          "data": {
            "text/plain": [
              "<Figure size 864x288 with 2 Axes>"
            ],
            "image/png": "[encoded data removed]"
          },
          "metadata": {
            "needs_background": "light"
          }
        }
      ]
    },
    {
      "cell_type": "markdown",
      "source": [
        "The previous figures show the effect of the number of trees in the forest on the model performance. For a number of trees equal to 2 the recall an f1 score are equal to 0.594 and 0.659, respectively. As the number of trees increases the metrics increases. After a number of trees equal to 100 the metrics do not increase more and rather remain fairly constant with a recall equal to 0.78 and a f1 score is 0.82. Therefore, a number of trees equal to 100 is choosen. "
      ],
      "metadata": {
        "id": "jCRU8rwpGmxX"
      }
    },
    {
      "cell_type": "code",
      "source": [
        "model_2 = RandomForestClassifier(n_estimators=100,criterion='entropy')\n",
        "cv = RepeatedStratifiedKFold(n_splits=5, n_repeats=3, random_state=1)\n",
        "n_scores = cross_val_score(model_2, X_train, y_train, scoring='recall', cv=cv, n_jobs=-1, error_score='raise')\n",
        "print('The average recall score is %.3f with an associated standard deviation equal to %.3f' % (np.mean(n_scores), np.std(n_scores)))\n",
        "n_scores = cross_val_score(model_2, X_train, y_train, scoring='f1', cv=cv, n_jobs=-1, error_score='raise')\n",
        "mean_f1= np.mean(n_scores)\n",
        "print('The average f1 score is %.3f with an associated standard deviation equal to %.3f' % (np.mean(n_scores), np.std(n_scores)))"
      ],
      "metadata": {
        "id": "r0Hw0T_qlCcP",
        "colab": {
          "base_uri": "https://localhost:8080/"
        },
        "outputId": "03b8fd07-34fb-4539-c07a-b6c4f89b7682"
      },
      "execution_count": null,
      "outputs": [
        {
          "output_type": "stream",
          "name": "stdout",
          "text": [
            "The average recall score is 0.775 with an associated standard deviation equal to 0.077\n",
            "The average f1 score is 0.819 with an associated standard deviation equal to 0.064\n"
          ]
        }
      ]
    },
    {
      "cell_type": "markdown",
      "source": [
        "## Boosting ensemble method\n",
        "\n",
        "Here the **AdaBoostClassifier** method is implemented. \n",
        "\n"
      ],
      "metadata": {
        "id": "_YwTXWFPUGzx"
      }
    },
    {
      "cell_type": "markdown",
      "source": [
        "### Effect of the criterion to assess split with AdaBoostClassifier"
      ],
      "metadata": {
        "id": "DVbt7HxRdsm-"
      }
    },
    {
      "cell_type": "code",
      "execution_count": null,
      "metadata": {
        "colab": {
          "base_uri": "https://localhost:8080/"
        },
        "outputId": "1407a3a9-79ae-497c-aa54-8ba348eff461",
        "id": "8bog4n4NciAp"
      },
      "outputs": [
        {
          "output_type": "stream",
          "name": "stdout",
          "text": [
            "The average recall score is 0.775 with an associated standard deviation equal to 0.084\n",
            "The average f1 score is 0.813 with an associated standard deviation equal to 0.054\n"
          ]
        }
      ],
      "source": [
        "from sklearn.ensemble import RandomForestClassifier\n",
        "dtree = DecisionTreeClassifier(criterion='gini',max_depth=1)\n",
        "clf = AdaBoostClassifier(base_estimator=dtree,n_estimators=n_estimators, learning_rate=learning_rate, random_state=0, algorithm='SAMME')\n",
        "cv = RepeatedStratifiedKFold(n_splits=5, n_repeats=3, random_state=1)\n",
        "n_scores = cross_val_score(rfc, X_train, y_train, scoring='recall', cv=cv, n_jobs=-1, error_score='raise')\n",
        "print('The average recall score is %.3f with an associated standard deviation equal to %.3f' % (np.mean(n_scores), np.std(n_scores)))\n",
        "n_scores = cross_val_score(rfc, X_train, y_train, scoring='f1', cv=cv, n_jobs=-1, error_score='raise')\n",
        "mean_f1= np.mean(n_scores)\n",
        "print('The average f1 score is %.3f with an associated standard deviation equal to %.3f' % (np.mean(n_scores), np.std(n_scores)))"
      ]
    },
    {
      "cell_type": "code",
      "source": [
        "from sklearn.ensemble import RandomForestClassifier\n",
        "dtree = DecisionTreeClassifier(criterion='entropy',max_depth=1)\n",
        "clf = AdaBoostClassifier(base_estimator=dtree,n_estimators=n_estimators, learning_rate=learning_rate, random_state=0, algorithm='SAMME')\n",
        "cv = RepeatedStratifiedKFold(n_splits=5, n_repeats=3, random_state=1)\n",
        "n_scores = cross_val_score(clf, X_train, y_train, scoring='recall', cv=cv, n_jobs=-1, error_score='raise')\n",
        "print('The average recall score is %.3f with an associated standard deviation equal to %.3f' % (np.mean(n_scores), np.std(n_scores)))\n",
        "n_scores = cross_val_score(clf, X_train, y_train, scoring='f1', cv=cv, n_jobs=-1, error_score='raise')\n",
        "mean_f1= np.mean(n_scores)\n",
        "print('The average f1 score is %.3f with an associated standard deviation equal to %.3f' % (np.mean(n_scores), np.std(n_scores)))"
      ],
      "metadata": {
        "colab": {
          "base_uri": "https://localhost:8080/"
        },
        "outputId": "aca05b0e-dfdb-42d8-911e-05ca33e90ef2",
        "id": "9QJvyDqociAq"
      },
      "execution_count": null,
      "outputs": [
        {
          "output_type": "stream",
          "name": "stdout",
          "text": [
            "The average recall score is 0.683 with an associated standard deviation equal to 0.067\n",
            "The average f1 score is 0.690 with an associated standard deviation equal to 0.049\n"
          ]
        }
      ]
    },
    {
      "cell_type": "markdown",
      "source": [
        "Two AdaBoostClassifier models were used to classify the data. The first one uses the gini function to measure the quality of a split, while the second one uses the entropy function. The f1 score and recall metrics are used to assess the model performance. The results showed that using the gini criterion for this particular problem improved significantly the results. the recall and f1 score obtained with the gini criterion was 0.78 and 0.81, respectively. While, the metrics obtained with the entropy criterion was 0.68 and 0.69, respectively. The gini criterion is selected for this model."
      ],
      "metadata": {
        "id": "YtlT5z_VdaaZ"
      }
    },
    {
      "cell_type": "code",
      "source": [
        "from sklearn.ensemble import RandomForestClassifier\n",
        "dtree = DecisionTreeClassifier(criterion='gini')\n",
        "clf = AdaBoostClassifier(base_estimator=dtree,n_estimators=n_estimators, learning_rate=learning_rate, random_state=0, algorithm='SAMME')\n",
        "cv = RepeatedStratifiedKFold(n_splits=5, n_repeats=3, random_state=1)\n",
        "n_scores = cross_val_score(clf, X_train, y_train, scoring='recall', cv=cv, n_jobs=-1, error_score='raise')\n",
        "print('The average recall score is %.3f with an associated standard deviation equal to %.3f' % (np.mean(n_scores), np.std(n_scores)))\n",
        "n_scores = cross_val_score(clf, X_train, y_train, scoring='f1', cv=cv, n_jobs=-1, error_score='raise')\n",
        "mean_f1= np.mean(n_scores)\n",
        "print('The average f1 score is %.3f with an associated standard deviation equal to %.3f' % (np.mean(n_scores), np.std(n_scores)))"
      ],
      "metadata": {
        "colab": {
          "base_uri": "https://localhost:8080/"
        },
        "outputId": "410c7e13-d5db-4f38-d62f-66e39729c2dc",
        "id": "Zbu4D34Qc2T_"
      },
      "execution_count": null,
      "outputs": [
        {
          "output_type": "stream",
          "name": "stdout",
          "text": [
            "The average recall score is 0.714 with an associated standard deviation equal to 0.072\n",
            "The average f1 score is 0.719 with an associated standard deviation equal to 0.057\n"
          ]
        }
      ]
    },
    {
      "cell_type": "markdown",
      "source": [
        "### Effect of the The maximum number of estimators at which boosting is terminated"
      ],
      "metadata": {
        "id": "xlcEiVNAZEGn"
      }
    },
    {
      "cell_type": "code",
      "source": [
        "loop=2\n",
        "j=0\n",
        "loop = np.geomspace(2,600,20, dtype=int)\n",
        "lenloop = len(loop)+1\n",
        "mean_recall = np.zeros(lenloop-1)\n",
        "mean_f1 = np.zeros(lenloop-1)\n",
        "for n_estimators in loop:\n",
        "      clf = AdaBoostClassifier(n_estimators=n_estimators, learning_rate=learning_rate, random_state=0, algorithm='SAMME')\n",
        "      cv = RepeatedStratifiedKFold(n_splits=5, n_repeats=3, random_state=1)\n",
        "      n_scores = cross_val_score(clf, X_train, y_train, scoring='recall',  cv=cv, n_jobs=-1, error_score='raise')\n",
        "      mean_recall[j] = np.mean(n_scores)\n",
        "      print('n_estimators = %.3f : The average recall score is %.3f with an associated standard deviation equal to %.3f' % (n_estimators, np.mean(n_scores), np.std(n_scores)))\n",
        "      n_scores = cross_val_score(clf, X_train, y_train, scoring='f1', cv=cv, n_jobs=-1, error_score='raise')\n",
        "      mean_f1[j] = np.mean(n_scores)\n",
        "      print('n_estimators = %.3f : The average f1 score is %.3f with an associated standard deviation equal to %.3f' % (n_estimators, np.mean(n_scores), np.std(n_scores)))\n",
        "      j = j + 1\n"
      ],
      "metadata": {
        "colab": {
          "base_uri": "https://localhost:8080/"
        },
        "outputId": "c5c88ee1-4023-4513-d0e1-508ea7593abf",
        "id": "k2a_IDHiQiIY"
      },
      "execution_count": null,
      "outputs": [
        {
          "output_type": "stream",
          "name": "stdout",
          "text": [
            "n_estimators = 2.000 : The average recall score is 0.308 with an associated standard deviation equal to 0.085\n",
            "n_estimators = 2.000 : The average f1 score is 0.263 with an associated standard deviation equal to 0.065\n",
            "n_estimators = 2.000 : The average recall score is 0.308 with an associated standard deviation equal to 0.085\n",
            "n_estimators = 2.000 : The average f1 score is 0.263 with an associated standard deviation equal to 0.065\n",
            "n_estimators = 3.000 : The average recall score is 0.692 with an associated standard deviation equal to 0.085\n",
            "n_estimators = 3.000 : The average f1 score is 0.693 with an associated standard deviation equal to 0.056\n",
            "n_estimators = 4.000 : The average recall score is 0.308 with an associated standard deviation equal to 0.085\n",
            "n_estimators = 4.000 : The average f1 score is 0.263 with an associated standard deviation equal to 0.065\n",
            "n_estimators = 6.000 : The average recall score is 0.692 with an associated standard deviation equal to 0.085\n",
            "n_estimators = 6.000 : The average f1 score is 0.693 with an associated standard deviation equal to 0.056\n",
            "n_estimators = 8.000 : The average recall score is 0.692 with an associated standard deviation equal to 0.085\n",
            "n_estimators = 8.000 : The average f1 score is 0.693 with an associated standard deviation equal to 0.056\n",
            "n_estimators = 12.000 : The average recall score is 0.692 with an associated standard deviation equal to 0.085\n",
            "n_estimators = 12.000 : The average f1 score is 0.693 with an associated standard deviation equal to 0.056\n",
            "n_estimators = 16.000 : The average recall score is 0.692 with an associated standard deviation equal to 0.085\n",
            "n_estimators = 16.000 : The average f1 score is 0.693 with an associated standard deviation equal to 0.056\n",
            "n_estimators = 22.000 : The average recall score is 0.692 with an associated standard deviation equal to 0.085\n",
            "n_estimators = 22.000 : The average f1 score is 0.693 with an associated standard deviation equal to 0.056\n",
            "n_estimators = 29.000 : The average recall score is 0.692 with an associated standard deviation equal to 0.085\n",
            "n_estimators = 29.000 : The average f1 score is 0.693 with an associated standard deviation equal to 0.056\n",
            "n_estimators = 40.000 : The average recall score is 0.692 with an associated standard deviation equal to 0.085\n",
            "n_estimators = 40.000 : The average f1 score is 0.693 with an associated standard deviation equal to 0.056\n",
            "n_estimators = 54.000 : The average recall score is 0.692 with an associated standard deviation equal to 0.085\n",
            "n_estimators = 54.000 : The average f1 score is 0.693 with an associated standard deviation equal to 0.056\n",
            "n_estimators = 73.000 : The average recall score is 0.692 with an associated standard deviation equal to 0.085\n",
            "n_estimators = 73.000 : The average f1 score is 0.693 with an associated standard deviation equal to 0.056\n",
            "n_estimators = 99.000 : The average recall score is 0.692 with an associated standard deviation equal to 0.085\n",
            "n_estimators = 99.000 : The average f1 score is 0.693 with an associated standard deviation equal to 0.056\n",
            "n_estimators = 133.000 : The average recall score is 0.692 with an associated standard deviation equal to 0.085\n",
            "n_estimators = 133.000 : The average f1 score is 0.693 with an associated standard deviation equal to 0.056\n",
            "n_estimators = 180.000 : The average recall score is 0.692 with an associated standard deviation equal to 0.085\n",
            "n_estimators = 180.000 : The average f1 score is 0.693 with an associated standard deviation equal to 0.056\n",
            "n_estimators = 243.000 : The average recall score is 0.692 with an associated standard deviation equal to 0.085\n",
            "n_estimators = 243.000 : The average f1 score is 0.693 with an associated standard deviation equal to 0.056\n",
            "n_estimators = 329.000 : The average recall score is 0.692 with an associated standard deviation equal to 0.085\n",
            "n_estimators = 329.000 : The average f1 score is 0.693 with an associated standard deviation equal to 0.056\n",
            "n_estimators = 444.000 : The average recall score is 0.692 with an associated standard deviation equal to 0.085\n",
            "n_estimators = 444.000 : The average f1 score is 0.693 with an associated standard deviation equal to 0.056\n",
            "n_estimators = 600.000 : The average recall score is 0.692 with an associated standard deviation equal to 0.085\n",
            "n_estimators = 600.000 : The average f1 score is 0.693 with an associated standard deviation equal to 0.056\n"
          ]
        }
      ]
    },
    {
      "cell_type": "code",
      "source": [
        "fig,axes = plt.subplots(nrows=1,ncols=2,figsize=(12,4))\n",
        "fig.subplots_adjust(wspace=0.4,hspace=0,left=0.2, right=0.9, top=0.9, bottom=0.1)\n",
        "fontdict={  'fontsize': 12, 'fontname': 'serif'}\n",
        "axes[0].plot(loop, mean_f1,'-o')\n",
        "axes[0].set_xlabel('# of trees in the forest',fontdict)\n",
        "axes[0].set_ylabel('f1 score',fontdict)\n",
        "axes[0].set_ylim(0, 1)\n",
        "\n",
        "axes[1].plot(loop, mean_recall,'-o')\n",
        "axes[1].set_xlabel('# of trees in the forest',fontdict)\n",
        "axes[1].set_ylabel('recall',fontdict)\n",
        "axes[1].set_ylim(0, 1)\n",
        "\n",
        "\n",
        "for tick in axes[0].get_xticklabels():\n",
        "        tick.set_fontname(\"serif\")\n",
        "        tick.set_fontsize(12)\n",
        "for tick in axes[0].get_yticklabels():\n",
        "        tick.set_fontname(\"serif\")\n",
        "        tick.set_fontsize(12)\n",
        "\n",
        "for tick in axes[1].get_xticklabels():\n",
        "        tick.set_fontname(\"serif\")\n",
        "        tick.set_fontsize(12)\n",
        "for tick in axes[1].get_yticklabels():\n",
        "        tick.set_fontname(\"serif\")\n",
        "        tick.set_fontsize(12)"
      ],
      "metadata": {
        "colab": {
          "base_uri": "https://localhost:8080/",
          "height": 303
        },
        "outputId": "af578880-0698-41f4-d457-817175b3937e",
        "id": "7hHdr55pQiIf"
      },
      "execution_count": null,
      "outputs": [
        {
          "output_type": "display_data",
          "data": {
            "text/plain": [
              "<Figure size 864x288 with 2 Axes>"
            ],
            "image/png": "[encoded data removed]"
          },
          "metadata": {
            "needs_background": "light"
          }
        }
      ]
    },
    {
      "cell_type": "markdown",
      "source": [
        "The metrics show that for a maximum number of estimators equal to 2 the model performance is poor. However, the performance increase rapidly with the max number of estimators. For a max num of estimators equal to 4 the metrics reached a peak and after that increases in the # of estimators do not improved the model. Here a max number of estimators equal to 4 is chosen. A recall equal to 0.69 and f1 score equal to 0.69 are obtained."
      ],
      "metadata": {
        "id": "NovSx_9TZb04"
      }
    },
    {
      "cell_type": "markdown",
      "source": [
        "### Effect of learning rate for AdaBoostClassifier\n",
        "The effect of the learning rate of the model is assessed in this particular problem. 22 models with learning rates starting from 0 to 5 were fitted to the data. The performance of each model is assessed through the f1 and recall score."
      ],
      "metadata": {
        "id": "4kzQje6QKsoK"
      }
    },
    {
      "cell_type": "code",
      "source": [
        "loop=2\n",
        "j=0\n",
        "loop = np.arange(0.1,5.1,0.25)\n",
        "lenloop = len(loop)+1\n",
        "mean_recall = np.zeros(lenloop-1)\n",
        "mean_f1 = np.zeros(lenloop-1)\n",
        "for learning_rate in loop:\n",
        "      clf = AdaBoostClassifier(n_estimators=4, learning_rate=learning_rate, random_state=0, algorithm='SAMME')\n",
        "      cv = RepeatedStratifiedKFold(n_splits=5, n_repeats=3, random_state=1)\n",
        "      n_scores = cross_val_score(clf, X_train, y_train, scoring='recall', cv=cv, n_jobs=-1, error_score='raise')\n",
        "      mean_recall[j] = np.mean(n_scores)\n",
        "      print('Learning rate = %.3f : The average recall score is %.3f with an associated standard deviation equal to %.3f' % (learning_rate, np.mean(n_scores), np.std(n_scores)))\n",
        "      n_scores = cross_val_score(clf, X_train, y_train, scoring='f1', cv=cv, n_jobs=-1, error_score='raise')\n",
        "      mean_f1[j] = np.mean(n_scores)\n",
        "      #print(n_scores)\n",
        "      print('Learning rate = %.3f : The average f1 score is %.3f with an associated standard deviation equal to %.3f' % (learning_rate, np.mean(n_scores), np.std(n_scores)))\n",
        "      j = j + 1\n"
      ],
      "metadata": {
        "colab": {
          "base_uri": "https://localhost:8080/"
        },
        "id": "2oq6uH542DYb",
        "outputId": "f64b7437-36e0-4808-feb4-20706e66f343"
      },
      "execution_count": null,
      "outputs": [
        {
          "output_type": "stream",
          "name": "stdout",
          "text": [
            "Learning rate = 0.100 : The average recall score is 0.702 with an associated standard deviation equal to 0.098\n",
            "Learning rate = 0.100 : The average f1 score is 0.706 with an associated standard deviation equal to 0.076\n",
            "Learning rate = 0.350 : The average recall score is 0.778 with an associated standard deviation equal to 0.083\n",
            "Learning rate = 0.350 : The average f1 score is 0.801 with an associated standard deviation equal to 0.084\n",
            "Learning rate = 0.600 : The average recall score is 0.816 with an associated standard deviation equal to 0.055\n",
            "Learning rate = 0.600 : The average f1 score is 0.836 with an associated standard deviation equal to 0.049\n",
            "Learning rate = 0.850 : The average recall score is 0.816 with an associated standard deviation equal to 0.055\n",
            "Learning rate = 0.850 : The average f1 score is 0.836 with an associated standard deviation equal to 0.049\n",
            "Learning rate = 1.100 : The average recall score is 0.797 with an associated standard deviation equal to 0.096\n",
            "Learning rate = 1.100 : The average f1 score is 0.795 with an associated standard deviation equal to 0.073\n",
            "Learning rate = 1.350 : The average recall score is 0.794 with an associated standard deviation equal to 0.091\n",
            "Learning rate = 1.350 : The average f1 score is 0.778 with an associated standard deviation equal to 0.061\n",
            "Learning rate = 1.600 : The average recall score is 0.816 with an associated standard deviation equal to 0.103\n",
            "Learning rate = 1.600 : The average f1 score is 0.777 with an associated standard deviation equal to 0.056\n",
            "Learning rate = 1.850 : The average recall score is 0.762 with an associated standard deviation equal to 0.119\n",
            "Learning rate = 1.850 : The average f1 score is 0.739 with an associated standard deviation equal to 0.080\n",
            "Learning rate = 2.100 : The average recall score is 0.337 with an associated standard deviation equal to 0.117\n",
            "Learning rate = 2.100 : The average f1 score is 0.308 with an associated standard deviation equal to 0.136\n",
            "Learning rate = 2.350 : The average recall score is 0.308 with an associated standard deviation equal to 0.085\n",
            "Learning rate = 2.350 : The average f1 score is 0.263 with an associated standard deviation equal to 0.065\n",
            "Learning rate = 2.600 : The average recall score is 0.308 with an associated standard deviation equal to 0.085\n",
            "Learning rate = 2.600 : The average f1 score is 0.263 with an associated standard deviation equal to 0.065\n",
            "Learning rate = 2.850 : The average recall score is 0.308 with an associated standard deviation equal to 0.085\n",
            "Learning rate = 2.850 : The average f1 score is 0.263 with an associated standard deviation equal to 0.065\n",
            "Learning rate = 3.100 : The average recall score is 0.308 with an associated standard deviation equal to 0.085\n",
            "Learning rate = 3.100 : The average f1 score is 0.263 with an associated standard deviation equal to 0.065\n",
            "Learning rate = 3.350 : The average recall score is 0.308 with an associated standard deviation equal to 0.085\n",
            "Learning rate = 3.350 : The average f1 score is 0.263 with an associated standard deviation equal to 0.065\n",
            "Learning rate = 3.600 : The average recall score is 0.308 with an associated standard deviation equal to 0.085\n",
            "Learning rate = 3.600 : The average f1 score is 0.263 with an associated standard deviation equal to 0.065\n",
            "Learning rate = 3.850 : The average recall score is 0.308 with an associated standard deviation equal to 0.085\n",
            "Learning rate = 3.850 : The average f1 score is 0.263 with an associated standard deviation equal to 0.065\n",
            "Learning rate = 4.100 : The average recall score is 0.308 with an associated standard deviation equal to 0.085\n",
            "Learning rate = 4.100 : The average f1 score is 0.263 with an associated standard deviation equal to 0.065\n",
            "Learning rate = 4.350 : The average recall score is 0.308 with an associated standard deviation equal to 0.085\n",
            "Learning rate = 4.350 : The average f1 score is 0.263 with an associated standard deviation equal to 0.065\n",
            "Learning rate = 4.600 : The average recall score is 0.308 with an associated standard deviation equal to 0.085\n",
            "Learning rate = 4.600 : The average f1 score is 0.263 with an associated standard deviation equal to 0.065\n",
            "Learning rate = 4.850 : The average recall score is 0.308 with an associated standard deviation equal to 0.085\n",
            "Learning rate = 4.850 : The average f1 score is 0.263 with an associated standard deviation equal to 0.065\n"
          ]
        }
      ]
    },
    {
      "cell_type": "markdown",
      "source": [
        "In the following code, the results will be plotted. "
      ],
      "metadata": {
        "id": "nfT2gZJA5QJD"
      }
    },
    {
      "cell_type": "code",
      "source": [
        "fig,axes = plt.subplots(nrows=1,ncols=2,figsize=(12,4))\n",
        "fig.subplots_adjust(wspace=0.4,hspace=0,left=0.2, right=0.9, top=0.9, bottom=0.1)\n",
        "fontdict={  'fontsize': 12, 'fontname': 'serif'}\n",
        "axes[0].plot(loop, mean_f1,'-o')\n",
        "axes[0].set_xlabel('Learning rate',fontdict)\n",
        "axes[0].set_ylabel('f1 score',fontdict)\n",
        "axes[0].set_ylim(0, 1)\n",
        "\n",
        "axes[1].plot(loop, mean_recall,'-o')\n",
        "axes[1].set_xlabel('Learning rate',fontdict)\n",
        "axes[1].set_ylabel('recall',fontdict)\n",
        "axes[1].set_ylim(0, 1)\n",
        "\n",
        "\n",
        "for tick in axes[0].get_xticklabels():\n",
        "        tick.set_fontname(\"serif\")\n",
        "        tick.set_fontsize(12)\n",
        "for tick in axes[0].get_yticklabels():\n",
        "        tick.set_fontname(\"serif\")\n",
        "        tick.set_fontsize(12)\n",
        "\n",
        "for tick in axes[1].get_xticklabels():\n",
        "        tick.set_fontname(\"serif\")\n",
        "        tick.set_fontsize(12)\n",
        "for tick in axes[1].get_yticklabels():\n",
        "        tick.set_fontname(\"serif\")\n",
        "        tick.set_fontsize(12)"
      ],
      "metadata": {
        "colab": {
          "base_uri": "https://localhost:8080/",
          "height": 303
        },
        "outputId": "0300439b-edab-479a-aebd-8005c9278303",
        "id": "ipz430sR15Fq"
      },
      "execution_count": null,
      "outputs": [
        {
          "output_type": "display_data",
          "data": {
            "text/plain": [
              "<Figure size 864x288 with 2 Axes>"
            ],
            "image/png": "[encoded data removed]"
          },
          "metadata": {
            "needs_background": "light"
          }
        }
      ]
    },
    {
      "cell_type": "markdown",
      "source": [
        "The metrics for a learning rate equal to 0.1 are around 0.7, as the learning rate started increasing the scores increased as well. However, for learning rates larger than 2, the metrics decreased significantly. A learning rate equal to 1 is determined as the optimal parameter for this work. The f1 score and recall metric obtained with a learning parameter equal to 1 are both 0.81.\n",
        "\n"
      ],
      "metadata": {
        "id": "o7drqEwR5UJn"
      }
    },
    {
      "cell_type": "code",
      "source": [
        "model_3 = AdaBoostClassifier(n_estimators=4, learning_rate=1, random_state=0, algorithm='SAMME')\n",
        "cv = RepeatedStratifiedKFold(n_splits=5, n_repeats=3, random_state=1)\n",
        "n_scores = cross_val_score(model_3, X_train, y_train, scoring='recall', cv=cv, n_jobs=-1, error_score='raise')\n",
        "print('Learning rate = %.3f : The average recall score is %.3f with an associated standard deviation equal to %.3f' % (learning_rate, np.mean(n_scores), np.std(n_scores)))\n",
        "n_scores = cross_val_score(model_3, X_train, y_train, scoring='f1', cv=cv, n_jobs=-1, error_score='raise')\n",
        "print('Learning rate = %.3f : The average f1 score is %.3f with an associated standard deviation equal to %.3f' % (learning_rate, np.mean(n_scores), np.std(n_scores)))"
      ],
      "metadata": {
        "colab": {
          "base_uri": "https://localhost:8080/"
        },
        "id": "4pE-sEb2ksN4",
        "outputId": "a54c3919-80e8-4fdd-8e1b-e7291cac4971"
      },
      "execution_count": null,
      "outputs": [
        {
          "output_type": "stream",
          "name": "stdout",
          "text": [
            "Learning rate = 4.850 : The average recall score is 0.810 with an associated standard deviation equal to 0.070\n",
            "Learning rate = 4.850 : The average f1 score is 0.813 with an associated standard deviation equal to 0.064\n"
          ]
        }
      ]
    },
    {
      "cell_type": "markdown",
      "source": [
        "The results obtained with the AdaBoostClassifier algorithm are equal to 0.81 for both metric recall and f1-score."
      ],
      "metadata": {
        "id": "a3fhxEvcQCIZ"
      }
    },
    {
      "cell_type": "markdown",
      "source": [
        "## Comments on the difference/ similarity of the results\n",
        "\n",
        "* The effect of the critera to assess a split lead to different results. While the Random Forest performanced better with the entropy criteria, the AdaBoost Classifier works bette with the gini function. \n",
        "\n",
        "* The required number of trees to get the best results for the Random Forest algorithm is around 100 trees, while for the AdaBoost algorithm the required number of trees is just 4. \n",
        "\n",
        "* The best results obtained with the Random Forest algorithm are: recall = 0.78 and f1-score = 0.82. While for the case of AdaBoost the metrics are recall = 0.81 and f1-score = 0.81. Both algorithms lead to similar results. There is a slightly difference in the recall metric, having the AdaBoost a slightly better performance in this metric. "
      ],
      "metadata": {
        "id": "QOh1fAVibfky"
      }
    },
    {
      "cell_type": "markdown",
      "source": [
        "## Comparisons and Conclusions"
      ],
      "metadata": {
        "id": "cxIq5li0P7O1"
      }
    },
    {
      "cell_type": "markdown",
      "source": [
        "Heart disease is one of the top leading cause of death in the world. Most heart diseases are not genetical and they develop through years. Therefore, there is a need to predict potential future patients with heart disease. The objective is to develop a model able to predict if a particular patient will have heart disease in the future or not based on a limit number of information from the patient. Three different techniques were analyzed to classify the binary data set: Decision Tree Classifier, Random Forest, AdaBoost classifier. \n",
        "\n",
        "### Metrics and their importance and impact\n",
        "\n",
        "The model were assessed with two metrics, recall and f1-score. The recall metric was selected due to the nature of the problem. The recall metric can be explained as the metric to answer the following question, within everything that actually is positive, how many did the model suceed to find?. It is crucial that all patients who actually have heart disease receive a more robust medical test to confirm the disease, even if it means that some healthy patients are given this additional test. Therefore, the recall metric is used to assess the achieved models. However, the cost of this exam is high and there is a need to minimize the unnecessary exams. Therefore, the f1-score is used. The f1 score is the harmonic mean of precision and recall. \n",
        "\n",
        "The criteria to select different metrics is important, in this particular problem the weight given to the recall metric is higher with respect to the f1-score appreciation. This criteria impacted the choice of the Decission Tree Classifier model. For this case the model with a gini function to measure the quality of a split was used over the entropy function because using the gini function lead to a higher recall score (0.75), while the f1-score for both is practically equal. If the recall metric had been ignored in this work, the entropy function may had been selected.\n",
        "\n",
        "### Model Comparison\n",
        "\n",
        "Three different techniques were analyzed to classify the binary data set: Decision Tree Classifier, Random Forest, AdaBoost classifier. The hyperparameters were tunned for each model and the recall and f1-score metrics are used to assess their performance. The models were validated using k-cross validation with k = 5. The summary of the results are shown below:\n",
        "\n",
        "Decision Tree Classifier: recall score = 0.75, f1-score = 0.77\n",
        "\n",
        "Random Forest: recall score = 0.78, f1-score = 0.82\n",
        "\n",
        "AdaBoostClassifier: recall score = 0.81, f1-score = 0.81\n",
        "\n",
        "It is clear that the Random Forest and AdaBoostClassifier outperform the basic Decision Tree Classifier. This is expected since the Decision Tree Classifier is a single tree and do not learn from its misclassifications. On the other hand, the Random Forest and AdaBoost are more robust algorithms. There is a difference of 0.01 (1%) between the two models for the f1 score, the Random Forest has the larger f1-score. However the AdaBoost model obtained the largest recall metric (0.81) while the Random Forest obtained a value equal to 0.78, a difference of 0.03 (3%). Based on the nature of the current problem, priority is placed on the recall metric and the AdaBoost Classifier should be chosen. \n",
        "\n",
        "Until now, the models has been improved using the training data which has been cross-validated with the k-fold cross validation. However, a proper assesment of the performance of the model should be based on data that the models have never used in the training process. In the following codes, the three models will be assessed based on completely new data and a final model choice is made. "
      ],
      "metadata": {
        "id": "9eYAmkkIpOy_"
      }
    },
    {
      "cell_type": "code",
      "source": [
        "def f1_score(y_act,y_model):\n",
        "    \n",
        "  tp = sum((y_act==1) & (y_model==1))\n",
        "  tn = sum((y_act==0) & (y_model==0))\n",
        "  fn = sum((y_act==1) & (y_model==0))\n",
        "  fp = sum((y_act==0) & (y_model==1))\n",
        "  precision = tp/(tp+fp)\n",
        "  recall = tp/(tp+fn)\n",
        "  f1 = 2*(precision*recall)/(precision+recall)\n",
        "  return recall, f1"
      ],
      "metadata": {
        "id": "l4xFUAz_llcj"
      },
      "execution_count": null,
      "outputs": []
    },
    {
      "cell_type": "code",
      "source": [
        "model_1.fit(X_train,y_train)\n",
        "y_pred_1 = model_1.predict(X_test)\n",
        "print('DecesionTreeClassifier recall and f1-score, respectively: %.2f %.2f ' % (f1_score(y_test, y_pred_1)))\n",
        "\n",
        "model_2.fit(X_train,y_train)\n",
        "y_pred_2 = model_2.predict(X_test)\n",
        "print('Random Forest recall and f1-score, respectively: %.2f %.2f ' % (f1_score(y_test, y_pred_2)))\n",
        "\n",
        "model_3.fit(X_train,y_train)\n",
        "y_pred_3 = model_3.predict(X_test)\n",
        "print('AdaBoost recall and f1-score, respectively: %.2f %.2f ' % (f1_score(y_test, y_pred_3)))"
      ],
      "metadata": {
        "colab": {
          "base_uri": "https://localhost:8080/"
        },
        "id": "3lmyRHXJjDp2",
        "outputId": "7c5a207f-c68e-4834-cafd-ae59edf932fb"
      },
      "execution_count": null,
      "outputs": [
        {
          "output_type": "stream",
          "name": "stdout",
          "text": [
            "DecesionTreeClassifier recall and f1-score, respectively: 0.67 0.69 \n",
            "Random Forest recall and f1-score, respectively: 0.73 0.73 \n",
            "AdaBoost recall and f1-score, respectively: 0.67 0.69 \n"
          ]
        }
      ]
    },
    {
      "cell_type": "markdown",
      "source": [
        "The performance of the models with new data is shown above. The Decision Tree Classifier and the AdaBoost models obtained the same metric values for both recall and f1-score, 0.67 and 0.69, respectivelty. While the Random Forest method obtained a relatively better performance with a value of 0.73 for both metrics (recall and f1-score).\n",
        "\n",
        "The AdaBoost model performed slightly better (3% difference) for the recall metric when cross-validation was used with respect to the Random Forest. Note, however that those metrics can be biased since the hyperparameters tuning was based using the training data. When new data is used to assess the models performance, the Random Forest model outperform the Adaboost model by 6% for the recall metric.\n",
        "\n",
        "Based on this results the obtained Random Forest model is chosen to be the best model option (among the models analyzed) for the current problem. "
      ],
      "metadata": {
        "id": "Ywehn0qMF7vq"
      }
    }
  ]
}
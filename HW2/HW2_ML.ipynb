{
  "nbformat": 4,
  "nbformat_minor": 0,
  "metadata": {
    "colab": {
      "provenance": [],
      "collapsed_sections": [],
      "authorship_tag": "ABX9TyNEc9IpX9/J7Go/b47y8jHu",
      "include_colab_link": true
    },
    "kernelspec": {
      "name": "python3",
      "display_name": "Python 3"
    },
    "language_info": {
      "name": "python"
    }
  },
  "cells": [
    {
      "cell_type": "markdown",
      "metadata": {
        "id": "view-in-github",
        "colab_type": "text"
      },
      "source": [
        "<a href=\"https://colab.research.google.com/github/AlejandroSepulvedaGuatecique/Projects-in-Ml-and-AI-/blob/main/HW2/HW2_ML.ipynb\" target=\"_parent\"><img src=\"https://colab.research.google.com/assets/colab-badge.svg\" alt=\"Open In Colab\"/></a>"
      ]
    },
    {
      "cell_type": "code",
      "source": [
        "# import required libraries\n",
        "import pandas as pd\n",
        "import matplotlib.pyplot as plt\n",
        "import seaborn as sns\n",
        "import numpy as np\n",
        "from sklearn.datasets import make_classification\n",
        "from sklearn.model_selection import train_test_split\n",
        "from sklearn.preprocessing import Normalizer\n",
        "import time"
      ],
      "metadata": {
        "id": "vkcoDi9v9n6-"
      },
      "execution_count": 1,
      "outputs": []
    },
    {
      "cell_type": "code",
      "source": [
        "# data source: https://www.kaggle.com/datasets/rishidamarla/heart-disease-prediction\n",
        "# note: we have combined Training and Testing data from Kaggle into a single data frame\n",
        "df = pd.read_csv('https://raw.githubusercontent.com/AlejandroSepulvedaGuatecique/Projects-in-Ml-and-AI-/main/HW1/Heart_Disease_Prediction.csv')\n",
        "df.columns = [c.replace(' ', '_') for c in df.columns] #Some columns names have spaces, here spaces are replaced by '_'\n",
        "mapping = {'Presence': 1, 'Absence': 0}\n",
        "df = df.replace({'Heart_Disease': mapping})\n",
        "\n",
        "y = df['Heart_Disease']\n",
        "X = df[['Age', 'Sex', 'Chest_pain_type', 'BP', 'Cholesterol', 'FBS_over_120',\n",
        "        'EKG_results', 'Max_HR', 'Exercise_angina', 'ST_depression',\n",
        "        'Slope_of_ST', 'Number_of_vessels_fluro', 'Thallium']]\n",
        "\n",
        "m = len(y)\n",
        "n = np.size(X,1)\n",
        "X = np.hstack((np.ones((m,1)),X))\n",
        "#y = y[:,np.newaxis]"
      ],
      "metadata": {
        "id": "9jsdy2MJxIQf"
      },
      "execution_count": 102,
      "outputs": []
    },
    {
      "cell_type": "markdown",
      "source": [
        "# TASK 1\n",
        "Implement a Decision Tree Classifier for your classification problem. You may use a built-in package to implement your classifier. Try modifying one or more of the input parameters and describe what changes you notice in your results. Clearly describe how these factors are affecting your output"
      ],
      "metadata": {
        "id": "SoXJ0M8OtTaH"
      }
    },
    {
      "cell_type": "markdown",
      "source": [
        "## Implementation of Decision Tree Classifier\n",
        "\n",
        "Herein a decission tree classifier is implemented using the DecisionTreeClassifier built-in package from Scikit Learn. \n",
        "\n",
        "In the following codes the effect of the maximum depth criteria to measure the quality of a split is compared and analyzed, finally the best model is chosen. All the models were assessed with cross validation.  "
      ],
      "metadata": {
        "id": "QS1jZ5jxtcdd"
      }
    },
    {
      "cell_type": "code",
      "source": [
        "# import required libraries\n",
        "from sklearn.tree import DecisionTreeClassifier\n",
        "from sklearn.metrics import classification_report, confusion_matrix\n",
        "from sklearn.model_selection import cross_val_score\n",
        "from sklearn.model_selection import RepeatedStratifiedKFold\n",
        "\n",
        "# splitting the data\n",
        "X_train, X_test, y_train, y_test = train_test_split(X, y,random_state=2, test_size=0.1)\n",
        "target_names = ['Abscense', 'Presence']\n",
        "X = X_train\n",
        "y = y_train"
      ],
      "metadata": {
        "id": "TG_Zjpd5za72"
      },
      "execution_count": 108,
      "outputs": []
    },
    {
      "cell_type": "markdown",
      "source": [
        "## Effect of Maximum depth for decission tree classifier\n",
        "\n",
        "Here, 30 decission tree classifier are fitted to the data. The first tree has a max depth equal to 1, while the second tree has a max depth equal to 2, and so on, until the last decission tree with a max depth equal to 30. "
      ],
      "metadata": {
        "id": "Qpjm4a0WJ_u4"
      }
    },
    {
      "cell_type": "code",
      "source": [
        "# Fitting first decission tree classifier \n",
        "loop=31\n",
        "mean_recall = np.zeros(loop-1)\n",
        "mean_f1 = np.zeros(loop-1)\n",
        "for maxdepth in np.arange(1,loop,1):\n",
        "      dtree = DecisionTreeClassifier(criterion='entropy',max_depth=maxdepth)\n",
        "      #dtree.fit(X_train,y_train)\n",
        "      #predictions = dtree.predict(X_test)\n",
        "      #print('Max depth =', dtree.tree_.max_depth)  \n",
        "      #print('The number of nodes (internal nodes + leaves) in the tree =', dtree.tree_.node_count)  \n",
        "      #print('confusion matrix= \\n',confusion_matrix(y_test, predictions))\n",
        "      #print(classification_report(y_test, predictions, target_names=target_names))\n",
        "\n",
        "      # Testing the decission tree classifier with the test set\n",
        "\n",
        "      cv = RepeatedStratifiedKFold(n_splits=5, n_repeats=3, random_state=1)\n",
        "      n_scores = cross_val_score(dtree, X, y, scoring='recall', cv=cv, n_jobs=-1, error_score='raise')\n",
        "      mean_recall[maxdepth-1] = np.mean(n_scores)\n",
        "      print('Max depth = %.3f : The average recall score is %.3f with an associated standard deviation equal to %.3f' % (maxdepth, np.mean(n_scores), np.std(n_scores)))\n",
        "      n_scores = cross_val_score(dtree, X, y, scoring='f1', cv=cv, n_jobs=-1, error_score='raise')\n",
        "      mean_f1[maxdepth-1] = np.mean(n_scores)\n",
        "      #print(n_scores)\n",
        "      print('Max depth = %.3f : The average f1 score is %.3f with an associated standard deviation equal to %.3f' % (maxdepth, np.mean(n_scores), np.std(n_scores)))\n"
      ],
      "metadata": {
        "colab": {
          "base_uri": "https://localhost:8080/"
        },
        "outputId": "78a539b2-4e85-450c-e5f3-b0769c92cd49",
        "id": "Wp7ljqzjsRKP"
      },
      "execution_count": 109,
      "outputs": [
        {
          "output_type": "stream",
          "name": "stdout",
          "text": [
            "Max depth = 1.000 : The average recall score is 0.683 with an associated standard deviation equal to 0.067\n",
            "Max depth = 1.000 : The average f1 score is 0.690 with an associated standard deviation equal to 0.049\n",
            "Max depth = 2.000 : The average recall score is 0.584 with an associated standard deviation equal to 0.120\n",
            "Max depth = 2.000 : The average f1 score is 0.662 with an associated standard deviation equal to 0.069\n",
            "Max depth = 3.000 : The average recall score is 0.727 with an associated standard deviation equal to 0.119\n",
            "Max depth = 3.000 : The average f1 score is 0.762 with an associated standard deviation equal to 0.075\n",
            "Max depth = 4.000 : The average recall score is 0.654 with an associated standard deviation equal to 0.093\n",
            "Max depth = 4.000 : The average f1 score is 0.725 with an associated standard deviation equal to 0.067\n",
            "Max depth = 5.000 : The average recall score is 0.721 with an associated standard deviation equal to 0.093\n",
            "Max depth = 5.000 : The average f1 score is 0.727 with an associated standard deviation equal to 0.072\n",
            "Max depth = 6.000 : The average recall score is 0.724 with an associated standard deviation equal to 0.080\n",
            "Max depth = 6.000 : The average f1 score is 0.726 with an associated standard deviation equal to 0.071\n",
            "Max depth = 7.000 : The average recall score is 0.721 with an associated standard deviation equal to 0.090\n",
            "Max depth = 7.000 : The average f1 score is 0.718 with an associated standard deviation equal to 0.064\n",
            "Max depth = 8.000 : The average recall score is 0.717 with an associated standard deviation equal to 0.088\n",
            "Max depth = 8.000 : The average f1 score is 0.722 with an associated standard deviation equal to 0.070\n",
            "Max depth = 9.000 : The average recall score is 0.724 with an associated standard deviation equal to 0.091\n",
            "Max depth = 9.000 : The average f1 score is 0.711 with an associated standard deviation equal to 0.065\n",
            "Max depth = 10.000 : The average recall score is 0.721 with an associated standard deviation equal to 0.100\n",
            "Max depth = 10.000 : The average f1 score is 0.728 with an associated standard deviation equal to 0.070\n",
            "Max depth = 11.000 : The average recall score is 0.717 with an associated standard deviation equal to 0.098\n",
            "Max depth = 11.000 : The average f1 score is 0.714 with an associated standard deviation equal to 0.067\n",
            "Max depth = 12.000 : The average recall score is 0.711 with an associated standard deviation equal to 0.091\n",
            "Max depth = 12.000 : The average f1 score is 0.721 with an associated standard deviation equal to 0.061\n",
            "Max depth = 13.000 : The average recall score is 0.721 with an associated standard deviation equal to 0.087\n",
            "Max depth = 13.000 : The average f1 score is 0.719 with an associated standard deviation equal to 0.063\n",
            "Max depth = 14.000 : The average recall score is 0.702 with an associated standard deviation equal to 0.108\n",
            "Max depth = 14.000 : The average f1 score is 0.731 with an associated standard deviation equal to 0.069\n",
            "Max depth = 15.000 : The average recall score is 0.724 with an associated standard deviation equal to 0.084\n",
            "Max depth = 15.000 : The average f1 score is 0.717 with an associated standard deviation equal to 0.058\n",
            "Max depth = 16.000 : The average recall score is 0.730 with an associated standard deviation equal to 0.083\n",
            "Max depth = 16.000 : The average f1 score is 0.717 with an associated standard deviation equal to 0.064\n",
            "Max depth = 17.000 : The average recall score is 0.721 with an associated standard deviation equal to 0.095\n",
            "Max depth = 17.000 : The average f1 score is 0.726 with an associated standard deviation equal to 0.072\n",
            "Max depth = 18.000 : The average recall score is 0.727 with an associated standard deviation equal to 0.089\n",
            "Max depth = 18.000 : The average f1 score is 0.723 with an associated standard deviation equal to 0.055\n",
            "Max depth = 19.000 : The average recall score is 0.708 with an associated standard deviation equal to 0.088\n",
            "Max depth = 19.000 : The average f1 score is 0.731 with an associated standard deviation equal to 0.067\n",
            "Max depth = 20.000 : The average recall score is 0.702 with an associated standard deviation equal to 0.102\n",
            "Max depth = 20.000 : The average f1 score is 0.723 with an associated standard deviation equal to 0.058\n",
            "Max depth = 21.000 : The average recall score is 0.724 with an associated standard deviation equal to 0.084\n",
            "Max depth = 21.000 : The average f1 score is 0.728 with an associated standard deviation equal to 0.056\n",
            "Max depth = 22.000 : The average recall score is 0.708 with an associated standard deviation equal to 0.092\n",
            "Max depth = 22.000 : The average f1 score is 0.711 with an associated standard deviation equal to 0.067\n",
            "Max depth = 23.000 : The average recall score is 0.727 with an associated standard deviation equal to 0.091\n",
            "Max depth = 23.000 : The average f1 score is 0.722 with an associated standard deviation equal to 0.065\n",
            "Max depth = 24.000 : The average recall score is 0.708 with an associated standard deviation equal to 0.097\n",
            "Max depth = 24.000 : The average f1 score is 0.726 with an associated standard deviation equal to 0.062\n",
            "Max depth = 25.000 : The average recall score is 0.721 with an associated standard deviation equal to 0.083\n",
            "Max depth = 25.000 : The average f1 score is 0.720 with an associated standard deviation equal to 0.065\n",
            "Max depth = 26.000 : The average recall score is 0.714 with an associated standard deviation equal to 0.103\n",
            "Max depth = 26.000 : The average f1 score is 0.713 with an associated standard deviation equal to 0.062\n",
            "Max depth = 27.000 : The average recall score is 0.733 with an associated standard deviation equal to 0.081\n",
            "Max depth = 27.000 : The average f1 score is 0.725 with an associated standard deviation equal to 0.058\n",
            "Max depth = 28.000 : The average recall score is 0.724 with an associated standard deviation equal to 0.087\n",
            "Max depth = 28.000 : The average f1 score is 0.722 with an associated standard deviation equal to 0.064\n",
            "Max depth = 29.000 : The average recall score is 0.721 with an associated standard deviation equal to 0.076\n",
            "Max depth = 29.000 : The average f1 score is 0.721 with an associated standard deviation equal to 0.061\n",
            "Max depth = 30.000 : The average recall score is 0.717 with an associated standard deviation equal to 0.094\n",
            "Max depth = 30.000 : The average f1 score is 0.725 with an associated standard deviation equal to 0.060\n"
          ]
        }
      ]
    },
    {
      "cell_type": "markdown",
      "source": [
        "The models are validated using k-cross validation with a k equal to 5. Also the models are assessed based on the f1 score and recall metrics. The following figure shows the obtained results. "
      ],
      "metadata": {
        "id": "QVglt6H1K75h"
      }
    },
    {
      "cell_type": "code",
      "source": [
        "fig,axes = plt.subplots(nrows=1,ncols=2,figsize=(12,4))\n",
        "fig.subplots_adjust(wspace=0.4,hspace=0,left=0.2, right=0.9, top=0.9, bottom=0.1)\n",
        "fontdict={  'fontsize': 12, 'fontname': 'serif'}\n",
        "axes[0].plot(mean_f1,'-o')\n",
        "axes[0].set_xlabel('Max depth of the tree',fontdict)\n",
        "axes[0].set_ylabel('f1 score',fontdict)\n",
        "axes[0].set_ylim(0.78, 0.625)\n",
        "\n",
        "axes[1].plot(mean_recall,'-o')\n",
        "axes[1].set_xlabel('Max depth of the tree',fontdict)\n",
        "axes[1].set_ylabel('recall',fontdict)\n",
        "axes[1].set_ylim(0.75, 0.55)\n",
        "\n",
        "\n",
        "for tick in axes[0].get_xticklabels():\n",
        "        tick.set_fontname(\"serif\")\n",
        "        tick.set_fontsize(12)\n",
        "for tick in axes[0].get_yticklabels():\n",
        "        tick.set_fontname(\"serif\")\n",
        "        tick.set_fontsize(12)\n",
        "\n",
        "for tick in axes[1].get_xticklabels():\n",
        "        tick.set_fontname(\"serif\")\n",
        "        tick.set_fontsize(12)\n",
        "for tick in axes[1].get_yticklabels():\n",
        "        tick.set_fontname(\"serif\")\n",
        "        tick.set_fontsize(12)"
      ],
      "metadata": {
        "colab": {
          "base_uri": "https://localhost:8080/",
          "height": 303
        },
        "id": "jYCUT8ShE-ba",
        "outputId": "8ae493e1-9878-4e12-ec6d-7de53b5f37b3"
      },
      "execution_count": 110,
      "outputs": [
        {
          "output_type": "display_data",
          "data": {
            "text/plain": [
              "<Figure size 864x288 with 2 Axes>"
            ],
            "image/png": "[encoded data removed]"
          },
          "metadata": {
            "needs_background": "light"
          }
        }
      ]
    },
    {
      "cell_type": "markdown",
      "source": [
        "Note that the figures have the y axis inversed. For a maximum depth equal to 1 were not optimal the f1 score was close to 0.69. This is a sign that the model may be underfitting the data. The optimal metric values were found at a maximum depth equal to 3 (f1=0.75, recall=0.74). After a maximum depth equal to 3 the f1 metric started to decrease again, suggesting an overfitting issue. With respect to the recall metric, small values are found at maximum depths equal to 1 and 2, suggesting an underfitting case. For max depth equal 3 a relatively large value is found, when the depth is increased, the metric does not increase, it remains close to the value obtained at max depth equal to 3. Therefore, the selected maximum depth value for this particular problem is 3."
      ],
      "metadata": {
        "id": "EAp_-lnPLxuX"
      }
    },
    {
      "cell_type": "markdown",
      "source": [
        "## Effect of criterion\n",
        "\n",
        "Let's see the effect of the function to measure the quality of a split. In the following codes the Gini and entropy criterion are used and the obtained results are compared"
      ],
      "metadata": {
        "id": "iR_1mIeO2Buo"
      }
    },
    {
      "cell_type": "code",
      "source": [
        "# Using entropy criterion\n",
        "maxdepth=3\n",
        "dtree = DecisionTreeClassifier(criterion='entropy',max_depth=3)\n",
        "cv = RepeatedStratifiedKFold(n_splits=5, n_repeats=3, random_state=1)\n",
        "n_scores = cross_val_score(dtree, X, y, scoring='recall', cv=cv, n_jobs=-1, error_score='raise')\n",
        "mean_recall= np.mean(n_scores)\n",
        "print('Max depth = %.3f : The average recall score is %.3f with an associated standard deviation equal to %.3f' % (maxdepth, np.mean(n_scores), np.std(n_scores)))\n",
        "n_scores = cross_val_score(dtree, X, y, scoring='f1', cv=cv, n_jobs=-1, error_score='raise')\n",
        "mean_f1= np.mean(n_scores)\n",
        "#print(n_scores)\n",
        "print('Max depth = %.3f : The average f1 score is %.3f with an associated standard deviation equal to %.3f' % (maxdepth, np.mean(n_scores), np.std(n_scores)))"
      ],
      "metadata": {
        "colab": {
          "base_uri": "https://localhost:8080/"
        },
        "outputId": "3c4974b9-f487-46a2-82b1-5de4373c18c7",
        "id": "KI3YTHLmx_Yu"
      },
      "execution_count": 111,
      "outputs": [
        {
          "output_type": "stream",
          "name": "stdout",
          "text": [
            "Max depth = 3.000 : The average recall score is 0.724 with an associated standard deviation equal to 0.118\n",
            "Max depth = 3.000 : The average f1 score is 0.762 with an associated standard deviation equal to 0.075\n"
          ]
        }
      ]
    },
    {
      "cell_type": "code",
      "source": [
        "# Fitting first decission tree classifier\n",
        "maxdepth=3\n",
        "dtree = DecisionTreeClassifier(criterion='gini',max_depth=3)\n",
        "cv = RepeatedStratifiedKFold(n_splits=5, n_repeats=3, random_state=1)\n",
        "n_scores = cross_val_score(dtree, X, y, scoring='recall', cv=cv, n_jobs=-1, error_score='raise')\n",
        "mean_recall= np.mean(n_scores)\n",
        "print('Max depth = %.3f : The average recall score is %.3f with an associated standard deviation equal to %.3f' % (maxdepth, np.mean(n_scores), np.std(n_scores)))\n",
        "n_scores = cross_val_score(dtree, X, y, scoring='f1', cv=cv, n_jobs=-1, error_score='raise')\n",
        "mean_f1= np.mean(n_scores)\n",
        "#print(n_scores)\n",
        "print('Max depth = %.3f : The average f1 score is %.3f with an associated standard deviation equal to %.3f' % (maxdepth, np.mean(n_scores), np.std(n_scores)))"
      ],
      "metadata": {
        "colab": {
          "base_uri": "https://localhost:8080/"
        },
        "outputId": "d65f5a61-5fee-4278-d25b-ba898480b228",
        "id": "IWMvvCypOXRk"
      },
      "execution_count": 112,
      "outputs": [
        {
          "output_type": "stream",
          "name": "stdout",
          "text": [
            "Max depth = 3.000 : The average recall score is 0.752 with an associated standard deviation equal to 0.113\n",
            "Max depth = 3.000 : The average f1 score is 0.769 with an associated standard deviation equal to 0.065\n"
          ]
        }
      ]
    },
    {
      "cell_type": "markdown",
      "source": [
        "Criterion: Entropy --> recall score is 0.724,  f1 score is 0.762\n",
        "Criterion: Gini --> recall score is 0.752,  f1 score is 0.769\n",
        "\n",
        "The f1 score obtained with both criteria are practically the same. However, the gini criterion leads to a higher recall score. \n",
        "\n",
        "The model with a gini criterion and a max depth equal to 3 is selected."
      ],
      "metadata": {
        "id": "bi_dKJxFQ7nB"
      }
    },
    {
      "cell_type": "markdown",
      "source": [
        "## Bagging ensemble method\n",
        "\n",
        "Here the Random Forest Classifier method is used. "
      ],
      "metadata": {
        "id": "U4xbTZHHTkop"
      }
    },
    {
      "cell_type": "code",
      "execution_count": 114,
      "metadata": {
        "id": "FxsGJ11S1Gs4",
        "colab": {
          "base_uri": "https://localhost:8080/"
        },
        "outputId": "0479d696-1ed0-4177-cd40-497647c013ea"
      },
      "outputs": [
        {
          "output_type": "stream",
          "name": "stdout",
          "text": [
            "Max depth = 3.000 : The average recall score is 0.771 with an associated standard deviation equal to 0.084\n",
            "Max depth = 3.000 : The average f1 score is 0.769 with an associated standard deviation equal to 0.064\n"
          ]
        }
      ],
      "source": [
        "from sklearn.ensemble import RandomForestClassifier\n",
        "rfc = RandomForestClassifier(n_estimators=100,criterion='gini')\n",
        "cv = RepeatedStratifiedKFold(n_splits=5, n_repeats=3, random_state=1)\n",
        "n_scores = cross_val_score(rfc, X, y, scoring='recall', cv=cv, n_jobs=-1, error_score='raise')\n",
        "print('The average recall score is %.3f with an associated standard deviation equal to %.3f' % (np.mean(n_scores), np.std(n_scores)))\n",
        "n_scores = cross_val_score(dtree, X, y, scoring='f1', cv=cv, n_jobs=-1, error_score='raise')\n",
        "mean_f1= np.mean(n_scores)\n",
        "print('The average f1 score is %.3f with an associated standard deviation equal to %.3f' % (np.mean(n_scores), np.std(n_scores)))"
      ]
    },
    {
      "cell_type": "code",
      "source": [
        "from sklearn.ensemble import RandomForestClassifier\n",
        "rfc = RandomForestClassifier(n_estimators=100,criterion='entropy')\n",
        "cv = RepeatedStratifiedKFold(n_splits=5, n_repeats=3, random_state=1)\n",
        "n_scores = cross_val_score(rfc, X, y, scoring='recall', cv=cv, n_jobs=-1, error_score='raise')\n",
        "print('The average recall score is %.3f with an associated standard deviation equal to %.3f' % (np.mean(n_scores), np.std(n_scores)))\n",
        "n_scores = cross_val_score(dtree, X, y, scoring='f1', cv=cv, n_jobs=-1, error_score='raise')\n",
        "mean_f1= np.mean(n_scores)\n",
        "print('The average f1 score is %.3f with an associated standard deviation equal to %.3f' % (np.mean(n_scores), np.std(n_scores)))"
      ],
      "metadata": {
        "colab": {
          "base_uri": "https://localhost:8080/"
        },
        "id": "9UTPDmQTZ_nh",
        "outputId": "55670e1b-ed07-464b-c9ec-35e5b4126c29"
      },
      "execution_count": 118,
      "outputs": [
        {
          "output_type": "stream",
          "name": "stdout",
          "text": [
            "The average recall score is 0.771 with an associated standard deviation equal to 0.086\n",
            "The average f1 score is 0.770 with an associated standard deviation equal to 0.063\n"
          ]
        }
      ]
    },
    {
      "cell_type": "markdown",
      "source": [
        "## Boosting ensemble method\n",
        "\n",
        "Here the AdaBoostClassifier method is implemented"
      ],
      "metadata": {
        "id": "_YwTXWFPUGzx"
      }
    },
    {
      "cell_type": "code",
      "source": [
        "from sklearn.ensemble import AdaBoostClassifier\n",
        "from sklearn.datasets import make_classification\n",
        "\n",
        "clf = AdaBoostClassifier(n_estimators=4, random_state=0, algorithm='SAMME')\n",
        "cv = RepeatedStratifiedKFold(n_splits=5, n_repeats=3, random_state=1)\n",
        "n_scores = cross_val_score(clf, X, y, scoring='recall', cv=cv, n_jobs=-1, error_score='raise')\n",
        "print('The average recall score is %.3f with an associated standard deviation equal to %.3f' % (np.mean(n_scores), np.std(n_scores)))\n",
        "n_scores = cross_val_score(dtree, X, y, scoring='f1', cv=cv, n_jobs=-1, error_score='raise')\n",
        "mean_f1= np.mean(n_scores)\n",
        "print('The average f1 score is %.3f with an associated standard deviation equal to %.3f' % (np.mean(n_scores), np.std(n_scores)))"
      ],
      "metadata": {
        "colab": {
          "base_uri": "https://localhost:8080/"
        },
        "id": "YlQ1aV_mDt1F",
        "outputId": "875bef08-0f6e-40d8-cb58-1e2c85ec0ebe"
      },
      "execution_count": 116,
      "outputs": [
        {
          "output_type": "stream",
          "name": "stdout",
          "text": [
            "The average recall score is 0.810 with an associated standard deviation equal to 0.070\n",
            "The average f1 score is 0.771 with an associated standard deviation equal to 0.065\n"
          ]
        }
      ]
    },
    {
      "cell_type": "code",
      "source": [
        "from sklearn.ensemble import AdaBoostClassifier\n",
        "from sklearn.datasets import make_classification\n",
        "\n",
        "clf = AdaBoostClassifier(n_estimators=4, learning_rate=10, random_state=0, algorithm='SAMME')\n",
        "cv = RepeatedStratifiedKFold(n_splits=5, n_repeats=3, random_state=1)\n",
        "n_scores = cross_val_score(clf, X, y, scoring='recall', cv=cv, n_jobs=-1, error_score='raise')\n",
        "print('The average recall score is %.3f with an associated standard deviation equal to %.3f' % (np.mean(n_scores), np.std(n_scores)))\n",
        "n_scores = cross_val_score(dtree, X, y, scoring='f1', cv=cv, n_jobs=-1, error_score='raise')\n",
        "mean_f1= np.mean(n_scores)\n",
        "print('The average f1 score is %.3f with an associated standard deviation equal to %.3f' % (np.mean(n_scores), np.std(n_scores)))"
      ],
      "metadata": {
        "colab": {
          "base_uri": "https://localhost:8080/"
        },
        "outputId": "270c3fe5-c9a9-417e-8ecf-f750befc6f2d",
        "id": "-_tXZHD3iFX0"
      },
      "execution_count": 126,
      "outputs": [
        {
          "output_type": "stream",
          "name": "stdout",
          "text": [
            "The average recall score is 0.692 with an associated standard deviation equal to 0.085\n",
            "The average f1 score is 0.772 with an associated standard deviation equal to 0.064\n"
          ]
        }
      ]
    },
    {
      "cell_type": "code",
      "source": [
        "A = classification_report(y_test, predictions, target_names=target_names)\n",
        "\n",
        "print(A[1:168])\n",
        "\n",
        "help(dtree.tree_)"
      ],
      "metadata": {
        "id": "htHWUQKfwQGh"
      },
      "execution_count": null,
      "outputs": []
    },
    {
      "cell_type": "code",
      "source": [
        "\n"
      ],
      "metadata": {
        "colab": {
          "base_uri": "https://localhost:8080/"
        },
        "id": "cC2YxAmuPF1R",
        "outputId": "787c9b08-5232-4f9a-d428-f794797ccca6"
      },
      "execution_count": null,
      "outputs": [
        {
          "output_type": "stream",
          "name": "stdout",
          "text": [
            "[0.8        0.84615385 0.69565217 0.93617021 0.73469388 0.79166667\n",
            " 0.89795918 0.68181818 0.7826087  0.80851064 0.7826087  0.66666667\n",
            " 0.60465116 0.89795918 0.68292683]\n",
            "Accuracy: 0.774 (0.093)\n"
          ]
        }
      ]
    }
  ]
}
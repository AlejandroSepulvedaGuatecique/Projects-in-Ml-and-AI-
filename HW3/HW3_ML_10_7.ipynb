{
  "nbformat": 4,
  "nbformat_minor": 0,
  "metadata": {
    "colab": {
      "provenance": [],
      "collapsed_sections": [],
      "authorship_tag": "ABX9TyObACg2vbbPWtVyz0D8ttWo",
      "include_colab_link": true
    },
    "kernelspec": {
      "name": "python3",
      "display_name": "Python 3"
    },
    "language_info": {
      "name": "python"
    }
  },
  "cells": [
    {
      "cell_type": "markdown",
      "metadata": {
        "id": "view-in-github",
        "colab_type": "text"
      },
      "source": [
        "<a href=\"https://colab.research.google.com/github/AlejandroSepulvedaGuatecique/Projects-in-Ml-and-AI-/blob/main/HW3/HW3_ML_10_7.ipynb\" target=\"_parent\"><img src=\"https://colab.research.google.com/assets/colab-badge.svg\" alt=\"Open In Colab\"/></a>"
      ]
    },
    {
      "cell_type": "markdown",
      "source": [
        "# HOMEWORK 3: DEEP LEARNING"
      ],
      "metadata": {
        "id": "yMHMy6uzV0Ce"
      }
    },
    {
      "cell_type": "markdown",
      "source": [
        "## RESOURCES USED TO LEARN THE TENSORFLOW FRAMEWORK"
      ],
      "metadata": {
        "id": "Fm1JBA5-WQlg"
      }
    },
    {
      "cell_type": "markdown",
      "source": [
        "Tensorflow is the framework selected to implement the Neural Network model. Different resources were used from Tensorflow documentation to articles in publishing platform (e.g. towards data science). Each resource used to develop this work is listed below along with a brief description:\n",
        "\n",
        "* [Introduction to NN on TF](https://towardsdatascience.com/a-simple-introduction-to-tensorflow-d992eb2e3dbb): This article provides a quick introduction to TensorFlow functions and how to develop a Neural Network using TensorFlow. The article helped me to get the general idea. \n",
        "\n",
        "* [Keras Sequential Model](https://keras.io/guides/sequential_model/): The sequential model from keras library is a key function to build Neural Networks in Tensorflow. This link provides guidance on how to use them. \n",
        "\n",
        "* [TF Keras layers Dense](https://www.tensorflow.org/api_docs/python/tf/keras/layers/Dense): This link gives information regarding the arguments, input shape and outshape of the regular densely-connected NN layer. Here the activitation function, regularization and the input shape information was useful. \n",
        "\n",
        "* [compile function](https://www.tensorflow.org/api_docs/python/tf/keras/Model#compile): model compile is the function to provide the optimizer, the loss function and the metrics. This link is the TensorFlow manual for the model compile function. \n",
        "\n",
        "* [fit model function](https://www.tensorflow.org/api_docs/python/tf/keras/Model#fit) model fit is the function to train the ML model to a particular data set. The batch size and number of epochs are defined in this step. This link is the TF manual for the fit model function.\n",
        "\n",
        "* [Regularization implementation](https://towardsdatascience.com/regularization-techniques-and-their-implementation-in-tensorflow-keras-c06e7551e709) L2 regularization is introduced and explained in this article using keras and tensorflow."
      ],
      "metadata": {
        "id": "KIXiUwG_Wbm4"
      }
    },
    {
      "cell_type": "markdown",
      "source": [
        "## PROJECT DESIGN AND IMPLEMENTATION"
      ],
      "metadata": {
        "id": "sX87GT8WWiZs"
      }
    },
    {
      "cell_type": "markdown",
      "source": [
        "The objective of this project is to develop a Neural Network to classify clothing articles based on images. The data set is provided by Zalando which is a publicly traded German online retailer of clothing articles. The data set contains 70000 images with the associated classification label. Each image is given as a 28x28 grayscale format. Each pixel is represented by single pixel-value indicating the lightness or darkness of the pixel. The higher the number the darker the pixel is. The pixel value is an integer between 0 and 255. The data set can be downloaded from this link [Data](https://github.com/zalandoresearch/fashion-mnist)"
      ],
      "metadata": {
        "id": "MCE2p_PSeCgZ"
      }
    },
    {
      "cell_type": "markdown",
      "source": [
        "### EXPLORATORY DATA ANALYSIS"
      ],
      "metadata": {
        "id": "fq4BiuVnWnvP"
      }
    },
    {
      "cell_type": "code",
      "source": [
        "import tensorflow as tf\n",
        "from tensorflow import keras\n",
        "import numpy as np\n",
        "import matplotlib.pyplot as plt"
      ],
      "metadata": {
        "id": "9lYNjfhtgXeh"
      },
      "execution_count": 1,
      "outputs": []
    },
    {
      "cell_type": "code",
      "source": [
        "(X_train, y_train), (X_test, y_test) = keras.datasets.fashion_mnist.load_data()\n",
        "X = np.concatenate((X_train,X_test), axis=0)\n",
        "y = np.concatenate((y_train,y_test), axis=0)\n",
        "class_names = ['T-shirt/top','Trouser','Pullover','Dress','Coat','Sandal','Shirt','Sneaker','Bag','Ankle boot']"
      ],
      "metadata": {
        "id": "dkgP6BzFhPwg",
        "colab": {
          "base_uri": "https://localhost:8080/"
        },
        "outputId": "bc00c554-fe11-4769-8fdf-5409482ee022"
      },
      "execution_count": 2,
      "outputs": [
        {
          "output_type": "stream",
          "name": "stdout",
          "text": [
            "Downloading data from https://storage.googleapis.com/tensorflow/tf-keras-datasets/train-labels-idx1-ubyte.gz\n",
            "32768/29515 [=================================] - 0s 0us/step\n",
            "40960/29515 [=========================================] - 0s 0us/step\n",
            "Downloading data from https://storage.googleapis.com/tensorflow/tf-keras-datasets/train-images-idx3-ubyte.gz\n",
            "26427392/26421880 [==============================] - 0s 0us/step\n",
            "26435584/26421880 [==============================] - 0s 0us/step\n",
            "Downloading data from https://storage.googleapis.com/tensorflow/tf-keras-datasets/t10k-labels-idx1-ubyte.gz\n",
            "16384/5148 [===============================================================================================] - 0s 0us/step\n",
            "Downloading data from https://storage.googleapis.com/tensorflow/tf-keras-datasets/t10k-images-idx3-ubyte.gz\n",
            "4423680/4422102 [==============================] - 0s 0us/step\n",
            "4431872/4422102 [==============================] - 0s 0us/step\n"
          ]
        }
      ]
    },
    {
      "cell_type": "code",
      "source": [
        "# specify the number of rows and columns you want to see\n",
        "num_row = 4\n",
        "num_col = 8\n",
        "\n",
        "# get a segment of the dataset\n",
        "num = num_row*num_col\n",
        "images = X[:num]\n",
        "labels = y[:num]\n",
        "\n",
        "# plot images\n",
        "fig, axes = plt.subplots(num_row, num_col, figsize=(1.5*num_col,2*num_row))\n",
        "for i in range(num_row*num_col):\n",
        "    ax = axes[i//num_col, i%num_col]\n",
        "    ax.imshow(images[i], cmap='gray')\n",
        "    ax.set_title('{}'.format(class_names[labels[i]]))\n",
        "plt.tight_layout()\n",
        "plt.show()"
      ],
      "metadata": {
        "colab": {
          "base_uri": "https://localhost:8080/",
          "height": 564
        },
        "id": "DvKaLJMzhGKs",
        "outputId": "d3511da2-45f5-4d52-fd05-ac36d24e95ca"
      },
      "execution_count": 17,
      "outputs": [
        {
          "output_type": "display_data",
          "data": {
            "text/plain": [
              "<Figure size 864x576 with 32 Axes>"
            ],
            "image/png": "[encoded data removed]"
          },
          "metadata": {
            "needs_background": "light"
          }
        }
      ]
    },
    {
      "cell_type": "markdown",
      "source": [
        "Here, we can see a sample of the data set. The data set are images of 10 different clothing articles in grey scale. The labels goes from 0 to 9 and the definition is as follows:\n",
        "\n",
        "* 0 T-shirt/top\n",
        "* 1 Trouser\n",
        "* 2 Pullover\n",
        "* 3 Dress\n",
        "* 4 Coat\n",
        "* 5 Sandal\n",
        "* 6 Shirt\n",
        "* 7 Sneaker\n",
        "* 8 Bag\n",
        "* 9 Ankle boot\n",
        "\n",
        "Based on the images, one can expect different challenges. The clothing articles coat, pullover, dress and t-shirt/top have a similar shape and it is possible that a human would made some errors when labeling these articles based on grey scale image. The same comment may apply to sneakers, sandals and angle boats. On the other hand, trouser and bag may be easier to identify. These comments are based from a human perspective. During the analysis these comments will be verified. Nevertheless anticipating possible problems it is a good practice to planned areas to improved on. "
      ],
      "metadata": {
        "id": "6MRMTjQMiFD6"
      }
    },
    {
      "cell_type": "code",
      "source": [
        "unique, counts = np.unique(y, return_counts=True)\n",
        "print(np.asarray((unique, counts)).T)"
      ],
      "metadata": {
        "colab": {
          "base_uri": "https://localhost:8080/"
        },
        "id": "7_lFg5ggL4Sv",
        "outputId": "e5ea87f0-a012-48ba-e285-cd72e372f9fe"
      },
      "execution_count": null,
      "outputs": [
        {
          "output_type": "stream",
          "name": "stdout",
          "text": [
            "[[   0 7000]\n",
            " [   1 7000]\n",
            " [   2 7000]\n",
            " [   3 7000]\n",
            " [   4 7000]\n",
            " [   5 7000]\n",
            " [   6 7000]\n",
            " [   7 7000]\n",
            " [   8 7000]\n",
            " [   9 7000]]\n"
          ]
        }
      ]
    },
    {
      "cell_type": "code",
      "source": [
        "import matplotlib.pyplot as plt\n",
        "fig = plt.figure(figsize=(8,5))\n",
        "ax = fig.add_axes([0,0,1,1])\n",
        "langs = ['C', 'C++', 'Java', 'Python', 'PHP']\n",
        "students = counts\n",
        "ax.bar(class_names,students,0.4)\n",
        "fontdict={  'fontsize': 16, 'fontname': 'serif'}\n",
        "ax.set_ylabel('frequency',fontdict)\n",
        "for tick in ax.get_xticklabels():\n",
        "        tick.set_fontname(\"serif\")\n",
        "        tick.set_fontsize(12)\n",
        "for tick in ax.get_yticklabels():\n",
        "        tick.set_fontname(\"serif\")\n",
        "        tick.set_fontsize(12)\n",
        "plt.show()"
      ],
      "metadata": {
        "colab": {
          "base_uri": "https://localhost:8080/",
          "height": 411
        },
        "id": "MckgdrudMkCB",
        "outputId": "52989321-8b64-4312-ec1f-35dbfd5b847b"
      },
      "execution_count": null,
      "outputs": [
        {
          "output_type": "display_data",
          "data": {
            "text/plain": [
              "<Figure size 576x360 with 1 Axes>"
            ],
            "image/png": "[encoded data removed]"
          },
          "metadata": {
            "needs_background": "light"
          }
        }
      ]
    },
    {
      "cell_type": "markdown",
      "source": [
        "This bar graph shows the data distribution among the labels. The data set is evenly distributed among each clothing article. Each label has 7000 examples. Data distribution is important since it may lead to biased models when the data is not evenly distributed. "
      ],
      "metadata": {
        "id": "RGw3tLdVNNuk"
      }
    },
    {
      "cell_type": "markdown",
      "source": [
        "### TRAIN-DEV-TEST SPLIT"
      ],
      "metadata": {
        "id": "e3uim6O3XMvt"
      }
    },
    {
      "cell_type": "markdown",
      "source": [
        "Here we will pre-process the data. The data is initially given as a train and test set. However, for this project we want to split the data in three parts: training, validation and test data sets. Also, the pixel-values should be normalized. In this work, they will be normalized to have a range between 0 and 1, therefore all the pixel values will be divided by 255. "
      ],
      "metadata": {
        "id": "oJx7UZIIXSrV"
      }
    },
    {
      "cell_type": "code",
      "source": [
        "# loading the data\n",
        "(X_train, y_train), (X_test, y_test) = keras.datasets.fashion_mnist.load_data()\n",
        "X = np.concatenate((X_train,X_test), axis=0)\n",
        "y = np.concatenate((y_train,y_test), axis=0)\n",
        "X = X/255.0\n"
      ],
      "metadata": {
        "id": "SxUsJk9ukxJ2"
      },
      "execution_count": 3,
      "outputs": []
    },
    {
      "cell_type": "markdown",
      "source": [
        "In addition the data should be shuffle before it is used to train the Neural network.  Finally, the data is splitted in three parts as follows: 80% to the training data set and 10% for both the validation and test data set. "
      ],
      "metadata": {
        "id": "-mwRdIzvlvTm"
      }
    },
    {
      "cell_type": "code",
      "source": [
        "np.random.seed(42)\n",
        "A = np.arange(0,69999)\n",
        "np.random.shuffle(A)\n",
        "train, validate, test = np.split(A,[int(.8*len(A)), int(.9*len(A))])\n",
        "X_train = X[train]\n",
        "X_val = X[validate]\n",
        "X_test = X[test]\n",
        "y_train = y[train]\n",
        "y_val = y[validate]\n",
        "y_test = y[test]\n",
        "print('X_train shape is: ' + str(X_train.shape))\n",
        "print('X_val shape is:  '  + str(X_val.shape))\n",
        "print('X_test shape is:  '  + str(X_test.shape))\n",
        "print('y_train shape is: ' + str(y_train.shape))\n",
        "print('y_val shape is:  '  + str(y_val.shape))\n",
        "print('y_test shape is:  '  + str(y_test.shape))"
      ],
      "metadata": {
        "colab": {
          "base_uri": "https://localhost:8080/"
        },
        "id": "LNjKFosmlpRY",
        "outputId": "37f0a681-024d-4698-81bf-99006308529e"
      },
      "execution_count": 4,
      "outputs": [
        {
          "output_type": "stream",
          "name": "stdout",
          "text": [
            "X_train shape is: (55999, 28, 28)\n",
            "X_val shape is:  (7000, 28, 28)\n",
            "X_test shape is:  (7000, 28, 28)\n",
            "y_train shape is: (55999,)\n",
            "y_val shape is:  (7000,)\n",
            "y_test shape is:  (7000,)\n"
          ]
        }
      ]
    },
    {
      "cell_type": "markdown",
      "source": [
        "### FORWARD PROPAGATION IMPLEMENTATION"
      ],
      "metadata": {
        "id": "xBLqp_cnXqpa"
      }
    },
    {
      "cell_type": "markdown",
      "source": [
        "In this step, I will define the architecture of the Neural Network. The architecture of the Neural Network is composed of two layers as follows:\n",
        " * 1 hidden layer with 128 nodes and the rectified linear activation function (ReLU) is used as the activation function for this layer. ReLU is a piecewise linear function that will output the input directly if it positive, otherwise, it will output zero. \n",
        " * The second layer is the output layer with 10 nodes since we have 10 different class labels. The activation function is the softmax function which will give us the associated probability of each class for a particular test set\n",
        " * Note that there is an initial layer if the code, however it has no effect on the Neural Network analysis. The initial layer is reshaping the image data from a 28x28 matrix to a 1D vector. "
      ],
      "metadata": {
        "id": "RYlcJhgRTKJX"
      }
    },
    {
      "cell_type": "code",
      "source": [
        "del model\n",
        "model = tf.keras.models.Sequential([ \n",
        "  tf.keras.layers.Flatten(input_shape=(28, 28)), \n",
        "  tf.keras.layers.Dense(128, activation='relu'),    \n",
        "  tf.keras.layers.Dense(10, activation='softmax')     \n",
        "])"
      ],
      "metadata": {
        "id": "Arvo3mGfJp8D"
      },
      "execution_count": 18,
      "outputs": []
    },
    {
      "cell_type": "code",
      "source": [
        "print(model.summary())"
      ],
      "metadata": {
        "colab": {
          "base_uri": "https://localhost:8080/"
        },
        "id": "wE-spN-w33QE",
        "outputId": "38150bad-dc40-42cd-b297-32c7a6e15a83"
      },
      "execution_count": 19,
      "outputs": [
        {
          "output_type": "stream",
          "name": "stdout",
          "text": [
            "Model: \"sequential_1\"\n",
            "_________________________________________________________________\n",
            " Layer (type)                Output Shape              Param #   \n",
            "=================================================================\n",
            " flatten_1 (Flatten)         (None, 784)               0         \n",
            "                                                                 \n",
            " dense_4 (Dense)             (None, 128)               100480    \n",
            "                                                                 \n",
            " dense_5 (Dense)             (None, 10)                1290      \n",
            "                                                                 \n",
            "=================================================================\n",
            "Total params: 101,770\n",
            "Trainable params: 101,770\n",
            "Non-trainable params: 0\n",
            "_________________________________________________________________\n",
            "None\n"
          ]
        }
      ]
    },
    {
      "cell_type": "markdown",
      "source": [
        "### DEFINING COST FUNCTION AND GRADIENT DESCENT IMPLEMENTATION"
      ],
      "metadata": {
        "id": "_09mYi6dYLdh"
      }
    },
    {
      "cell_type": "markdown",
      "source": [
        "For this work, the Sparse Categorical Cross entropy is used as the loss function. The hyperparameters are trained using the gradient descent algorithm and the Adam optimization is applied. The metric used to evaluate this ML model is accuracy. The accuracy is the ratio between the corrected predictions over the number of test instances. This metric is selected since there is no particular reason to prioratize recall or precision over the predictions. A miss-classification of a particular label is as important as other labels. "
      ],
      "metadata": {
        "id": "MSe2EnMQYQYF"
      }
    },
    {
      "cell_type": "code",
      "source": [
        "model.compile(optimizer='adam',\n",
        "              loss=tf.keras.losses.SparseCategoricalCrossentropy(from_logits=True),\n",
        "              metrics=['accuracy'])"
      ],
      "metadata": {
        "id": "NLKGFIJxtNic"
      },
      "execution_count": 20,
      "outputs": []
    },
    {
      "cell_type": "markdown",
      "source": [
        "Finally the model is trained with the train data set. "
      ],
      "metadata": {
        "id": "y_V8tUQW4Lfd"
      }
    },
    {
      "cell_type": "code",
      "source": [
        "history = model.fit(X_train, y_train, epochs=5, batch_size=2**10)"
      ],
      "metadata": {
        "colab": {
          "base_uri": "https://localhost:8080/"
        },
        "id": "J9hKnc6FJzp-",
        "outputId": "53e7b44e-ce90-479b-a6e6-864ca22864a7"
      },
      "execution_count": 21,
      "outputs": [
        {
          "output_type": "stream",
          "name": "stdout",
          "text": [
            "Epoch 1/5\n"
          ]
        },
        {
          "output_type": "stream",
          "name": "stderr",
          "text": [
            "/usr/local/lib/python3.7/dist-packages/tensorflow/python/util/dispatch.py:1082: UserWarning: \"`sparse_categorical_crossentropy` received `from_logits=True`, but the `output` argument was produced by a sigmoid or softmax activation and thus does not represent logits. Was this intended?\"\n",
            "  return dispatch_target(*args, **kwargs)\n"
          ]
        },
        {
          "output_type": "stream",
          "name": "stdout",
          "text": [
            "55/55 [==============================] - 1s 12ms/step - loss: 0.8827 - accuracy: 0.7009\n",
            "Epoch 2/5\n",
            "55/55 [==============================] - 1s 12ms/step - loss: 0.5193 - accuracy: 0.8246\n",
            "Epoch 3/5\n",
            "55/55 [==============================] - 1s 12ms/step - loss: 0.4612 - accuracy: 0.8427\n",
            "Epoch 4/5\n",
            "55/55 [==============================] - 1s 12ms/step - loss: 0.4279 - accuracy: 0.8537\n",
            "Epoch 5/5\n",
            "55/55 [==============================] - 1s 12ms/step - loss: 0.4048 - accuracy: 0.8596\n"
          ]
        }
      ]
    },
    {
      "cell_type": "code",
      "source": [
        "loss = history.history['loss']\n",
        "accuracy = history.history['accuracy']"
      ],
      "metadata": {
        "id": "PR6ij8Ad-hHc"
      },
      "execution_count": 22,
      "outputs": []
    },
    {
      "cell_type": "code",
      "source": [
        "fig,axes = plt.subplots(nrows=1,ncols=2,figsize=(12,4))\n",
        "fig.subplots_adjust(wspace=0.4,hspace=0,left=0.2, right=0.9, top=0.9, bottom=0.1)\n",
        "fontdict={  'fontsize': 12, 'fontname': 'serif'}\n",
        "axes[0].plot(loss,'-o')\n",
        "axes[0].set_xlabel('epoch',fontdict)\n",
        "axes[0].set_ylabel('loss',fontdict)\n",
        "#axes[0].set_ylim(0.14, 0.18)\n",
        "\n",
        "axes[1].plot(accuracy,'-o')\n",
        "axes[1].set_xlabel('epoch',fontdict)\n",
        "axes[1].set_ylabel('accuracy',fontdict)\n",
        "#axes[1].set_ylim(0.94, 0.95)\n",
        "\n",
        "\n",
        "for tick in axes[0].get_xticklabels():\n",
        "        tick.set_fontname(\"serif\")\n",
        "        tick.set_fontsize(12)\n",
        "for tick in axes[0].get_yticklabels():\n",
        "        tick.set_fontname(\"serif\")\n",
        "        tick.set_fontsize(12)\n",
        "\n",
        "for tick in axes[1].get_xticklabels():\n",
        "        tick.set_fontname(\"serif\")\n",
        "        tick.set_fontsize(12)\n",
        "for tick in axes[1].get_yticklabels():\n",
        "        tick.set_fontname(\"serif\")\n",
        "        tick.set_fontsize(12)"
      ],
      "metadata": {
        "colab": {
          "base_uri": "https://localhost:8080/",
          "height": 300
        },
        "id": "UoO1Krwi_yKt",
        "outputId": "bd0c09ce-8004-45d9-daef-fb16a761ad8e"
      },
      "execution_count": 23,
      "outputs": [
        {
          "output_type": "display_data",
          "data": {
            "text/plain": [
              "<Figure size 864x288 with 2 Axes>"
            ],
            "image/png": "[encoded data removed]"
          },
          "metadata": {
            "needs_background": "light"
          }
        }
      ]
    },
    {
      "cell_type": "markdown",
      "source": [
        "In this figure we can see how the loss is decreasing as the number of epoch increases. On the other hand the accuracy is also increasing as the number of epoch increases. However, neither the loss nor the accuracy are settling, this is an indicator that we may be underfitting the data. Nevertheless, the hyperparameter tunning will be done in a future section of this work. In the hyperparameter tunning section the validation set will be used."
      ],
      "metadata": {
        "id": "s_yy4Bt2BEcY"
      }
    },
    {
      "cell_type": "markdown",
      "source": [
        "### PRESENTING RESULTS BASED ON TEST SET"
      ],
      "metadata": {
        "id": "5KzrfEttYcXA"
      }
    },
    {
      "cell_type": "markdown",
      "source": [
        "The accuracy metric computed before was based on the training data set, however the metric should be computed on the test data set. "
      ],
      "metadata": {
        "id": "Ek7u_am4GYC-"
      }
    },
    {
      "cell_type": "code",
      "source": [
        "loss, acc = model.evaluate(X_test, y_test, verbose = 1)\n",
        "print('Test accuracy: ', acc)"
      ],
      "metadata": {
        "colab": {
          "base_uri": "https://localhost:8080/"
        },
        "id": "1yTexetfGS94",
        "outputId": "ef0955ed-9f1a-4067-8e6c-56b364a012d6"
      },
      "execution_count": 24,
      "outputs": [
        {
          "output_type": "stream",
          "name": "stdout",
          "text": [
            "219/219 [==============================] - 0s 1ms/step - loss: 0.4062 - accuracy: 0.8586\n",
            "Test accuracy:  0.8585714101791382\n"
          ]
        }
      ]
    },
    {
      "cell_type": "markdown",
      "source": [
        "An accuracy of 0.86 (86%) was obtained using the test data set. This means that 6300 out of 7000 examples were classified correctly. Note that the validation data set has not been used. This is because the hyperparameters tunning have not been done. The following section will take care of that. "
      ],
      "metadata": {
        "id": "akrH_60RYhWX"
      }
    },
    {
      "cell_type": "markdown",
      "source": [
        "### TUNNING AND DISCUSSION OF ARCHITECTURE, HYPERPARAMETERS AND OPTIMIZATION FEATURES"
      ],
      "metadata": {
        "id": "ZBJfGty4YwPV"
      }
    },
    {
      "cell_type": "markdown",
      "source": [
        "### HIDDEN LAYERS EFFECT"
      ],
      "metadata": {
        "id": "LnogwEwtWH8G"
      }
    },
    {
      "cell_type": "markdown",
      "source": [
        "Lets start by changing the Neural Network architecture of the problem. Before a 2 layer Neural Network was defined. In this case, the Neural Network will have **3 hidden layers** with the relu activation function, the number of nodes associated with each layer is 128. The output layer will remain as before (10 nodes and softmax activation function). "
      ],
      "metadata": {
        "id": "_cuAQrTkQgNl"
      }
    },
    {
      "cell_type": "code",
      "source": [
        "model = tf.keras.models.Sequential([ \n",
        "  tf.keras.layers.Flatten(input_shape=(28, 28)), \n",
        "  tf.keras.layers.Dense(128, activation='relu'),\n",
        "  tf.keras.layers.Dense(128, activation='relu'),        \n",
        "  tf.keras.layers.Dense(128, activation='relu'),    \n",
        "  tf.keras.layers.Dense(10, activation='softmax')     \n",
        "])\n",
        "print(model.summary())\n",
        "\n",
        "model.compile(optimizer='adam',\n",
        "              loss=tf.keras.losses.SparseCategoricalCrossentropy(from_logits=True),\n",
        "              metrics=['accuracy'])\n",
        "LOSS_v = np.zeros(5,)\n",
        "ACC_v = np.zeros(5,)\n",
        "LOSS_t = np.zeros(5,)\n",
        "ACC_t = np.zeros(5,)\n",
        "for i in range(1,6,1):\n",
        "    history = model.fit(X_train, y_train, epochs=i, batch_size=2**10)\n",
        "    # test the model on validation data\n",
        "    loss, acc = model.evaluate(X_val, y_val, verbose = 1)\n",
        "    LOSS_v[i-1] = loss; ACC_v[i-1] = acc\n",
        "    loss, acc = model.evaluate(X_train, y_train, verbose = 1)\n",
        "    LOSS_t[i-1] = loss; ACC_t[i-1] = acc"
      ],
      "metadata": {
        "colab": {
          "base_uri": "https://localhost:8080/"
        },
        "id": "XQY8M1MEcRX_",
        "outputId": "39d2e411-9758-459b-e162-454a5ec5d49c"
      },
      "execution_count": 42,
      "outputs": [
        {
          "output_type": "stream",
          "name": "stdout",
          "text": [
            "Model: \"sequential_11\"\n",
            "_________________________________________________________________\n",
            " Layer (type)                Output Shape              Param #   \n",
            "=================================================================\n",
            " flatten_11 (Flatten)        (None, 784)               0         \n",
            "                                                                 \n",
            " dense_42 (Dense)            (None, 128)               100480    \n",
            "                                                                 \n",
            " dense_43 (Dense)            (None, 128)               16512     \n",
            "                                                                 \n",
            " dense_44 (Dense)            (None, 128)               16512     \n",
            "                                                                 \n",
            " dense_45 (Dense)            (None, 10)                1290      \n",
            "                                                                 \n",
            "=================================================================\n",
            "Total params: 134,794\n",
            "Trainable params: 134,794\n",
            "Non-trainable params: 0\n",
            "_________________________________________________________________\n",
            "None\n",
            "55/55 [==============================] - 1s 18ms/step - loss: 0.8902 - accuracy: 0.6965\n",
            "219/219 [==============================] - 0s 2ms/step - loss: 0.5336 - accuracy: 0.8157\n",
            "1750/1750 [==============================] - 3s 2ms/step - loss: 0.5230 - accuracy: 0.8188\n",
            "Epoch 1/2\n",
            "55/55 [==============================] - 1s 20ms/step - loss: 0.4813 - accuracy: 0.8306\n",
            "Epoch 2/2\n",
            "55/55 [==============================] - 1s 17ms/step - loss: 0.4256 - accuracy: 0.8491\n",
            "219/219 [==============================] - 0s 2ms/step - loss: 0.4168 - accuracy: 0.8514\n",
            "1750/1750 [==============================] - 3s 2ms/step - loss: 0.3957 - accuracy: 0.8594\n",
            "Epoch 1/3\n",
            "55/55 [==============================] - 1s 17ms/step - loss: 0.3955 - accuracy: 0.8603\n",
            "Epoch 2/3\n",
            "55/55 [==============================] - 1s 18ms/step - loss: 0.3691 - accuracy: 0.8673\n",
            "Epoch 3/3\n",
            "55/55 [==============================] - 1s 17ms/step - loss: 0.3553 - accuracy: 0.8725\n",
            "219/219 [==============================] - 0s 2ms/step - loss: 0.3734 - accuracy: 0.8664\n",
            "1750/1750 [==============================] - 3s 2ms/step - loss: 0.3434 - accuracy: 0.8771\n",
            "Epoch 1/4\n",
            "55/55 [==============================] - 1s 18ms/step - loss: 0.3417 - accuracy: 0.8761\n",
            "Epoch 2/4\n",
            "55/55 [==============================] - 1s 17ms/step - loss: 0.3246 - accuracy: 0.8822\n",
            "Epoch 3/4\n",
            "55/55 [==============================] - 1s 19ms/step - loss: 0.3153 - accuracy: 0.8862\n",
            "Epoch 4/4\n",
            "55/55 [==============================] - 2s 28ms/step - loss: 0.3072 - accuracy: 0.8882\n",
            "219/219 [==============================] - 0s 2ms/step - loss: 0.3375 - accuracy: 0.8803\n",
            "1750/1750 [==============================] - 3s 2ms/step - loss: 0.2943 - accuracy: 0.8932\n",
            "Epoch 1/5\n",
            "55/55 [==============================] - 1s 17ms/step - loss: 0.2974 - accuracy: 0.8911\n",
            "Epoch 2/5\n",
            "55/55 [==============================] - 1s 17ms/step - loss: 0.2867 - accuracy: 0.8961\n",
            "Epoch 3/5\n",
            "55/55 [==============================] - 1s 17ms/step - loss: 0.2789 - accuracy: 0.8987\n",
            "Epoch 4/5\n",
            "55/55 [==============================] - 1s 17ms/step - loss: 0.2717 - accuracy: 0.9014\n",
            "Epoch 5/5\n",
            "55/55 [==============================] - 1s 17ms/step - loss: 0.2668 - accuracy: 0.9023\n",
            "219/219 [==============================] - 0s 2ms/step - loss: 0.3291 - accuracy: 0.8800\n",
            "1750/1750 [==============================] - 3s 2ms/step - loss: 0.2629 - accuracy: 0.9041\n"
          ]
        }
      ]
    },
    {
      "cell_type": "code",
      "source": [
        "fig,axes = plt.subplots(nrows=1,ncols=2,figsize=(12,4))\n",
        "fig.subplots_adjust(wspace=0.4,hspace=0,left=0.2, right=0.9, top=0.9, bottom=0.1)\n",
        "fontdict={  'fontsize': 12, 'fontname': 'serif'}\n",
        "axes[0].plot(LOSS_t,'-o', label = 'training')\n",
        "axes[0].plot(LOSS_v,'-ro', label = 'validation')\n",
        "axes[0].set_xlabel('epoch',fontdict)\n",
        "axes[0].set_ylabel('loss',fontdict)\n",
        "#axes[0].set_ylim(0.14, 0.18)\n",
        "axes[0].legend()\n",
        "\n",
        "axes[1].plot(ACC_t,'-o', label = 'training')\n",
        "axes[1].plot(ACC_v,'-ro', label = 'validation')\n",
        "axes[1].set_xlabel('epoch',fontdict)\n",
        "axes[1].set_ylabel('accuracy',fontdict)\n",
        "#axes[1].set_ylim(0.94, 0.95)\n",
        "axes[1].legend()\n",
        "\n",
        "for tick in axes[0].get_xticklabels():\n",
        "        tick.set_fontname(\"serif\")\n",
        "        tick.set_fontsize(12)\n",
        "for tick in axes[0].get_yticklabels():\n",
        "        tick.set_fontname(\"serif\")\n",
        "        tick.set_fontsize(12)\n",
        "\n",
        "for tick in axes[1].get_xticklabels():\n",
        "        tick.set_fontname(\"serif\")\n",
        "        tick.set_fontsize(12)\n",
        "for tick in axes[1].get_yticklabels():\n",
        "        tick.set_fontname(\"serif\")\n",
        "        tick.set_fontsize(12)"
      ],
      "metadata": {
        "colab": {
          "base_uri": "https://localhost:8080/",
          "height": 298
        },
        "id": "C6IwXZhXePrT",
        "outputId": "bc5a0b2e-7217-468c-ebd6-d72d2affaac9"
      },
      "execution_count": 45,
      "outputs": [
        {
          "output_type": "display_data",
          "data": {
            "text/plain": [
              "<Figure size 864x288 with 2 Axes>"
            ],
            "image/png": "[encoded data removed]"
          },
          "metadata": {
            "needs_background": "light"
          }
        }
      ]
    },
    {
      "cell_type": "code",
      "source": [
        "# test the model on validation dataX_train, y_train\n",
        "loss, acc = model.evaluate(X_train, y_train, verbose = 1)\n",
        "print('\\n accuracy using the training data set: %5.2f' %(acc))\n",
        "print('loss using the training data set: %5.2f' %(loss))\n",
        "loss, acc = model.evaluate(X_val, y_val, verbose = 1)\n",
        "print('\\n accuracy using the validation data set: %5.2f' %(acc))\n",
        "print('loss using the validation data set: %5.2f' %(loss))"
      ],
      "metadata": {
        "colab": {
          "base_uri": "https://localhost:8080/"
        },
        "id": "JGn6GG3Qf_gl",
        "outputId": "353aba62-79b0-44d7-d69f-7d72aa0db788"
      },
      "execution_count": 50,
      "outputs": [
        {
          "output_type": "stream",
          "name": "stdout",
          "text": [
            "1750/1750 [==============================] - 3s 2ms/step - loss: 0.2629 - accuracy: 0.9041\n",
            "\n",
            " accuracy using the training data set:  0.90\n",
            "\n",
            " loss using the training data set:  0.26\n",
            "219/219 [==============================] - 0s 1ms/step - loss: 0.3291 - accuracy: 0.8800\n",
            "\n",
            " accuracy using the validation data set:  0.88\n",
            "\n",
            " loss using the validation data set:  0.33\n"
          ]
        }
      ]
    },
    {
      "cell_type": "markdown",
      "source": [
        "For this Neural Network with three hidden layers, the loss and accuracy values obtained using the training data set are 0.26 and 0.90, respectively. These are slightly better results with respect to the model with a single hidden layer. The loss and accuracy obtained are 0.33 and 0.88, respectively. The discrepancy of loss and metric using the training data set with respect to the validation data set is not as large.  This is an indication that the data is well distributed among the validation and training data sets and no overfitting is happening."
      ],
      "metadata": {
        "id": "tJBpvx9iTF_V"
      }
    },
    {
      "cell_type": "markdown",
      "source": [
        "I will again increase the number of layers of the Neural Network. the Neural Network will have **5 hidden layers** with the relu activation function, the number of nodes associated with each layer is 128. The output layer will remain as before (10 nodes and softmax activation function). "
      ],
      "metadata": {
        "id": "f6wQWI_johuL"
      }
    },
    {
      "cell_type": "code",
      "source": [
        "model = tf.keras.models.Sequential([ \n",
        "  tf.keras.layers.Flatten(input_shape=(28, 28)), \n",
        "  tf.keras.layers.Dense(128, activation='relu'),\n",
        "  tf.keras.layers.Dense(128, activation='relu'),\n",
        "  tf.keras.layers.Dense(128, activation='relu'),\n",
        "  tf.keras.layers.Dense(128, activation='relu'),        \n",
        "  tf.keras.layers.Dense(128, activation='relu'),    \n",
        "  tf.keras.layers.Dense(10, activation='softmax')     \n",
        "])\n",
        "print(model.summary())\n",
        "\n",
        "model.compile(optimizer='adam',\n",
        "              loss=tf.keras.losses.SparseCategoricalCrossentropy(from_logits=True),\n",
        "              metrics=['accuracy'])\n",
        "LOSS_v = np.zeros(5,)\n",
        "ACC_v = np.zeros(5,)\n",
        "LOSS_t = np.zeros(5,)\n",
        "ACC_t = np.zeros(5,)\n",
        "for i in range(1,6,1):\n",
        "    history = model.fit(X_train, y_train, epochs=i, batch_size=2**10)\n",
        "    # test the model on validation data\n",
        "    loss, acc = model.evaluate(X_val, y_val, verbose = 1)\n",
        "    LOSS_v[i-1] = loss; ACC_v[i-1] = acc\n",
        "    loss, acc = model.evaluate(X_train, y_train, verbose = 1)\n",
        "    LOSS_t[i-1] = loss; ACC_t[i-1] = acc"
      ],
      "metadata": {
        "colab": {
          "base_uri": "https://localhost:8080/"
        },
        "id": "du0ntfd7mrHS",
        "outputId": "e8917b75-1a99-454d-96cf-22db3584a22c"
      },
      "execution_count": 52,
      "outputs": [
        {
          "output_type": "stream",
          "name": "stdout",
          "text": [
            "Model: \"sequential_13\"\n",
            "_________________________________________________________________\n",
            " Layer (type)                Output Shape              Param #   \n",
            "=================================================================\n",
            " flatten_14 (Flatten)        (None, 784)               0         \n",
            "                                                                 \n",
            " dense_52 (Dense)            (None, 128)               100480    \n",
            "                                                                 \n",
            " dense_53 (Dense)            (None, 128)               16512     \n",
            "                                                                 \n",
            " dense_54 (Dense)            (None, 128)               16512     \n",
            "                                                                 \n",
            " dense_55 (Dense)            (None, 128)               16512     \n",
            "                                                                 \n",
            " dense_56 (Dense)            (None, 128)               16512     \n",
            "                                                                 \n",
            " dense_57 (Dense)            (None, 10)                1290      \n",
            "                                                                 \n",
            "=================================================================\n",
            "Total params: 167,818\n",
            "Trainable params: 167,818\n",
            "Non-trainable params: 0\n",
            "_________________________________________________________________\n",
            "None\n",
            "55/55 [==============================] - 2s 24ms/step - loss: 0.9195 - accuracy: 0.6921\n",
            "219/219 [==============================] - 1s 2ms/step - loss: 0.5708 - accuracy: 0.7966\n",
            "1750/1750 [==============================] - 3s 2ms/step - loss: 0.5565 - accuracy: 0.8011\n",
            "Epoch 1/2\n",
            "55/55 [==============================] - 1s 22ms/step - loss: 0.4913 - accuracy: 0.8260\n",
            "Epoch 2/2\n",
            "55/55 [==============================] - 1s 22ms/step - loss: 0.4336 - accuracy: 0.8459\n",
            "219/219 [==============================] - 0s 2ms/step - loss: 0.4190 - accuracy: 0.8487\n",
            "1750/1750 [==============================] - 3s 2ms/step - loss: 0.3977 - accuracy: 0.8592\n",
            "Epoch 1/3\n",
            "55/55 [==============================] - 1s 22ms/step - loss: 0.3978 - accuracy: 0.8582\n",
            "Epoch 2/3\n",
            "55/55 [==============================] - 1s 22ms/step - loss: 0.3692 - accuracy: 0.8672\n",
            "Epoch 3/3\n",
            "55/55 [==============================] - 1s 22ms/step - loss: 0.3524 - accuracy: 0.8726\n",
            "219/219 [==============================] - 0s 2ms/step - loss: 0.3678 - accuracy: 0.8656\n",
            "1750/1750 [==============================] - 3s 2ms/step - loss: 0.3336 - accuracy: 0.8791\n",
            "Epoch 1/4\n",
            "55/55 [==============================] - 1s 22ms/step - loss: 0.3333 - accuracy: 0.8785\n",
            "Epoch 2/4\n",
            "55/55 [==============================] - 1s 22ms/step - loss: 0.3230 - accuracy: 0.8817\n",
            "Epoch 3/4\n",
            "55/55 [==============================] - 1s 22ms/step - loss: 0.3044 - accuracy: 0.8881\n",
            "Epoch 4/4\n",
            "55/55 [==============================] - 1s 22ms/step - loss: 0.3006 - accuracy: 0.8889\n",
            "219/219 [==============================] - 0s 2ms/step - loss: 0.3346 - accuracy: 0.8793\n",
            "1750/1750 [==============================] - 3s 2ms/step - loss: 0.2845 - accuracy: 0.8955\n",
            "Epoch 1/5\n",
            "55/55 [==============================] - 1s 22ms/step - loss: 0.2856 - accuracy: 0.8946\n",
            "Epoch 2/5\n",
            "55/55 [==============================] - 1s 22ms/step - loss: 0.2817 - accuracy: 0.8960\n",
            "Epoch 3/5\n",
            "55/55 [==============================] - 1s 22ms/step - loss: 0.2723 - accuracy: 0.8981\n",
            "Epoch 4/5\n",
            "55/55 [==============================] - 1s 22ms/step - loss: 0.2626 - accuracy: 0.9020\n",
            "Epoch 5/5\n",
            "55/55 [==============================] - 1s 22ms/step - loss: 0.2583 - accuracy: 0.9039\n",
            "219/219 [==============================] - 0s 2ms/step - loss: 0.3286 - accuracy: 0.8857\n",
            "1750/1750 [==============================] - 3s 2ms/step - loss: 0.2631 - accuracy: 0.9023\n"
          ]
        }
      ]
    },
    {
      "cell_type": "code",
      "source": [
        "fig,axes = plt.subplots(nrows=1,ncols=2,figsize=(12,4))\n",
        "fig.subplots_adjust(wspace=0.4,hspace=0,left=0.2, right=0.9, top=0.9, bottom=0.1)\n",
        "fontdict={  'fontsize': 12, 'fontname': 'serif'}\n",
        "axes[0].plot(LOSS_t,'-o', label = 'training')\n",
        "axes[0].plot(LOSS_v,'-ro', label = 'validation')\n",
        "axes[0].set_xlabel('epoch',fontdict)\n",
        "axes[0].set_ylabel('loss',fontdict)\n",
        "#axes[0].set_ylim(0.14, 0.18)\n",
        "axes[0].legend()\n",
        "\n",
        "axes[1].plot(ACC_t,'-o', label = 'training')\n",
        "axes[1].plot(ACC_v,'-ro', label = 'validation')\n",
        "axes[1].set_xlabel('epoch',fontdict)\n",
        "axes[1].set_ylabel('accuracy',fontdict)\n",
        "#axes[1].set_ylim(0.94, 0.95)\n",
        "axes[1].legend()\n",
        "\n",
        "for tick in axes[0].get_xticklabels():\n",
        "        tick.set_fontname(\"serif\")\n",
        "        tick.set_fontsize(12)\n",
        "for tick in axes[0].get_yticklabels():\n",
        "        tick.set_fontname(\"serif\")\n",
        "        tick.set_fontsize(12)\n",
        "\n",
        "for tick in axes[1].get_xticklabels():\n",
        "        tick.set_fontname(\"serif\")\n",
        "        tick.set_fontsize(12)\n",
        "for tick in axes[1].get_yticklabels():\n",
        "        tick.set_fontname(\"serif\")\n",
        "        tick.set_fontsize(12)"
      ],
      "metadata": {
        "colab": {
          "base_uri": "https://localhost:8080/",
          "height": 298
        },
        "outputId": "7e1ed4aa-0e59-44af-ea62-4ad565f89cfb",
        "id": "o9IsQSl1WVCH"
      },
      "execution_count": 53,
      "outputs": [
        {
          "output_type": "display_data",
          "data": {
            "text/plain": [
              "<Figure size 864x288 with 2 Axes>"
            ],
            "image/png": "[encoded data removed]"
          },
          "metadata": {
            "needs_background": "light"
          }
        }
      ]
    },
    {
      "cell_type": "code",
      "source": [
        "# test the model on validation dataX_train, y_train\n",
        "loss, acc = model.evaluate(X_train, y_train, verbose = 1)\n",
        "print('\\n accuracy using the training data set: %5.2f' %(acc))\n",
        "print('loss using the training data set: %5.2f' %(loss))\n",
        "loss, acc = model.evaluate(X_val, y_val, verbose = 1)\n",
        "print('\\n accuracy using the validation data set: %5.2f' %(acc))\n",
        "print('loss using the validation data set: %5.2f' %(loss))"
      ],
      "metadata": {
        "colab": {
          "base_uri": "https://localhost:8080/"
        },
        "outputId": "e02fc3eb-b31b-4a0f-f5b1-a097bd1c7e7e",
        "id": "ZqHLQVZQm3Go"
      },
      "execution_count": 54,
      "outputs": [
        {
          "output_type": "stream",
          "name": "stdout",
          "text": [
            "1750/1750 [==============================] - 3s 2ms/step - loss: 0.2631 - accuracy: 0.9023\n",
            "\n",
            " accuracy using the training data set:  0.90\n",
            "loss using the training data set:  0.26\n",
            "219/219 [==============================] - 0s 2ms/step - loss: 0.3286 - accuracy: 0.8857\n",
            "\n",
            " accuracy using the validation data set:  0.89\n",
            "loss using the validation data set:  0.33\n"
          ]
        }
      ]
    },
    {
      "cell_type": "markdown",
      "source": [
        "For this Neural Network with 5 hidden layers, the loss and accuracy values obtained using the validation data set are 0.33 and 0.89, respectively. These values are almost the same results with respect to the model with 3 hidden layers. This is an indication that adding more layers to the data set will not improve the performance of the model and may lead to overfitting issues. In this work 5 hidden layers are selected for the NN. "
      ],
      "metadata": {
        "id": "XkXz69gOoynv"
      }
    },
    {
      "cell_type": "markdown",
      "source": [
        "### NUMBER OF NODES EFFECT"
      ],
      "metadata": {
        "id": "NeIcL64_pacW"
      }
    },
    {
      "cell_type": "markdown",
      "source": [
        "The number of nodes per each layer will be increased in this step. this Neural Network have **5 hidden layers** with the relu activation function and the number of nodes associated with each layer, from layer 1 to 6 is 512, 256, 128, 64, 32, 10. The output layer will remain as before (10 nodes and softmax activation function). Note that the input layer have 784 units and it is generally not recommended to have a hidden layer with a number of nodes significantly larger than input features."
      ],
      "metadata": {
        "id": "x0j85QhCrxNF"
      }
    },
    {
      "cell_type": "code",
      "source": [
        "model = tf.keras.models.Sequential([ \n",
        "  tf.keras.layers.Flatten(input_shape=(28, 28)), \n",
        "  tf.keras.layers.Dense(512, activation='relu'),\n",
        "  tf.keras.layers.Dense(256, activation='relu'),\n",
        "  tf.keras.layers.Dense(128, activation='relu'),\n",
        "  tf.keras.layers.Dense(64, activation='relu'),        \n",
        "  tf.keras.layers.Dense(32, activation='relu'),    \n",
        "  tf.keras.layers.Dense(10, activation='softmax')      \n",
        "])\n",
        "print(model.summary())\n",
        "\n",
        "model.compile(optimizer='adam',\n",
        "              loss=tf.keras.losses.SparseCategoricalCrossentropy(from_logits=True),\n",
        "              metrics=['accuracy'])\n",
        "LOSS_v = np.zeros(5,)\n",
        "ACC_v = np.zeros(5,)\n",
        "LOSS_t = np.zeros(5,)\n",
        "ACC_t = np.zeros(5,)\n",
        "for i in range(1,6,1):\n",
        "    history = model.fit(X_train, y_train, epochs=i, batch_size=2**10)\n",
        "    # test the model on validation data\n",
        "    loss, acc = model.evaluate(X_val, y_val, verbose = 1)\n",
        "    LOSS_v[i-1] = loss; ACC_v[i-1] = acc\n",
        "    loss, acc = model.evaluate(X_train, y_train, verbose = 1)\n",
        "    LOSS_t[i-1] = loss; ACC_t[i-1] = acc"
      ],
      "metadata": {
        "colab": {
          "base_uri": "https://localhost:8080/"
        },
        "outputId": "6af96790-10ee-4120-d6d3-a734b709195f",
        "id": "apAmk37FoZGv"
      },
      "execution_count": 55,
      "outputs": [
        {
          "output_type": "stream",
          "name": "stdout",
          "text": [
            "Model: \"sequential_14\"\n",
            "_________________________________________________________________\n",
            " Layer (type)                Output Shape              Param #   \n",
            "=================================================================\n",
            " flatten_15 (Flatten)        (None, 784)               0         \n",
            "                                                                 \n",
            " dense_58 (Dense)            (None, 512)               401920    \n",
            "                                                                 \n",
            " dense_59 (Dense)            (None, 256)               131328    \n",
            "                                                                 \n",
            " dense_60 (Dense)            (None, 128)               32896     \n",
            "                                                                 \n",
            " dense_61 (Dense)            (None, 64)                8256      \n",
            "                                                                 \n",
            " dense_62 (Dense)            (None, 32)                2080      \n",
            "                                                                 \n",
            " dense_63 (Dense)            (None, 10)                330       \n",
            "                                                                 \n",
            "=================================================================\n",
            "Total params: 576,810\n",
            "Trainable params: 576,810\n",
            "Non-trainable params: 0\n",
            "_________________________________________________________________\n",
            "None\n"
          ]
        },
        {
          "output_type": "stream",
          "name": "stderr",
          "text": [
            "/usr/local/lib/python3.7/dist-packages/tensorflow/python/util/dispatch.py:1082: UserWarning: \"`sparse_categorical_crossentropy` received `from_logits=True`, but the `output` argument was produced by a sigmoid or softmax activation and thus does not represent logits. Was this intended?\"\n",
            "  return dispatch_target(*args, **kwargs)\n"
          ]
        },
        {
          "output_type": "stream",
          "name": "stdout",
          "text": [
            "55/55 [==============================] - 3s 54ms/step - loss: 0.9212 - accuracy: 0.6722\n",
            "219/219 [==============================] - 1s 3ms/step - loss: 0.5331 - accuracy: 0.8101\n",
            "1750/1750 [==============================] - 5s 3ms/step - loss: 0.5201 - accuracy: 0.8116\n",
            "Epoch 1/2\n",
            "55/55 [==============================] - 3s 54ms/step - loss: 0.4587 - accuracy: 0.8402\n",
            "Epoch 2/2\n",
            "55/55 [==============================] - 3s 54ms/step - loss: 0.4062 - accuracy: 0.8554\n",
            "219/219 [==============================] - 1s 3ms/step - loss: 0.3993 - accuracy: 0.8586\n",
            "1750/1750 [==============================] - 6s 3ms/step - loss: 0.3720 - accuracy: 0.8693\n",
            "Epoch 1/3\n",
            "55/55 [==============================] - 4s 77ms/step - loss: 0.3648 - accuracy: 0.8710\n",
            "Epoch 2/3\n",
            "55/55 [==============================] - 3s 55ms/step - loss: 0.3384 - accuracy: 0.8787\n",
            "Epoch 3/3\n",
            "55/55 [==============================] - 3s 55ms/step - loss: 0.3201 - accuracy: 0.8850\n",
            "219/219 [==============================] - 1s 3ms/step - loss: 0.3325 - accuracy: 0.8813\n",
            "1750/1750 [==============================] - 6s 3ms/step - loss: 0.2926 - accuracy: 0.8958\n",
            "Epoch 1/4\n",
            "55/55 [==============================] - 3s 55ms/step - loss: 0.3016 - accuracy: 0.8910\n",
            "Epoch 2/4\n",
            "55/55 [==============================] - 3s 54ms/step - loss: 0.2939 - accuracy: 0.8924\n",
            "Epoch 3/4\n",
            "55/55 [==============================] - 3s 55ms/step - loss: 0.2770 - accuracy: 0.8989\n",
            "Epoch 4/4\n",
            "55/55 [==============================] - 3s 55ms/step - loss: 0.2736 - accuracy: 0.8984\n",
            "219/219 [==============================] - 1s 3ms/step - loss: 0.3158 - accuracy: 0.8876\n",
            "1750/1750 [==============================] - 5s 3ms/step - loss: 0.2547 - accuracy: 0.9078\n",
            "Epoch 1/5\n",
            "55/55 [==============================] - 3s 55ms/step - loss: 0.2548 - accuracy: 0.9053\n",
            "Epoch 2/5\n",
            "55/55 [==============================] - 3s 62ms/step - loss: 0.2469 - accuracy: 0.9092\n",
            "Epoch 3/5\n",
            "55/55 [==============================] - 3s 61ms/step - loss: 0.2352 - accuracy: 0.9132\n",
            "Epoch 4/5\n",
            "55/55 [==============================] - 3s 54ms/step - loss: 0.2346 - accuracy: 0.9135\n",
            "Epoch 5/5\n",
            "55/55 [==============================] - 3s 55ms/step - loss: 0.2148 - accuracy: 0.9204\n",
            "219/219 [==============================] - 1s 3ms/step - loss: 0.3059 - accuracy: 0.8947\n",
            "1750/1750 [==============================] - 5s 3ms/step - loss: 0.2067 - accuracy: 0.9234\n"
          ]
        }
      ]
    },
    {
      "cell_type": "code",
      "source": [
        "fig,axes = plt.subplots(nrows=1,ncols=2,figsize=(12,4))\n",
        "fig.subplots_adjust(wspace=0.4,hspace=0,left=0.2, right=0.9, top=0.9, bottom=0.1)\n",
        "fontdict={  'fontsize': 12, 'fontname': 'serif'}\n",
        "axes[0].plot(LOSS_t,'-o', label = 'training')\n",
        "axes[0].plot(LOSS_v,'-ro', label = 'validation')\n",
        "axes[0].set_xlabel('epoch',fontdict)\n",
        "axes[0].set_ylabel('loss',fontdict)\n",
        "#axes[0].set_ylim(0.14, 0.18)\n",
        "axes[0].legend()\n",
        "\n",
        "axes[1].plot(ACC_t,'-o', label = 'training')\n",
        "axes[1].plot(ACC_v,'-ro', label = 'validation')\n",
        "axes[1].set_xlabel('epoch',fontdict)\n",
        "axes[1].set_ylabel('accuracy',fontdict)\n",
        "#axes[1].set_ylim(0.94, 0.95)\n",
        "axes[1].legend()\n",
        "\n",
        "for tick in axes[0].get_xticklabels():\n",
        "        tick.set_fontname(\"serif\")\n",
        "        tick.set_fontsize(12)\n",
        "for tick in axes[0].get_yticklabels():\n",
        "        tick.set_fontname(\"serif\")\n",
        "        tick.set_fontsize(12)\n",
        "\n",
        "for tick in axes[1].get_xticklabels():\n",
        "        tick.set_fontname(\"serif\")\n",
        "        tick.set_fontsize(12)\n",
        "for tick in axes[1].get_yticklabels():\n",
        "        tick.set_fontname(\"serif\")\n",
        "        tick.set_fontsize(12)"
      ],
      "metadata": {
        "colab": {
          "base_uri": "https://localhost:8080/",
          "height": 298
        },
        "outputId": "4054e5ea-29d6-4d71-c30c-7fb91a0b6db9",
        "id": "yDsySzzxoZG3"
      },
      "execution_count": 56,
      "outputs": [
        {
          "output_type": "display_data",
          "data": {
            "text/plain": [
              "<Figure size 864x288 with 2 Axes>"
            ],
            "image/png": "[encoded data removed]"
          },
          "metadata": {
            "needs_background": "light"
          }
        }
      ]
    },
    {
      "cell_type": "code",
      "source": [
        "# test the model on validation dataX_train, y_train\n",
        "loss, acc = model.evaluate(X_train, y_train, verbose = 1)\n",
        "print('\\n accuracy using the training data set: %5.2f' %(acc))\n",
        "print('loss using the training data set: %5.2f' %(loss))\n",
        "loss, acc = model.evaluate(X_val, y_val, verbose = 1)\n",
        "print('\\n accuracy using the validation data set: %5.2f' %(acc))\n",
        "print('loss using the validation data set: %5.2f' %(loss))"
      ],
      "metadata": {
        "colab": {
          "base_uri": "https://localhost:8080/"
        },
        "outputId": "13bd17e7-a882-472d-d7d3-672e0cc7a4a1",
        "id": "LomwX7z0oZG3"
      },
      "execution_count": 57,
      "outputs": [
        {
          "output_type": "stream",
          "name": "stdout",
          "text": [
            "1750/1750 [==============================] - 5s 3ms/step - loss: 0.2067 - accuracy: 0.9234\n",
            "\n",
            " accuracy using the training data set:  0.92\n",
            "loss using the training data set:  0.21\n",
            "219/219 [==============================] - 1s 3ms/step - loss: 0.3059 - accuracy: 0.8947\n",
            "\n",
            " accuracy using the validation data set:  0.89\n",
            "loss using the validation data set:  0.31\n"
          ]
        }
      ]
    },
    {
      "cell_type": "markdown",
      "source": [
        "For this Neural Network the number of nodes were increased, the loss and accuracy values obtained using the validation data set are 0.31 and 0.89, respectively. These values are almost the same results with respect to the model with 5 hidden layers and less nodes. This is an indication that adding more nodes to the hidden layers set will not improve the performance of the model and, actually may lead to overfitting issues. In this work, 128 nodes will be used for each hidden layer."
      ],
      "metadata": {
        "id": "jqVQ6OGPsSGj"
      }
    },
    {
      "cell_type": "markdown",
      "source": [
        "### EFFECT OF ACTIVATION FUNCTION"
      ],
      "metadata": {
        "id": "wGGxYggPtin4"
      }
    },
    {
      "cell_type": "markdown",
      "source": [
        "For this NN, the architecture will be the same as the previous model but the activation function for the hidden layers will be the sigmoid function."
      ],
      "metadata": {
        "id": "C5ayY5ZaxIaw"
      }
    },
    {
      "cell_type": "code",
      "source": [
        "model = tf.keras.models.Sequential([ \n",
        "  tf.keras.layers.Flatten(input_shape=(28, 28)), \n",
        "  tf.keras.layers.Dense(128, activation='sigmoid'),\n",
        "  tf.keras.layers.Dense(128, activation='sigmoid'),\n",
        "  tf.keras.layers.Dense(128, activation='sigmoid'),\n",
        "  tf.keras.layers.Dense(128, activation='sigmoid'),        \n",
        "  tf.keras.layers.Dense(128, activation='sigmoid'),    \n",
        "  tf.keras.layers.Dense(10, activation='softmax')        \n",
        "])\n",
        "print(model.summary())\n",
        "\n",
        "model.compile(optimizer='adam',\n",
        "              loss=tf.keras.losses.SparseCategoricalCrossentropy(from_logits=True),\n",
        "              metrics=['accuracy'])\n",
        "LOSS_v = np.zeros(5,)\n",
        "ACC_v = np.zeros(5,)\n",
        "LOSS_t = np.zeros(5,)\n",
        "ACC_t = np.zeros(5,)\n",
        "for i in range(1,6,1):\n",
        "    history = model.fit(X_train, y_train, epochs=i, batch_size=2**10)\n",
        "    # test the model on validation data\n",
        "    loss, acc = model.evaluate(X_val, y_val, verbose = 1)\n",
        "    LOSS_v[i-1] = loss; ACC_v[i-1] = acc\n",
        "    loss, acc = model.evaluate(X_train, y_train, verbose = 1)\n",
        "    LOSS_t[i-1] = loss; ACC_t[i-1] = acc"
      ],
      "metadata": {
        "colab": {
          "base_uri": "https://localhost:8080/"
        },
        "outputId": "0553a817-a5fb-4787-c3fb-fcf938b0d44e",
        "id": "1bWenVQcpImQ"
      },
      "execution_count": 61,
      "outputs": [
        {
          "output_type": "stream",
          "name": "stdout",
          "text": [
            "Model: \"sequential_16\"\n",
            "_________________________________________________________________\n",
            " Layer (type)                Output Shape              Param #   \n",
            "=================================================================\n",
            " flatten_18 (Flatten)        (None, 784)               0         \n",
            "                                                                 \n",
            " dense_70 (Dense)            (None, 128)               100480    \n",
            "                                                                 \n",
            " dense_71 (Dense)            (None, 128)               16512     \n",
            "                                                                 \n",
            " dense_72 (Dense)            (None, 128)               16512     \n",
            "                                                                 \n",
            " dense_73 (Dense)            (None, 128)               16512     \n",
            "                                                                 \n",
            " dense_74 (Dense)            (None, 128)               16512     \n",
            "                                                                 \n",
            " dense_75 (Dense)            (None, 10)                1290      \n",
            "                                                                 \n",
            "=================================================================\n",
            "Total params: 167,818\n",
            "Trainable params: 167,818\n",
            "Non-trainable params: 0\n",
            "_________________________________________________________________\n",
            "None\n"
          ]
        },
        {
          "output_type": "stream",
          "name": "stderr",
          "text": [
            "/usr/local/lib/python3.7/dist-packages/tensorflow/python/util/dispatch.py:1082: UserWarning: \"`sparse_categorical_crossentropy` received `from_logits=True`, but the `output` argument was produced by a sigmoid or softmax activation and thus does not represent logits. Was this intended?\"\n",
            "  return dispatch_target(*args, **kwargs)\n"
          ]
        },
        {
          "output_type": "stream",
          "name": "stdout",
          "text": [
            "55/55 [==============================] - 2s 23ms/step - loss: 2.3136 - accuracy: 0.1387\n",
            "219/219 [==============================] - 1s 2ms/step - loss: 2.1914 - accuracy: 0.3161\n",
            "1750/1750 [==============================] - 3s 2ms/step - loss: 2.1915 - accuracy: 0.3087\n",
            "Epoch 1/2\n",
            "55/55 [==============================] - 1s 22ms/step - loss: 1.7028 - accuracy: 0.3560\n",
            "Epoch 2/2\n",
            "55/55 [==============================] - 1s 22ms/step - loss: 1.1656 - accuracy: 0.5108\n",
            "219/219 [==============================] - 0s 2ms/step - loss: 1.0504 - accuracy: 0.5587\n",
            "1750/1750 [==============================] - 3s 2ms/step - loss: 1.0421 - accuracy: 0.5540\n",
            "Epoch 1/3\n",
            "55/55 [==============================] - 1s 22ms/step - loss: 0.9362 - accuracy: 0.6136\n",
            "Epoch 2/3\n",
            "55/55 [==============================] - 1s 23ms/step - loss: 0.8190 - accuracy: 0.6713\n",
            "Epoch 3/3\n",
            "55/55 [==============================] - 1s 22ms/step - loss: 0.7188 - accuracy: 0.7621\n",
            "219/219 [==============================] - 0s 2ms/step - loss: 0.6835 - accuracy: 0.7819\n",
            "1750/1750 [==============================] - 3s 2ms/step - loss: 0.6666 - accuracy: 0.7857\n",
            "Epoch 1/4\n",
            "55/55 [==============================] - 1s 23ms/step - loss: 0.6259 - accuracy: 0.7899\n",
            "Epoch 2/4\n",
            "55/55 [==============================] - 1s 22ms/step - loss: 0.5662 - accuracy: 0.8041\n",
            "Epoch 3/4\n",
            "55/55 [==============================] - 1s 22ms/step - loss: 0.5272 - accuracy: 0.8129\n",
            "Epoch 4/4\n",
            "55/55 [==============================] - 1s 23ms/step - loss: 0.5007 - accuracy: 0.8183\n",
            "219/219 [==============================] - 0s 2ms/step - loss: 0.5032 - accuracy: 0.8201\n",
            "1750/1750 [==============================] - 3s 2ms/step - loss: 0.4817 - accuracy: 0.8251\n",
            "Epoch 1/5\n",
            "55/55 [==============================] - 1s 22ms/step - loss: 0.4774 - accuracy: 0.8253\n",
            "Epoch 2/5\n",
            "55/55 [==============================] - 1s 23ms/step - loss: 0.4583 - accuracy: 0.8321\n",
            "Epoch 3/5\n",
            "55/55 [==============================] - 1s 23ms/step - loss: 0.4426 - accuracy: 0.8368\n",
            "Epoch 4/5\n",
            "55/55 [==============================] - 1s 22ms/step - loss: 0.4250 - accuracy: 0.8458\n",
            "Epoch 5/5\n",
            "55/55 [==============================] - 1s 23ms/step - loss: 0.4125 - accuracy: 0.8510\n",
            "219/219 [==============================] - 0s 2ms/step - loss: 0.4328 - accuracy: 0.8501\n",
            "1750/1750 [==============================] - 3s 2ms/step - loss: 0.3981 - accuracy: 0.8578\n"
          ]
        }
      ]
    },
    {
      "cell_type": "code",
      "source": [
        "fig,axes = plt.subplots(nrows=1,ncols=2,figsize=(12,4))\n",
        "fig.subplots_adjust(wspace=0.4,hspace=0,left=0.2, right=0.9, top=0.9, bottom=0.1)\n",
        "fontdict={  'fontsize': 12, 'fontname': 'serif'}\n",
        "axes[0].plot(LOSS_t,'-o', label = 'training')\n",
        "axes[0].plot(LOSS_v,'-ro', label = 'validation')\n",
        "axes[0].set_xlabel('epoch',fontdict)\n",
        "axes[0].set_ylabel('loss',fontdict)\n",
        "#axes[0].set_ylim(0.14, 0.18)\n",
        "axes[0].legend()\n",
        "\n",
        "axes[1].plot(ACC_t,'-o', label = 'training')\n",
        "axes[1].plot(ACC_v,'-ro', label = 'validation')\n",
        "axes[1].set_xlabel('epoch',fontdict)\n",
        "axes[1].set_ylabel('accuracy',fontdict)\n",
        "#axes[1].set_ylim(0.94, 0.95)\n",
        "axes[1].legend()\n",
        "\n",
        "for tick in axes[0].get_xticklabels():\n",
        "        tick.set_fontname(\"serif\")\n",
        "        tick.set_fontsize(12)\n",
        "for tick in axes[0].get_yticklabels():\n",
        "        tick.set_fontname(\"serif\")\n",
        "        tick.set_fontsize(12)\n",
        "\n",
        "for tick in axes[1].get_xticklabels():\n",
        "        tick.set_fontname(\"serif\")\n",
        "        tick.set_fontsize(12)\n",
        "for tick in axes[1].get_yticklabels():\n",
        "        tick.set_fontname(\"serif\")\n",
        "        tick.set_fontsize(12)"
      ],
      "metadata": {
        "colab": {
          "base_uri": "https://localhost:8080/",
          "height": 300
        },
        "outputId": "4e4eec15-539d-4c49-b60c-5bde1bb8f7f6",
        "id": "KeTnKa3MpImQ"
      },
      "execution_count": 62,
      "outputs": [
        {
          "output_type": "display_data",
          "data": {
            "text/plain": [
              "<Figure size 864x288 with 2 Axes>"
            ],
            "image/png": "[encoded data removed]"
          },
          "metadata": {
            "needs_background": "light"
          }
        }
      ]
    },
    {
      "cell_type": "code",
      "source": [
        "# test the model on validation dataX_train, y_train\n",
        "loss, acc = model.evaluate(X_train, y_train, verbose = 1)\n",
        "print('\\n accuracy using the training data set: %5.2f' %(acc))\n",
        "print('loss using the training data set: %5.2f' %(loss))\n",
        "loss, acc = model.evaluate(X_val, y_val, verbose = 1)\n",
        "print('\\n accuracy using the validation data set: %5.2f' %(acc))\n",
        "print('loss using the validation data set: %5.2f' %(loss))"
      ],
      "metadata": {
        "colab": {
          "base_uri": "https://localhost:8080/"
        },
        "outputId": "37901122-9b66-437f-c853-ba55bddf0a7c",
        "id": "iXHWSiaDpImR"
      },
      "execution_count": 63,
      "outputs": [
        {
          "output_type": "stream",
          "name": "stdout",
          "text": [
            "1750/1750 [==============================] - 3s 2ms/step - loss: 0.3981 - accuracy: 0.8578\n",
            "\n",
            " accuracy using the training data set:  0.86\n",
            "loss using the training data set:  0.40\n",
            "219/219 [==============================] - 0s 2ms/step - loss: 0.4328 - accuracy: 0.8501\n",
            "\n",
            " accuracy using the validation data set:  0.85\n",
            "loss using the validation data set:  0.43\n"
          ]
        }
      ]
    },
    {
      "cell_type": "markdown",
      "source": [
        "For this Neural Network the activation function changed from a relu function to a sigmoid function. When evaluating the model using the validation data set the loss and accuracy values obtained are 0.43 and 0.85, respectively. These values are significantly worse with respect to the NN using the relu function.Therefore, the relu function will be used in this study."
      ],
      "metadata": {
        "id": "2DXOO-t_uiRn"
      }
    },
    {
      "cell_type": "markdown",
      "source": [
        "### EFFECT OF NUMBER OF EPOCHS"
      ],
      "metadata": {
        "id": "RbJfeEOFxZuK"
      }
    },
    {
      "cell_type": "markdown",
      "source": [
        "In this sub section the effect of the number of epochs on the model performance will be evaluated. It is known that increasing the number of epochs indiscriminately will lead to overfitting issues. Therefore, the challenge is to find the adequate number of epochs that will lead to the ideal parameter values without overfitting the data.  "
      ],
      "metadata": {
        "id": "TTHbw4Vk3n3g"
      }
    },
    {
      "cell_type": "code",
      "source": [
        "LOSS = np.zeros(8,)\n",
        "ACC = np.zeros(8,)\n",
        "LOSS_t = np.zeros(8,)\n",
        "ACC_t = np.zeros(8,)\n",
        "for i in range(0,8,1):\n",
        "    del model\n",
        "    model = tf.keras.models.Sequential([ \n",
        "    tf.keras.layers.Flatten(input_shape=(28, 28)), \n",
        "    tf.keras.layers.Dense(128, activation='relu'),\n",
        "    tf.keras.layers.Dense(128, activation='relu'),\n",
        "    tf.keras.layers.Dense(128, activation='relu'),\n",
        "    tf.keras.layers.Dense(128, activation='relu'),        \n",
        "    tf.keras.layers.Dense(128, activation='relu'),    \n",
        "    tf.keras.layers.Dense(10, activation='softmax')     \n",
        "    ])\n",
        "    model.compile(optimizer='adam',\n",
        "                  loss=tf.keras.losses.SparseCategoricalCrossentropy(from_logits=True),\n",
        "                  metrics=['accuracy'])\n",
        "    history = model.fit(X_train, y_train, epochs=5+2**i, batch_size=2**10)\n",
        "    loss = history.history['loss']\n",
        "    accuracy = history.history['accuracy']\n",
        "    # test the model on validation data\n",
        "    loss, acc = model.evaluate(X_val, y_val, verbose = 1)\n",
        "    LOSS[i] = loss\n",
        "    ACC[i] = acc\n",
        "    loss, acc = model.evaluate(X_train, y_train, verbose = 1)\n",
        "    LOSS_t[i] = loss\n",
        "    ACC_t[i] = acc\n",
        "    print('\\nTest accuracy: ', acc)"
      ],
      "metadata": {
        "colab": {
          "base_uri": "https://localhost:8080/"
        },
        "id": "FrOtNrKqyff8",
        "outputId": "f2152346-ab87-48b0-f54d-1209c98d9cfb"
      },
      "execution_count": 64,
      "outputs": [
        {
          "output_type": "stream",
          "name": "stdout",
          "text": [
            "Epoch 1/6\n"
          ]
        },
        {
          "output_type": "stream",
          "name": "stderr",
          "text": [
            "/usr/local/lib/python3.7/dist-packages/tensorflow/python/util/dispatch.py:1082: UserWarning: \"`sparse_categorical_crossentropy` received `from_logits=True`, but the `output` argument was produced by a sigmoid or softmax activation and thus does not represent logits. Was this intended?\"\n",
            "  return dispatch_target(*args, **kwargs)\n"
          ]
        },
        {
          "output_type": "stream",
          "name": "stdout",
          "text": [
            "55/55 [==============================] - 2s 23ms/step - loss: 0.9112 - accuracy: 0.6772\n",
            "Epoch 2/6\n",
            "55/55 [==============================] - 1s 24ms/step - loss: 0.4847 - accuracy: 0.8306\n",
            "Epoch 3/6\n",
            "55/55 [==============================] - 1s 24ms/step - loss: 0.4191 - accuracy: 0.8513\n",
            "Epoch 4/6\n",
            "55/55 [==============================] - 1s 24ms/step - loss: 0.3835 - accuracy: 0.8635\n",
            "Epoch 5/6\n",
            "55/55 [==============================] - 1s 24ms/step - loss: 0.3664 - accuracy: 0.8689\n",
            "Epoch 6/6\n",
            "55/55 [==============================] - 1s 24ms/step - loss: 0.3442 - accuracy: 0.8766\n",
            "219/219 [==============================] - 1s 2ms/step - loss: 0.3632 - accuracy: 0.8719\n",
            "1750/1750 [==============================] - 3s 2ms/step - loss: 0.3283 - accuracy: 0.8804\n",
            "\n",
            "Test accuracy:  0.8804442882537842\n",
            "Epoch 1/7\n",
            "55/55 [==============================] - 2s 23ms/step - loss: 0.9023 - accuracy: 0.6848\n",
            "Epoch 2/7\n",
            "55/55 [==============================] - 1s 25ms/step - loss: 0.4689 - accuracy: 0.8348\n",
            "Epoch 3/7\n",
            "55/55 [==============================] - 1s 24ms/step - loss: 0.4143 - accuracy: 0.8512\n",
            "Epoch 4/7\n",
            "55/55 [==============================] - 1s 24ms/step - loss: 0.3769 - accuracy: 0.8655\n",
            "Epoch 5/7\n",
            "55/55 [==============================] - 1s 24ms/step - loss: 0.3565 - accuracy: 0.8705\n",
            "Epoch 6/7\n",
            "55/55 [==============================] - 1s 24ms/step - loss: 0.3390 - accuracy: 0.8758\n",
            "Epoch 7/7\n",
            "55/55 [==============================] - 1s 24ms/step - loss: 0.3278 - accuracy: 0.8809\n",
            "219/219 [==============================] - 1s 2ms/step - loss: 0.3537 - accuracy: 0.8751\n",
            "1750/1750 [==============================] - 3s 2ms/step - loss: 0.3141 - accuracy: 0.8848\n",
            "\n",
            "Test accuracy:  0.8848015069961548\n",
            "Epoch 1/9\n",
            "55/55 [==============================] - 2s 23ms/step - loss: 0.9110 - accuracy: 0.6799\n",
            "Epoch 2/9\n",
            "55/55 [==============================] - 1s 24ms/step - loss: 0.4818 - accuracy: 0.8296\n",
            "Epoch 3/9\n",
            "55/55 [==============================] - 1s 23ms/step - loss: 0.4258 - accuracy: 0.8484\n",
            "Epoch 4/9\n",
            "55/55 [==============================] - 1s 24ms/step - loss: 0.3883 - accuracy: 0.8606\n",
            "Epoch 5/9\n",
            "55/55 [==============================] - 1s 24ms/step - loss: 0.3615 - accuracy: 0.8699\n",
            "Epoch 6/9\n",
            "55/55 [==============================] - 1s 24ms/step - loss: 0.3465 - accuracy: 0.8737\n",
            "Epoch 7/9\n",
            "55/55 [==============================] - 1s 25ms/step - loss: 0.3362 - accuracy: 0.8771\n",
            "Epoch 8/9\n",
            "55/55 [==============================] - 1s 23ms/step - loss: 0.3132 - accuracy: 0.8850\n",
            "Epoch 9/9\n",
            "55/55 [==============================] - 1s 23ms/step - loss: 0.3064 - accuracy: 0.8866\n",
            "219/219 [==============================] - 1s 2ms/step - loss: 0.3407 - accuracy: 0.8759\n",
            "1750/1750 [==============================] - 3s 2ms/step - loss: 0.2942 - accuracy: 0.8911\n",
            "\n",
            "Test accuracy:  0.8910516500473022\n",
            "Epoch 1/13\n",
            "55/55 [==============================] - 2s 24ms/step - loss: 0.9527 - accuracy: 0.6665\n",
            "Epoch 2/13\n",
            "55/55 [==============================] - 1s 24ms/step - loss: 0.4921 - accuracy: 0.8273\n",
            "Epoch 3/13\n",
            "55/55 [==============================] - 1s 24ms/step - loss: 0.4310 - accuracy: 0.8486\n",
            "Epoch 4/13\n",
            "55/55 [==============================] - 1s 24ms/step - loss: 0.3928 - accuracy: 0.8606\n",
            "Epoch 5/13\n",
            "55/55 [==============================] - 1s 24ms/step - loss: 0.3638 - accuracy: 0.8708\n",
            "Epoch 6/13\n",
            "55/55 [==============================] - 1s 23ms/step - loss: 0.3487 - accuracy: 0.8744\n",
            "Epoch 7/13\n",
            "55/55 [==============================] - 1s 24ms/step - loss: 0.3342 - accuracy: 0.8785\n",
            "Epoch 8/13\n",
            "55/55 [==============================] - 1s 24ms/step - loss: 0.3206 - accuracy: 0.8821\n",
            "Epoch 9/13\n",
            "55/55 [==============================] - 1s 23ms/step - loss: 0.3112 - accuracy: 0.8862\n",
            "Epoch 10/13\n",
            "55/55 [==============================] - 1s 24ms/step - loss: 0.3045 - accuracy: 0.8885\n",
            "Epoch 11/13\n",
            "55/55 [==============================] - 1s 24ms/step - loss: 0.2886 - accuracy: 0.8926\n",
            "Epoch 12/13\n",
            "55/55 [==============================] - 1s 23ms/step - loss: 0.2813 - accuracy: 0.8959\n",
            "Epoch 13/13\n",
            "55/55 [==============================] - 1s 25ms/step - loss: 0.2739 - accuracy: 0.8982\n",
            "219/219 [==============================] - 1s 2ms/step - loss: 0.3259 - accuracy: 0.8819\n",
            "1750/1750 [==============================] - 3s 2ms/step - loss: 0.2575 - accuracy: 0.9055\n",
            "\n",
            "Test accuracy:  0.9054804444313049\n",
            "Epoch 1/21\n",
            "55/55 [==============================] - 2s 25ms/step - loss: 0.9205 - accuracy: 0.6853\n",
            "Epoch 2/21\n",
            "55/55 [==============================] - 1s 23ms/step - loss: 0.4860 - accuracy: 0.8260\n",
            "Epoch 3/21\n",
            "55/55 [==============================] - 1s 24ms/step - loss: 0.4257 - accuracy: 0.8487\n",
            "Epoch 4/21\n",
            "55/55 [==============================] - 1s 24ms/step - loss: 0.3858 - accuracy: 0.8625\n",
            "Epoch 5/21\n",
            "55/55 [==============================] - 1s 24ms/step - loss: 0.3711 - accuracy: 0.8664\n",
            "Epoch 6/21\n",
            "55/55 [==============================] - 1s 24ms/step - loss: 0.3475 - accuracy: 0.8747\n",
            "Epoch 7/21\n",
            "55/55 [==============================] - 1s 24ms/step - loss: 0.3307 - accuracy: 0.8807\n",
            "Epoch 8/21\n",
            "55/55 [==============================] - 1s 24ms/step - loss: 0.3174 - accuracy: 0.8849\n",
            "Epoch 9/21\n",
            "55/55 [==============================] - 1s 23ms/step - loss: 0.3094 - accuracy: 0.8867\n",
            "Epoch 10/21\n",
            "55/55 [==============================] - 1s 24ms/step - loss: 0.2943 - accuracy: 0.8920\n",
            "Epoch 11/21\n",
            "55/55 [==============================] - 1s 24ms/step - loss: 0.2905 - accuracy: 0.8935\n",
            "Epoch 12/21\n",
            "55/55 [==============================] - 1s 24ms/step - loss: 0.2771 - accuracy: 0.8996\n",
            "Epoch 13/21\n",
            "55/55 [==============================] - 1s 23ms/step - loss: 0.2715 - accuracy: 0.9002\n",
            "Epoch 14/21\n",
            "55/55 [==============================] - 1s 23ms/step - loss: 0.2613 - accuracy: 0.9040\n",
            "Epoch 15/21\n",
            "55/55 [==============================] - 1s 24ms/step - loss: 0.2509 - accuracy: 0.9076\n",
            "Epoch 16/21\n",
            "55/55 [==============================] - 1s 23ms/step - loss: 0.2474 - accuracy: 0.9082\n",
            "Epoch 17/21\n",
            "55/55 [==============================] - 1s 23ms/step - loss: 0.2415 - accuracy: 0.9107\n",
            "Epoch 18/21\n",
            "55/55 [==============================] - 1s 23ms/step - loss: 0.2262 - accuracy: 0.9151\n",
            "Epoch 19/21\n",
            "55/55 [==============================] - 2s 34ms/step - loss: 0.2282 - accuracy: 0.9154\n",
            "Epoch 20/21\n",
            "55/55 [==============================] - 2s 28ms/step - loss: 0.2232 - accuracy: 0.9172\n",
            "Epoch 21/21\n",
            "55/55 [==============================] - 1s 23ms/step - loss: 0.2199 - accuracy: 0.9176\n",
            "219/219 [==============================] - 1s 2ms/step - loss: 0.3201 - accuracy: 0.8823\n",
            "1750/1750 [==============================] - 3s 2ms/step - loss: 0.2120 - accuracy: 0.9206\n",
            "\n",
            "Test accuracy:  0.920552134513855\n",
            "Epoch 1/37\n",
            "55/55 [==============================] - 2s 24ms/step - loss: 0.9447 - accuracy: 0.6629\n",
            "Epoch 2/37\n",
            "55/55 [==============================] - 1s 24ms/step - loss: 0.4901 - accuracy: 0.8249\n",
            "Epoch 3/37\n",
            "55/55 [==============================] - 1s 24ms/step - loss: 0.4305 - accuracy: 0.8456\n",
            "Epoch 4/37\n",
            "55/55 [==============================] - 1s 23ms/step - loss: 0.3931 - accuracy: 0.8591\n",
            "Epoch 5/37\n",
            "55/55 [==============================] - 1s 24ms/step - loss: 0.3730 - accuracy: 0.8649\n",
            "Epoch 6/37\n",
            "55/55 [==============================] - 1s 23ms/step - loss: 0.3486 - accuracy: 0.8735\n",
            "Epoch 7/37\n",
            "55/55 [==============================] - 1s 24ms/step - loss: 0.3383 - accuracy: 0.8772\n",
            "Epoch 8/37\n",
            "55/55 [==============================] - 1s 24ms/step - loss: 0.3260 - accuracy: 0.8810\n",
            "Epoch 9/37\n",
            "55/55 [==============================] - 1s 23ms/step - loss: 0.3114 - accuracy: 0.8861\n",
            "Epoch 10/37\n",
            "55/55 [==============================] - 1s 25ms/step - loss: 0.2975 - accuracy: 0.8916\n",
            "Epoch 11/37\n",
            "55/55 [==============================] - 1s 24ms/step - loss: 0.2925 - accuracy: 0.8920\n",
            "Epoch 12/37\n",
            "55/55 [==============================] - 1s 24ms/step - loss: 0.2815 - accuracy: 0.8968\n",
            "Epoch 13/37\n",
            "55/55 [==============================] - 1s 24ms/step - loss: 0.2768 - accuracy: 0.8982\n",
            "Epoch 14/37\n",
            "55/55 [==============================] - 1s 25ms/step - loss: 0.2703 - accuracy: 0.9001\n",
            "Epoch 15/37\n",
            "55/55 [==============================] - 1s 23ms/step - loss: 0.2580 - accuracy: 0.9049\n",
            "Epoch 16/37\n",
            "55/55 [==============================] - 1s 24ms/step - loss: 0.2537 - accuracy: 0.9060\n",
            "Epoch 17/37\n",
            "55/55 [==============================] - 1s 25ms/step - loss: 0.2487 - accuracy: 0.9086\n",
            "Epoch 18/37\n",
            "55/55 [==============================] - 1s 24ms/step - loss: 0.2488 - accuracy: 0.9064\n",
            "Epoch 19/37\n",
            "55/55 [==============================] - 1s 24ms/step - loss: 0.2415 - accuracy: 0.9102\n",
            "Epoch 20/37\n",
            "55/55 [==============================] - 1s 24ms/step - loss: 0.2292 - accuracy: 0.9142\n",
            "Epoch 21/37\n",
            "55/55 [==============================] - 1s 24ms/step - loss: 0.2249 - accuracy: 0.9157\n",
            "Epoch 22/37\n",
            "55/55 [==============================] - 1s 24ms/step - loss: 0.2213 - accuracy: 0.9179\n",
            "Epoch 23/37\n",
            "55/55 [==============================] - 1s 24ms/step - loss: 0.2178 - accuracy: 0.9179\n",
            "Epoch 24/37\n",
            "55/55 [==============================] - 1s 24ms/step - loss: 0.2057 - accuracy: 0.9236\n",
            "Epoch 25/37\n",
            "55/55 [==============================] - 1s 25ms/step - loss: 0.2064 - accuracy: 0.9227\n",
            "Epoch 26/37\n",
            "55/55 [==============================] - 1s 23ms/step - loss: 0.1986 - accuracy: 0.9259\n",
            "Epoch 27/37\n",
            "55/55 [==============================] - 1s 24ms/step - loss: 0.1927 - accuracy: 0.9283\n",
            "Epoch 28/37\n",
            "55/55 [==============================] - 1s 23ms/step - loss: 0.1904 - accuracy: 0.9294\n",
            "Epoch 29/37\n",
            "55/55 [==============================] - 1s 23ms/step - loss: 0.1874 - accuracy: 0.9298\n",
            "Epoch 30/37\n",
            "55/55 [==============================] - 1s 24ms/step - loss: 0.1868 - accuracy: 0.9311\n",
            "Epoch 31/37\n",
            "55/55 [==============================] - 1s 23ms/step - loss: 0.1795 - accuracy: 0.9324\n",
            "Epoch 32/37\n",
            "55/55 [==============================] - 1s 24ms/step - loss: 0.1744 - accuracy: 0.9340\n",
            "Epoch 33/37\n",
            "55/55 [==============================] - 1s 23ms/step - loss: 0.1741 - accuracy: 0.9351\n",
            "Epoch 34/37\n",
            "55/55 [==============================] - 1s 23ms/step - loss: 0.1689 - accuracy: 0.9371\n",
            "Epoch 35/37\n",
            "55/55 [==============================] - 1s 24ms/step - loss: 0.1586 - accuracy: 0.9406\n",
            "Epoch 36/37\n",
            "55/55 [==============================] - 1s 23ms/step - loss: 0.1533 - accuracy: 0.9430\n",
            "Epoch 37/37\n",
            "55/55 [==============================] - 1s 24ms/step - loss: 0.1537 - accuracy: 0.9430\n",
            "219/219 [==============================] - 1s 2ms/step - loss: 0.3363 - accuracy: 0.8960\n",
            "1750/1750 [==============================] - 3s 2ms/step - loss: 0.1408 - accuracy: 0.9497\n",
            "\n",
            "Test accuracy:  0.9496955275535583\n",
            "Epoch 1/69\n",
            "55/55 [==============================] - 2s 25ms/step - loss: 0.9434 - accuracy: 0.6640\n",
            "Epoch 2/69\n",
            "55/55 [==============================] - 1s 24ms/step - loss: 0.4777 - accuracy: 0.8324\n",
            "Epoch 3/69\n",
            "55/55 [==============================] - 1s 24ms/step - loss: 0.4214 - accuracy: 0.8498\n",
            "Epoch 4/69\n",
            "55/55 [==============================] - 1s 24ms/step - loss: 0.3818 - accuracy: 0.8656\n",
            "Epoch 5/69\n",
            "55/55 [==============================] - 1s 24ms/step - loss: 0.3617 - accuracy: 0.8711\n",
            "Epoch 6/69\n",
            "55/55 [==============================] - 1s 24ms/step - loss: 0.3456 - accuracy: 0.8760\n",
            "Epoch 7/69\n",
            "55/55 [==============================] - 1s 24ms/step - loss: 0.3329 - accuracy: 0.8805\n",
            "Epoch 8/69\n",
            "55/55 [==============================] - 1s 24ms/step - loss: 0.3183 - accuracy: 0.8841\n",
            "Epoch 9/69\n",
            "55/55 [==============================] - 1s 24ms/step - loss: 0.3123 - accuracy: 0.8862\n",
            "Epoch 10/69\n",
            "55/55 [==============================] - 1s 23ms/step - loss: 0.3016 - accuracy: 0.8894\n",
            "Epoch 11/69\n",
            "55/55 [==============================] - 1s 23ms/step - loss: 0.2839 - accuracy: 0.8962\n",
            "Epoch 12/69\n",
            "55/55 [==============================] - 1s 24ms/step - loss: 0.2805 - accuracy: 0.8970\n",
            "Epoch 13/69\n",
            "55/55 [==============================] - 1s 23ms/step - loss: 0.2715 - accuracy: 0.8987\n",
            "Epoch 14/69\n",
            "55/55 [==============================] - 1s 23ms/step - loss: 0.2612 - accuracy: 0.9039\n",
            "Epoch 15/69\n",
            "55/55 [==============================] - 1s 24ms/step - loss: 0.2618 - accuracy: 0.9024\n",
            "Epoch 16/69\n",
            "55/55 [==============================] - 1s 24ms/step - loss: 0.2481 - accuracy: 0.9072\n",
            "Epoch 17/69\n",
            "55/55 [==============================] - 1s 24ms/step - loss: 0.2458 - accuracy: 0.9079\n",
            "Epoch 18/69\n",
            "55/55 [==============================] - 1s 24ms/step - loss: 0.2330 - accuracy: 0.9120\n",
            "Epoch 19/69\n",
            "55/55 [==============================] - 1s 24ms/step - loss: 0.2350 - accuracy: 0.9118\n",
            "Epoch 20/69\n",
            "55/55 [==============================] - 1s 24ms/step - loss: 0.2292 - accuracy: 0.9143\n",
            "Epoch 21/69\n",
            "55/55 [==============================] - 1s 24ms/step - loss: 0.2215 - accuracy: 0.9169\n",
            "Epoch 22/69\n",
            "55/55 [==============================] - 1s 23ms/step - loss: 0.2083 - accuracy: 0.9226\n",
            "Epoch 23/69\n",
            "55/55 [==============================] - 1s 24ms/step - loss: 0.2071 - accuracy: 0.9223\n",
            "Epoch 24/69\n",
            "55/55 [==============================] - 1s 23ms/step - loss: 0.2036 - accuracy: 0.9244\n",
            "Epoch 25/69\n",
            "55/55 [==============================] - 1s 24ms/step - loss: 0.1936 - accuracy: 0.9287\n",
            "Epoch 26/69\n",
            "55/55 [==============================] - 1s 23ms/step - loss: 0.1912 - accuracy: 0.9283\n",
            "Epoch 27/69\n",
            "55/55 [==============================] - 1s 24ms/step - loss: 0.1882 - accuracy: 0.9296\n",
            "Epoch 28/69\n",
            "55/55 [==============================] - 1s 24ms/step - loss: 0.1855 - accuracy: 0.9292\n",
            "Epoch 29/69\n",
            "55/55 [==============================] - 1s 23ms/step - loss: 0.1841 - accuracy: 0.9310\n",
            "Epoch 30/69\n",
            "55/55 [==============================] - 1s 24ms/step - loss: 0.1794 - accuracy: 0.9323\n",
            "Epoch 31/69\n",
            "55/55 [==============================] - 1s 24ms/step - loss: 0.1754 - accuracy: 0.9345\n",
            "Epoch 32/69\n",
            "55/55 [==============================] - 1s 24ms/step - loss: 0.1712 - accuracy: 0.9357\n",
            "Epoch 33/69\n",
            "55/55 [==============================] - 1s 24ms/step - loss: 0.1662 - accuracy: 0.9382\n",
            "Epoch 34/69\n",
            "55/55 [==============================] - 1s 24ms/step - loss: 0.1575 - accuracy: 0.9418\n",
            "Epoch 35/69\n",
            "55/55 [==============================] - 1s 24ms/step - loss: 0.1598 - accuracy: 0.9402\n",
            "Epoch 36/69\n",
            "55/55 [==============================] - 1s 23ms/step - loss: 0.1542 - accuracy: 0.9428\n",
            "Epoch 37/69\n",
            "55/55 [==============================] - 1s 24ms/step - loss: 0.1494 - accuracy: 0.9442\n",
            "Epoch 38/69\n",
            "55/55 [==============================] - 1s 24ms/step - loss: 0.1400 - accuracy: 0.9480\n",
            "Epoch 39/69\n",
            "55/55 [==============================] - 1s 24ms/step - loss: 0.1403 - accuracy: 0.9470\n",
            "Epoch 40/69\n",
            "55/55 [==============================] - 2s 28ms/step - loss: 0.1479 - accuracy: 0.9441\n",
            "Epoch 41/69\n",
            "55/55 [==============================] - 2s 33ms/step - loss: 0.1390 - accuracy: 0.9478\n",
            "Epoch 42/69\n",
            "55/55 [==============================] - 1s 24ms/step - loss: 0.1409 - accuracy: 0.9471\n",
            "Epoch 43/69\n",
            "55/55 [==============================] - 1s 24ms/step - loss: 0.1353 - accuracy: 0.9490\n",
            "Epoch 44/69\n",
            "55/55 [==============================] - 1s 24ms/step - loss: 0.1316 - accuracy: 0.9516\n",
            "Epoch 45/69\n",
            "55/55 [==============================] - 1s 24ms/step - loss: 0.1194 - accuracy: 0.9558\n",
            "Epoch 46/69\n",
            "55/55 [==============================] - 1s 24ms/step - loss: 0.1217 - accuracy: 0.9547\n",
            "Epoch 47/69\n",
            "55/55 [==============================] - 1s 24ms/step - loss: 0.1279 - accuracy: 0.9527\n",
            "Epoch 48/69\n",
            "55/55 [==============================] - 1s 24ms/step - loss: 0.1226 - accuracy: 0.9539\n",
            "Epoch 49/69\n",
            "55/55 [==============================] - 1s 24ms/step - loss: 0.1125 - accuracy: 0.9579\n",
            "Epoch 50/69\n",
            "55/55 [==============================] - 1s 24ms/step - loss: 0.1070 - accuracy: 0.9609\n",
            "Epoch 51/69\n",
            "55/55 [==============================] - 1s 24ms/step - loss: 0.1093 - accuracy: 0.9592\n",
            "Epoch 52/69\n",
            "55/55 [==============================] - 1s 24ms/step - loss: 0.1130 - accuracy: 0.9575\n",
            "Epoch 53/69\n",
            "55/55 [==============================] - 1s 24ms/step - loss: 0.0998 - accuracy: 0.9632\n",
            "Epoch 54/69\n",
            "55/55 [==============================] - 1s 24ms/step - loss: 0.0965 - accuracy: 0.9640\n",
            "Epoch 55/69\n",
            "55/55 [==============================] - 1s 24ms/step - loss: 0.0978 - accuracy: 0.9634\n",
            "Epoch 56/69\n",
            "55/55 [==============================] - 1s 23ms/step - loss: 0.1090 - accuracy: 0.9585\n",
            "Epoch 57/69\n",
            "55/55 [==============================] - 1s 25ms/step - loss: 0.0840 - accuracy: 0.9693\n",
            "Epoch 58/69\n",
            "55/55 [==============================] - 1s 24ms/step - loss: 0.0982 - accuracy: 0.9623\n",
            "Epoch 59/69\n",
            "55/55 [==============================] - 1s 24ms/step - loss: 0.0891 - accuracy: 0.9661\n",
            "Epoch 60/69\n",
            "55/55 [==============================] - 1s 24ms/step - loss: 0.0886 - accuracy: 0.9669\n",
            "Epoch 61/69\n",
            "55/55 [==============================] - 1s 24ms/step - loss: 0.0874 - accuracy: 0.9671\n",
            "Epoch 62/69\n",
            "55/55 [==============================] - 1s 24ms/step - loss: 0.0928 - accuracy: 0.9647\n",
            "Epoch 63/69\n",
            "55/55 [==============================] - 1s 24ms/step - loss: 0.0825 - accuracy: 0.9693\n",
            "Epoch 64/69\n",
            "55/55 [==============================] - 1s 24ms/step - loss: 0.0878 - accuracy: 0.9673\n",
            "Epoch 65/69\n",
            "55/55 [==============================] - 1s 25ms/step - loss: 0.0766 - accuracy: 0.9716\n",
            "Epoch 66/69\n",
            "55/55 [==============================] - 1s 24ms/step - loss: 0.0760 - accuracy: 0.9725\n",
            "Epoch 67/69\n",
            "55/55 [==============================] - 1s 24ms/step - loss: 0.0839 - accuracy: 0.9684\n",
            "Epoch 68/69\n",
            "55/55 [==============================] - 1s 24ms/step - loss: 0.0760 - accuracy: 0.9720\n",
            "Epoch 69/69\n",
            "55/55 [==============================] - 1s 24ms/step - loss: 0.0702 - accuracy: 0.9732\n",
            "219/219 [==============================] - 1s 2ms/step - loss: 0.5190 - accuracy: 0.8961\n",
            "1750/1750 [==============================] - 3s 2ms/step - loss: 0.0618 - accuracy: 0.9769\n",
            "\n",
            "Test accuracy:  0.9769102931022644\n",
            "Epoch 1/133\n",
            "55/55 [==============================] - 2s 25ms/step - loss: 0.9261 - accuracy: 0.6777\n",
            "Epoch 2/133\n",
            "55/55 [==============================] - 1s 24ms/step - loss: 0.4693 - accuracy: 0.8362\n",
            "Epoch 3/133\n",
            "55/55 [==============================] - 1s 24ms/step - loss: 0.4279 - accuracy: 0.8475\n",
            "Epoch 4/133\n",
            "55/55 [==============================] - 1s 23ms/step - loss: 0.3874 - accuracy: 0.8623\n",
            "Epoch 5/133\n",
            "55/55 [==============================] - 1s 23ms/step - loss: 0.3662 - accuracy: 0.8693\n",
            "Epoch 6/133\n",
            "55/55 [==============================] - 1s 25ms/step - loss: 0.3384 - accuracy: 0.8791\n",
            "Epoch 7/133\n",
            "55/55 [==============================] - 1s 24ms/step - loss: 0.3248 - accuracy: 0.8818\n",
            "Epoch 8/133\n",
            "55/55 [==============================] - 1s 24ms/step - loss: 0.3112 - accuracy: 0.8875\n",
            "Epoch 9/133\n",
            "55/55 [==============================] - 1s 24ms/step - loss: 0.3002 - accuracy: 0.8902\n",
            "Epoch 10/133\n",
            "55/55 [==============================] - 1s 24ms/step - loss: 0.2919 - accuracy: 0.8932\n",
            "Epoch 11/133\n",
            "55/55 [==============================] - 1s 24ms/step - loss: 0.2802 - accuracy: 0.8971\n",
            "Epoch 12/133\n",
            "55/55 [==============================] - 1s 24ms/step - loss: 0.2776 - accuracy: 0.8968\n",
            "Epoch 13/133\n",
            "55/55 [==============================] - 1s 23ms/step - loss: 0.2699 - accuracy: 0.8994\n",
            "Epoch 14/133\n",
            "55/55 [==============================] - 1s 24ms/step - loss: 0.2620 - accuracy: 0.9037\n",
            "Epoch 15/133\n",
            "55/55 [==============================] - 1s 23ms/step - loss: 0.2453 - accuracy: 0.9094\n",
            "Epoch 16/133\n",
            "55/55 [==============================] - 1s 24ms/step - loss: 0.2419 - accuracy: 0.9094\n",
            "Epoch 17/133\n",
            "55/55 [==============================] - 1s 24ms/step - loss: 0.2349 - accuracy: 0.9117\n",
            "Epoch 18/133\n",
            "55/55 [==============================] - 1s 24ms/step - loss: 0.2284 - accuracy: 0.9153\n",
            "Epoch 19/133\n",
            "55/55 [==============================] - 1s 23ms/step - loss: 0.2230 - accuracy: 0.9171\n",
            "Epoch 20/133\n",
            "55/55 [==============================] - 1s 23ms/step - loss: 0.2178 - accuracy: 0.9183\n",
            "Epoch 21/133\n",
            "55/55 [==============================] - 1s 24ms/step - loss: 0.2159 - accuracy: 0.9194\n",
            "Epoch 22/133\n",
            "55/55 [==============================] - 1s 24ms/step - loss: 0.2154 - accuracy: 0.9196\n",
            "Epoch 23/133\n",
            "55/55 [==============================] - 1s 24ms/step - loss: 0.2024 - accuracy: 0.9239\n",
            "Epoch 24/133\n",
            "55/55 [==============================] - 1s 24ms/step - loss: 0.2012 - accuracy: 0.9246\n",
            "Epoch 25/133\n",
            "55/55 [==============================] - 1s 24ms/step - loss: 0.1905 - accuracy: 0.9289\n",
            "Epoch 26/133\n",
            "55/55 [==============================] - 1s 24ms/step - loss: 0.1918 - accuracy: 0.9285\n",
            "Epoch 27/133\n",
            "55/55 [==============================] - 1s 24ms/step - loss: 0.1852 - accuracy: 0.9309\n",
            "Epoch 28/133\n",
            "55/55 [==============================] - 1s 24ms/step - loss: 0.1859 - accuracy: 0.9304\n",
            "Epoch 29/133\n",
            "55/55 [==============================] - 1s 24ms/step - loss: 0.1797 - accuracy: 0.9333\n",
            "Epoch 30/133\n",
            "55/55 [==============================] - 1s 24ms/step - loss: 0.1669 - accuracy: 0.9376\n",
            "Epoch 31/133\n",
            "55/55 [==============================] - 1s 24ms/step - loss: 0.1678 - accuracy: 0.9369\n",
            "Epoch 32/133\n",
            "55/55 [==============================] - 1s 24ms/step - loss: 0.1628 - accuracy: 0.9391\n",
            "Epoch 33/133\n",
            "55/55 [==============================] - 1s 24ms/step - loss: 0.1571 - accuracy: 0.9417\n",
            "Epoch 34/133\n",
            "55/55 [==============================] - 1s 24ms/step - loss: 0.1581 - accuracy: 0.9405\n",
            "Epoch 35/133\n",
            "55/55 [==============================] - 1s 25ms/step - loss: 0.1524 - accuracy: 0.9429\n",
            "Epoch 36/133\n",
            "55/55 [==============================] - 1s 24ms/step - loss: 0.1469 - accuracy: 0.9451\n",
            "Epoch 37/133\n",
            "55/55 [==============================] - 1s 25ms/step - loss: 0.1479 - accuracy: 0.9442\n",
            "Epoch 38/133\n",
            "55/55 [==============================] - 1s 24ms/step - loss: 0.1420 - accuracy: 0.9473\n",
            "Epoch 39/133\n",
            "55/55 [==============================] - 1s 24ms/step - loss: 0.1392 - accuracy: 0.9486\n",
            "Epoch 40/133\n",
            "55/55 [==============================] - 1s 24ms/step - loss: 0.1348 - accuracy: 0.9493\n",
            "Epoch 41/133\n",
            "55/55 [==============================] - 1s 24ms/step - loss: 0.1355 - accuracy: 0.9489\n",
            "Epoch 42/133\n",
            "55/55 [==============================] - 1s 24ms/step - loss: 0.1353 - accuracy: 0.9503\n",
            "Epoch 43/133\n",
            "55/55 [==============================] - 1s 24ms/step - loss: 0.1193 - accuracy: 0.9561\n",
            "Epoch 44/133\n",
            "55/55 [==============================] - 1s 25ms/step - loss: 0.1270 - accuracy: 0.9527\n",
            "Epoch 45/133\n",
            "55/55 [==============================] - 1s 25ms/step - loss: 0.1284 - accuracy: 0.9515\n",
            "Epoch 46/133\n",
            "55/55 [==============================] - 1s 24ms/step - loss: 0.1148 - accuracy: 0.9572\n",
            "Epoch 47/133\n",
            "55/55 [==============================] - 1s 24ms/step - loss: 0.1102 - accuracy: 0.9598\n",
            "Epoch 48/133\n",
            "55/55 [==============================] - 1s 24ms/step - loss: 0.1074 - accuracy: 0.9602\n",
            "Epoch 49/133\n",
            "55/55 [==============================] - 1s 24ms/step - loss: 0.1081 - accuracy: 0.9591\n",
            "Epoch 50/133\n",
            "55/55 [==============================] - 1s 24ms/step - loss: 0.1070 - accuracy: 0.9596\n",
            "Epoch 51/133\n",
            "55/55 [==============================] - 2s 30ms/step - loss: 0.1102 - accuracy: 0.9588\n",
            "Epoch 52/133\n",
            "55/55 [==============================] - 2s 33ms/step - loss: 0.1004 - accuracy: 0.9632\n",
            "Epoch 53/133\n",
            "55/55 [==============================] - 1s 24ms/step - loss: 0.1028 - accuracy: 0.9611\n",
            "Epoch 54/133\n",
            "55/55 [==============================] - 1s 24ms/step - loss: 0.1094 - accuracy: 0.9583\n",
            "Epoch 55/133\n",
            "55/55 [==============================] - 1s 24ms/step - loss: 0.0923 - accuracy: 0.9655\n",
            "Epoch 56/133\n",
            "55/55 [==============================] - 1s 25ms/step - loss: 0.0890 - accuracy: 0.9668\n",
            "Epoch 57/133\n",
            "55/55 [==============================] - 1s 25ms/step - loss: 0.0958 - accuracy: 0.9637\n",
            "Epoch 58/133\n",
            "55/55 [==============================] - 1s 24ms/step - loss: 0.0909 - accuracy: 0.9657\n",
            "Epoch 59/133\n",
            "55/55 [==============================] - 1s 24ms/step - loss: 0.0855 - accuracy: 0.9677\n",
            "Epoch 60/133\n",
            "55/55 [==============================] - 1s 24ms/step - loss: 0.0802 - accuracy: 0.9704\n",
            "Epoch 61/133\n",
            "55/55 [==============================] - 1s 24ms/step - loss: 0.0785 - accuracy: 0.9708\n",
            "Epoch 62/133\n",
            "55/55 [==============================] - 1s 25ms/step - loss: 0.0748 - accuracy: 0.9721\n",
            "Epoch 63/133\n",
            "55/55 [==============================] - 1s 24ms/step - loss: 0.0785 - accuracy: 0.9707\n",
            "Epoch 64/133\n",
            "55/55 [==============================] - 1s 25ms/step - loss: 0.0762 - accuracy: 0.9710\n",
            "Epoch 65/133\n",
            "55/55 [==============================] - 1s 24ms/step - loss: 0.0710 - accuracy: 0.9737\n",
            "Epoch 66/133\n",
            "55/55 [==============================] - 1s 24ms/step - loss: 0.0835 - accuracy: 0.9675\n",
            "Epoch 67/133\n",
            "55/55 [==============================] - 1s 24ms/step - loss: 0.0774 - accuracy: 0.9704\n",
            "Epoch 68/133\n",
            "55/55 [==============================] - 1s 24ms/step - loss: 0.0738 - accuracy: 0.9727\n",
            "Epoch 69/133\n",
            "55/55 [==============================] - 1s 24ms/step - loss: 0.0878 - accuracy: 0.9665\n",
            "Epoch 70/133\n",
            "55/55 [==============================] - 1s 24ms/step - loss: 0.0720 - accuracy: 0.9728\n",
            "Epoch 71/133\n",
            "55/55 [==============================] - 1s 24ms/step - loss: 0.0674 - accuracy: 0.9743\n",
            "Epoch 72/133\n",
            "55/55 [==============================] - 1s 25ms/step - loss: 0.0616 - accuracy: 0.9774\n",
            "Epoch 73/133\n",
            "55/55 [==============================] - 1s 24ms/step - loss: 0.0589 - accuracy: 0.9776\n",
            "Epoch 74/133\n",
            "55/55 [==============================] - 1s 24ms/step - loss: 0.0628 - accuracy: 0.9765\n",
            "Epoch 75/133\n",
            "55/55 [==============================] - 1s 24ms/step - loss: 0.0732 - accuracy: 0.9729\n",
            "Epoch 76/133\n",
            "55/55 [==============================] - 1s 24ms/step - loss: 0.0655 - accuracy: 0.9759\n",
            "Epoch 77/133\n",
            "55/55 [==============================] - 1s 25ms/step - loss: 0.0587 - accuracy: 0.9774\n",
            "Epoch 78/133\n",
            "55/55 [==============================] - 1s 25ms/step - loss: 0.0514 - accuracy: 0.9812\n",
            "Epoch 79/133\n",
            "55/55 [==============================] - 1s 25ms/step - loss: 0.0515 - accuracy: 0.9807\n",
            "Epoch 80/133\n",
            "55/55 [==============================] - 1s 25ms/step - loss: 0.0430 - accuracy: 0.9845\n",
            "Epoch 81/133\n",
            "55/55 [==============================] - 1s 25ms/step - loss: 0.0603 - accuracy: 0.9778\n",
            "Epoch 82/133\n",
            "55/55 [==============================] - 1s 24ms/step - loss: 0.0611 - accuracy: 0.9777\n",
            "Epoch 83/133\n",
            "55/55 [==============================] - 1s 25ms/step - loss: 0.0498 - accuracy: 0.9812\n",
            "Epoch 84/133\n",
            "55/55 [==============================] - 1s 24ms/step - loss: 0.0519 - accuracy: 0.9807\n",
            "Epoch 85/133\n",
            "55/55 [==============================] - 1s 24ms/step - loss: 0.0561 - accuracy: 0.9790\n",
            "Epoch 86/133\n",
            "55/55 [==============================] - 1s 25ms/step - loss: 0.0505 - accuracy: 0.9815\n",
            "Epoch 87/133\n",
            "55/55 [==============================] - 1s 24ms/step - loss: 0.0500 - accuracy: 0.9809\n",
            "Epoch 88/133\n",
            "55/55 [==============================] - 1s 24ms/step - loss: 0.0490 - accuracy: 0.9815\n",
            "Epoch 89/133\n",
            "55/55 [==============================] - 1s 25ms/step - loss: 0.0515 - accuracy: 0.9817\n",
            "Epoch 90/133\n",
            "55/55 [==============================] - 1s 24ms/step - loss: 0.0502 - accuracy: 0.9808\n",
            "Epoch 91/133\n",
            "55/55 [==============================] - 1s 24ms/step - loss: 0.0527 - accuracy: 0.9811\n",
            "Epoch 92/133\n",
            "55/55 [==============================] - 1s 25ms/step - loss: 0.0543 - accuracy: 0.9790\n",
            "Epoch 93/133\n",
            "55/55 [==============================] - 1s 24ms/step - loss: 0.0597 - accuracy: 0.9782\n",
            "Epoch 94/133\n",
            "55/55 [==============================] - 1s 24ms/step - loss: 0.0456 - accuracy: 0.9831\n",
            "Epoch 95/133\n",
            "55/55 [==============================] - 1s 24ms/step - loss: 0.0427 - accuracy: 0.9842\n",
            "Epoch 96/133\n",
            "55/55 [==============================] - 1s 25ms/step - loss: 0.0724 - accuracy: 0.9735\n",
            "Epoch 97/133\n",
            "55/55 [==============================] - 1s 24ms/step - loss: 0.0523 - accuracy: 0.9799\n",
            "Epoch 98/133\n",
            "55/55 [==============================] - 1s 24ms/step - loss: 0.0345 - accuracy: 0.9872\n",
            "Epoch 99/133\n",
            "55/55 [==============================] - 1s 24ms/step - loss: 0.0351 - accuracy: 0.9873\n",
            "Epoch 100/133\n",
            "55/55 [==============================] - 1s 24ms/step - loss: 0.0334 - accuracy: 0.9878\n",
            "Epoch 101/133\n",
            "55/55 [==============================] - 1s 24ms/step - loss: 0.0323 - accuracy: 0.9878\n",
            "Epoch 102/133\n",
            "55/55 [==============================] - 1s 24ms/step - loss: 0.0303 - accuracy: 0.9888\n",
            "Epoch 103/133\n",
            "55/55 [==============================] - 1s 24ms/step - loss: 0.0372 - accuracy: 0.9864\n",
            "Epoch 104/133\n",
            "55/55 [==============================] - 1s 25ms/step - loss: 0.0590 - accuracy: 0.9774\n",
            "Epoch 105/133\n",
            "55/55 [==============================] - 1s 24ms/step - loss: 0.0505 - accuracy: 0.9809\n",
            "Epoch 106/133\n",
            "55/55 [==============================] - 1s 25ms/step - loss: 0.0474 - accuracy: 0.9831\n",
            "Epoch 107/133\n",
            "55/55 [==============================] - 1s 24ms/step - loss: 0.0329 - accuracy: 0.9880\n",
            "Epoch 108/133\n",
            "55/55 [==============================] - 1s 24ms/step - loss: 0.0321 - accuracy: 0.9879\n",
            "Epoch 109/133\n",
            "55/55 [==============================] - 1s 24ms/step - loss: 0.0312 - accuracy: 0.9890\n",
            "Epoch 110/133\n",
            "55/55 [==============================] - 1s 24ms/step - loss: 0.0536 - accuracy: 0.9803\n",
            "Epoch 111/133\n",
            "55/55 [==============================] - 1s 24ms/step - loss: 0.0342 - accuracy: 0.9873\n",
            "Epoch 112/133\n",
            "55/55 [==============================] - 1s 25ms/step - loss: 0.0328 - accuracy: 0.9884\n",
            "Epoch 113/133\n",
            "55/55 [==============================] - 1s 24ms/step - loss: 0.0328 - accuracy: 0.9876\n",
            "Epoch 114/133\n",
            "55/55 [==============================] - 1s 24ms/step - loss: 0.0354 - accuracy: 0.9875\n",
            "Epoch 115/133\n",
            "55/55 [==============================] - 1s 25ms/step - loss: 0.0252 - accuracy: 0.9912\n",
            "Epoch 116/133\n",
            "55/55 [==============================] - 1s 24ms/step - loss: 0.0236 - accuracy: 0.9918\n",
            "Epoch 117/133\n",
            "55/55 [==============================] - 1s 24ms/step - loss: 0.0256 - accuracy: 0.9904\n",
            "Epoch 118/133\n",
            "55/55 [==============================] - 1s 24ms/step - loss: 0.0691 - accuracy: 0.9751\n",
            "Epoch 119/133\n",
            "55/55 [==============================] - 1s 24ms/step - loss: 0.0322 - accuracy: 0.9882\n",
            "Epoch 120/133\n",
            "55/55 [==============================] - 1s 24ms/step - loss: 0.0245 - accuracy: 0.9909\n",
            "Epoch 121/133\n",
            "55/55 [==============================] - 1s 24ms/step - loss: 0.0246 - accuracy: 0.9909\n",
            "Epoch 122/133\n",
            "55/55 [==============================] - 1s 24ms/step - loss: 0.0269 - accuracy: 0.9903\n",
            "Epoch 123/133\n",
            "55/55 [==============================] - 1s 24ms/step - loss: 0.0355 - accuracy: 0.9871\n",
            "Epoch 124/133\n",
            "55/55 [==============================] - 1s 25ms/step - loss: 0.0378 - accuracy: 0.9859\n",
            "Epoch 125/133\n",
            "55/55 [==============================] - 1s 24ms/step - loss: 0.0307 - accuracy: 0.9884\n",
            "Epoch 126/133\n",
            "55/55 [==============================] - 1s 24ms/step - loss: 0.0404 - accuracy: 0.9855\n",
            "Epoch 127/133\n",
            "55/55 [==============================] - 1s 24ms/step - loss: 0.0202 - accuracy: 0.9928\n",
            "Epoch 128/133\n",
            "55/55 [==============================] - 1s 24ms/step - loss: 0.0171 - accuracy: 0.9939\n",
            "Epoch 129/133\n",
            "55/55 [==============================] - 1s 24ms/step - loss: 0.0204 - accuracy: 0.9927\n",
            "Epoch 130/133\n",
            "55/55 [==============================] - 1s 24ms/step - loss: 0.0340 - accuracy: 0.9869\n",
            "Epoch 131/133\n",
            "55/55 [==============================] - 1s 24ms/step - loss: 0.0346 - accuracy: 0.9875\n",
            "Epoch 132/133\n",
            "55/55 [==============================] - 1s 24ms/step - loss: 0.0484 - accuracy: 0.9826\n",
            "Epoch 133/133\n",
            "55/55 [==============================] - 1s 24ms/step - loss: 0.0279 - accuracy: 0.9897\n",
            "219/219 [==============================] - 1s 2ms/step - loss: 0.8026 - accuracy: 0.8904\n",
            "1750/1750 [==============================] - 3s 2ms/step - loss: 0.0266 - accuracy: 0.9908\n",
            "\n",
            "Test accuracy:  0.9907677173614502\n"
          ]
        }
      ]
    },
    {
      "cell_type": "code",
      "source": [
        "fig,axes = plt.subplots(nrows=1,ncols=2,figsize=(12,4))\n",
        "fig.subplots_adjust(wspace=0.4,hspace=0,left=0.2, right=0.9, top=0.9, bottom=0.1)\n",
        "fontdict={  'fontsize': 12, 'fontname': 'serif'}\n",
        "axes[0].plot(5+2**(np.arange(0,8,1)),LOSS_t,'-ro',label='Training')\n",
        "axes[0].plot(5+2**(np.arange(0,8,1)),LOSS,'-bo',label='Validation')\n",
        "axes[0].set_xlabel('epoch',fontdict)\n",
        "axes[0].set_ylabel('loss',fontdict)\n",
        "#axes[0].set_ylim(0.14, 0.18) \n",
        "axes[0].legend()\n",
        "\n",
        "axes[1].plot(5+2**(np.arange(0,8,1)),ACC_t,'-ro',label='Training')\n",
        "axes[1].plot(5+2**(np.arange(0,8,1)),ACC,'-bo',label='Validation')\n",
        "axes[1].set_xlabel('epoch',fontdict)\n",
        "axes[1].set_ylabel('accuracy',fontdict)\n",
        "#axes[1].set_ylim(0.94, 0.95)\n",
        "axes[1].legend()\n",
        "\n",
        "for tick in axes[0].get_xticklabels():\n",
        "        tick.set_fontname(\"serif\")\n",
        "        tick.set_fontsize(12)\n",
        "for tick in axes[0].get_yticklabels():\n",
        "        tick.set_fontname(\"serif\")\n",
        "        tick.set_fontsize(12)\n",
        "\n",
        "for tick in axes[1].get_xticklabels():\n",
        "        tick.set_fontname(\"serif\")\n",
        "        tick.set_fontsize(12)\n",
        "for tick in axes[1].get_yticklabels():\n",
        "        tick.set_fontname(\"serif\")\n",
        "        tick.set_fontsize(12)"
      ],
      "metadata": {
        "colab": {
          "base_uri": "https://localhost:8080/",
          "height": 298
        },
        "outputId": "8fe50e32-2acd-46c4-8a68-6eb156ec3c93",
        "id": "NstMCJjmyff9"
      },
      "execution_count": 65,
      "outputs": [
        {
          "output_type": "display_data",
          "data": {
            "text/plain": [
              "<Figure size 864x288 with 2 Axes>"
            ],
            "image/png": "[encoded data removed]"
          },
          "metadata": {
            "needs_background": "light"
          }
        }
      ]
    },
    {
      "cell_type": "markdown",
      "source": [
        "The figure shows the effect of the number of epoch on the loss and accuracy of the NN model. For small values of epoch (0 to 40) the performance of the model increases as the number of epoch increases for both the validation and the training set. However, after 40 epochs the performance on the training data set increases while the performance of the model for the validation set decreases. this behavior is also clear if the same analysis is do to the loss figure. After 40 epochs the loss values obtained using the validation data set increases. This is a clear sign of overfitting. Therefore, a number of epoch equal to 40 is selected for this problem. "
      ],
      "metadata": {
        "id": "MTqcgLID7FVF"
      }
    },
    {
      "cell_type": "markdown",
      "source": [
        "### EFFECT OF OPTIMIZATION ALGORITHM"
      ],
      "metadata": {
        "id": "DPtUw20-wLrz"
      }
    },
    {
      "cell_type": "code",
      "source": [
        "    del model\n",
        "    model = tf.keras.models.Sequential([ \n",
        "    tf.keras.layers.Flatten(input_shape=(28, 28)), \n",
        "    tf.keras.layers.Dense(128, activation='relu'),\n",
        "    tf.keras.layers.Dense(128, activation='relu'),\n",
        "    tf.keras.layers.Dense(128, activation='relu'),\n",
        "    tf.keras.layers.Dense(128, activation='relu'),        \n",
        "    tf.keras.layers.Dense(128, activation='relu'),    \n",
        "    tf.keras.layers.Dense(10, activation='softmax')     \n",
        "    ])\n",
        "    model.compile(optimizer='adam',\n",
        "                  loss=tf.keras.losses.SparseCategoricalCrossentropy(from_logits=True),\n",
        "                  metrics=['accuracy'])\n",
        "    import time\n",
        "    start_time = time.time()\n",
        "    history = model.fit(X_train, y_train, epochs=40, batch_size=2**10)\n",
        "    print(\"--- %s seconds ---\" % (time.time() - start_time))\n",
        "    loss = history.history['loss']\n",
        "    accuracy = history.history['accuracy']\n",
        "    # test the model on validation data\n",
        "    loss, acc = model.evaluate(X_val, y_val, verbose = 1)\n",
        "    LOSS = loss\n",
        "    ACC = acc\n",
        "    loss, acc = model.evaluate(X_train, y_train, verbose = 1)\n",
        "    LOSS_t = loss\n",
        "    ACC_t = acc"
      ],
      "metadata": {
        "colab": {
          "base_uri": "https://localhost:8080/"
        },
        "outputId": "1db1841a-578d-4d8e-f641-3c45cab414bd",
        "id": "OV0wuLmKwmG9"
      },
      "execution_count": 70,
      "outputs": [
        {
          "output_type": "stream",
          "name": "stdout",
          "text": [
            "Epoch 1/40\n",
            "55/55 [==============================] - 2s 24ms/step - loss: 0.9564 - accuracy: 0.6710\n",
            "Epoch 2/40\n",
            "55/55 [==============================] - 1s 24ms/step - loss: 0.4992 - accuracy: 0.8207\n",
            "Epoch 3/40\n",
            "55/55 [==============================] - 1s 23ms/step - loss: 0.4357 - accuracy: 0.8441\n",
            "Epoch 4/40\n",
            "55/55 [==============================] - 1s 23ms/step - loss: 0.3885 - accuracy: 0.8601\n",
            "Epoch 5/40\n",
            "55/55 [==============================] - 1s 23ms/step - loss: 0.3753 - accuracy: 0.8641\n",
            "Epoch 6/40\n",
            "55/55 [==============================] - 1s 23ms/step - loss: 0.3458 - accuracy: 0.8752\n",
            "Epoch 7/40\n",
            "55/55 [==============================] - 1s 24ms/step - loss: 0.3289 - accuracy: 0.8809\n",
            "Epoch 8/40\n",
            "55/55 [==============================] - 1s 24ms/step - loss: 0.3135 - accuracy: 0.8858\n",
            "Epoch 9/40\n",
            "55/55 [==============================] - 1s 24ms/step - loss: 0.3019 - accuracy: 0.8884\n",
            "Epoch 10/40\n",
            "55/55 [==============================] - 1s 23ms/step - loss: 0.3025 - accuracy: 0.8877\n",
            "Epoch 11/40\n",
            "55/55 [==============================] - 1s 23ms/step - loss: 0.2831 - accuracy: 0.8957\n",
            "Epoch 12/40\n",
            "55/55 [==============================] - 1s 23ms/step - loss: 0.2777 - accuracy: 0.8970\n",
            "Epoch 13/40\n",
            "55/55 [==============================] - 1s 23ms/step - loss: 0.2693 - accuracy: 0.9006\n",
            "Epoch 14/40\n",
            "55/55 [==============================] - 1s 23ms/step - loss: 0.2677 - accuracy: 0.9010\n",
            "Epoch 15/40\n",
            "55/55 [==============================] - 1s 24ms/step - loss: 0.2536 - accuracy: 0.9064\n",
            "Epoch 16/40\n",
            "55/55 [==============================] - 1s 23ms/step - loss: 0.2498 - accuracy: 0.9075\n",
            "Epoch 17/40\n",
            "55/55 [==============================] - 1s 23ms/step - loss: 0.2391 - accuracy: 0.9110\n",
            "Epoch 18/40\n",
            "55/55 [==============================] - 1s 23ms/step - loss: 0.2292 - accuracy: 0.9151\n",
            "Epoch 19/40\n",
            "55/55 [==============================] - 1s 23ms/step - loss: 0.2284 - accuracy: 0.9145\n",
            "Epoch 20/40\n",
            "55/55 [==============================] - 1s 23ms/step - loss: 0.2239 - accuracy: 0.9164\n",
            "Epoch 21/40\n",
            "55/55 [==============================] - 1s 23ms/step - loss: 0.2158 - accuracy: 0.9204\n",
            "Epoch 22/40\n",
            "55/55 [==============================] - 1s 23ms/step - loss: 0.2200 - accuracy: 0.9179\n",
            "Epoch 23/40\n",
            "55/55 [==============================] - 1s 23ms/step - loss: 0.2075 - accuracy: 0.9226\n",
            "Epoch 24/40\n",
            "55/55 [==============================] - 1s 24ms/step - loss: 0.2041 - accuracy: 0.9236\n",
            "Epoch 25/40\n",
            "55/55 [==============================] - 1s 24ms/step - loss: 0.1936 - accuracy: 0.9273\n",
            "Epoch 26/40\n",
            "55/55 [==============================] - 1s 23ms/step - loss: 0.1896 - accuracy: 0.9292\n",
            "Epoch 27/40\n",
            "55/55 [==============================] - 1s 23ms/step - loss: 0.1897 - accuracy: 0.9295\n",
            "Epoch 28/40\n",
            "55/55 [==============================] - 1s 24ms/step - loss: 0.1826 - accuracy: 0.9322\n",
            "Epoch 29/40\n",
            "55/55 [==============================] - 1s 23ms/step - loss: 0.1820 - accuracy: 0.9328\n",
            "Epoch 30/40\n",
            "55/55 [==============================] - 1s 23ms/step - loss: 0.1739 - accuracy: 0.9352\n",
            "Epoch 31/40\n",
            "55/55 [==============================] - 1s 24ms/step - loss: 0.1746 - accuracy: 0.9346\n",
            "Epoch 32/40\n",
            "55/55 [==============================] - 1s 23ms/step - loss: 0.1683 - accuracy: 0.9373\n",
            "Epoch 33/40\n",
            "55/55 [==============================] - 1s 23ms/step - loss: 0.1612 - accuracy: 0.9402\n",
            "Epoch 34/40\n",
            "55/55 [==============================] - 1s 23ms/step - loss: 0.1534 - accuracy: 0.9432\n",
            "Epoch 35/40\n",
            "55/55 [==============================] - 1s 23ms/step - loss: 0.1550 - accuracy: 0.9423\n",
            "Epoch 36/40\n",
            "55/55 [==============================] - 1s 23ms/step - loss: 0.1579 - accuracy: 0.9408\n",
            "Epoch 37/40\n",
            "55/55 [==============================] - 1s 24ms/step - loss: 0.1472 - accuracy: 0.9452\n",
            "Epoch 38/40\n",
            "55/55 [==============================] - 1s 23ms/step - loss: 0.1442 - accuracy: 0.9451\n",
            "Epoch 39/40\n",
            "55/55 [==============================] - 1s 24ms/step - loss: 0.1405 - accuracy: 0.9473\n",
            "Epoch 40/40\n",
            "55/55 [==============================] - 1s 23ms/step - loss: 0.1429 - accuracy: 0.9470\n",
            "--- 52.45439410209656 seconds ---\n",
            "219/219 [==============================] - 1s 2ms/step - loss: 0.3666 - accuracy: 0.8960\n",
            "1750/1750 [==============================] - 3s 2ms/step - loss: 0.1272 - accuracy: 0.9534\n"
          ]
        }
      ]
    },
    {
      "cell_type": "code",
      "source": [
        "# test the model on validation dataX_train, y_train\n",
        "loss, acc = model.evaluate(X_train, y_train, verbose = 1)\n",
        "print('\\n accuracy using the training data set: %5.2f' %(acc))\n",
        "print('loss using the training data set: %5.2f' %(loss))\n",
        "loss, acc = model.evaluate(X_val, y_val, verbose = 1)\n",
        "print('\\n accuracy using the validation data set: %5.2f' %(acc))\n",
        "print('loss using the validation data set: %5.2f' %(loss))"
      ],
      "metadata": {
        "colab": {
          "base_uri": "https://localhost:8080/"
        },
        "outputId": "378aa385-8508-43e7-f584-57d79f2f8bd6",
        "id": "AxPknOzjx3qc"
      },
      "execution_count": 71,
      "outputs": [
        {
          "output_type": "stream",
          "name": "stdout",
          "text": [
            "1750/1750 [==============================] - 3s 2ms/step - loss: 0.1272 - accuracy: 0.9534\n",
            "\n",
            " accuracy using the training data set:  0.95\n",
            "loss using the training data set:  0.13\n",
            "219/219 [==============================] - 0s 2ms/step - loss: 0.3666 - accuracy: 0.8960\n",
            "\n",
            " accuracy using the validation data set:  0.90\n",
            "loss using the validation data set:  0.37\n"
          ]
        }
      ]
    },
    {
      "cell_type": "code",
      "source": [
        "    del model\n",
        "    model = tf.keras.models.Sequential([ \n",
        "    tf.keras.layers.Flatten(input_shape=(28, 28)), \n",
        "    tf.keras.layers.Dense(128, activation='relu'),\n",
        "    tf.keras.layers.Dense(128, activation='relu'),\n",
        "    tf.keras.layers.Dense(128, activation='relu'),\n",
        "    tf.keras.layers.Dense(128, activation='relu'),        \n",
        "    tf.keras.layers.Dense(128, activation='relu'),    \n",
        "    tf.keras.layers.Dense(10, activation='softmax')     \n",
        "    ])\n",
        "    model.compile(optimizer='RMSprop',\n",
        "                  loss=tf.keras.losses.SparseCategoricalCrossentropy(from_logits=True),\n",
        "                  metrics=['accuracy'])\n",
        "    import time\n",
        "    start_time = time.time()\n",
        "    history = model.fit(X_train, y_train, epochs=40, batch_size=2**10)\n",
        "    print(\"--- %s seconds ---\" % (time.time() - start_time))\n",
        "    loss = history.history['loss']\n",
        "    accuracy = history.history['accuracy']\n",
        "    # test the model on validation data\n",
        "    loss, acc = model.evaluate(X_val, y_val, verbose = 1)\n",
        "    LOSS = loss\n",
        "    ACC = acc\n",
        "    loss, acc = model.evaluate(X_train, y_train, verbose = 1)\n",
        "    LOSS_t = loss\n",
        "    ACC_t = acc\n",
        "    print('\\nTest accuracy: ', acc)"
      ],
      "metadata": {
        "colab": {
          "base_uri": "https://localhost:8080/"
        },
        "outputId": "acd2d6fd-1d67-4928-8821-df9ebaf30df0",
        "id": "I2eEc3WjyAlD"
      },
      "execution_count": 72,
      "outputs": [
        {
          "output_type": "stream",
          "name": "stdout",
          "text": [
            "Epoch 1/40\n",
            "55/55 [==============================] - 2s 25ms/step - loss: 1.0425 - accuracy: 0.6133\n",
            "Epoch 2/40\n",
            "55/55 [==============================] - 1s 24ms/step - loss: 0.6400 - accuracy: 0.7605\n",
            "Epoch 3/40\n",
            "55/55 [==============================] - 1s 24ms/step - loss: 0.5328 - accuracy: 0.8037\n",
            "Epoch 4/40\n",
            "55/55 [==============================] - 1s 24ms/step - loss: 0.4787 - accuracy: 0.8232\n",
            "Epoch 5/40\n",
            "55/55 [==============================] - 1s 24ms/step - loss: 0.4390 - accuracy: 0.8357\n",
            "Epoch 6/40\n",
            "55/55 [==============================] - 1s 24ms/step - loss: 0.4117 - accuracy: 0.8476\n",
            "Epoch 7/40\n",
            "55/55 [==============================] - 1s 24ms/step - loss: 0.3928 - accuracy: 0.8533\n",
            "Epoch 8/40\n",
            "55/55 [==============================] - 1s 24ms/step - loss: 0.3785 - accuracy: 0.8572\n",
            "Epoch 9/40\n",
            "55/55 [==============================] - 1s 26ms/step - loss: 0.3609 - accuracy: 0.8653\n",
            "Epoch 10/40\n",
            "55/55 [==============================] - 2s 36ms/step - loss: 0.3468 - accuracy: 0.8684\n",
            "Epoch 11/40\n",
            "55/55 [==============================] - 1s 24ms/step - loss: 0.3339 - accuracy: 0.8734\n",
            "Epoch 12/40\n",
            "55/55 [==============================] - 1s 24ms/step - loss: 0.3231 - accuracy: 0.8784\n",
            "Epoch 13/40\n",
            "55/55 [==============================] - 1s 24ms/step - loss: 0.3157 - accuracy: 0.8801\n",
            "Epoch 14/40\n",
            "55/55 [==============================] - 1s 24ms/step - loss: 0.3059 - accuracy: 0.8846\n",
            "Epoch 15/40\n",
            "55/55 [==============================] - 1s 24ms/step - loss: 0.2999 - accuracy: 0.8864\n",
            "Epoch 16/40\n",
            "55/55 [==============================] - 1s 24ms/step - loss: 0.2897 - accuracy: 0.8903\n",
            "Epoch 17/40\n",
            "55/55 [==============================] - 1s 25ms/step - loss: 0.2855 - accuracy: 0.8918\n",
            "Epoch 18/40\n",
            "55/55 [==============================] - 1s 24ms/step - loss: 0.2778 - accuracy: 0.8932\n",
            "Epoch 19/40\n",
            "55/55 [==============================] - 1s 24ms/step - loss: 0.2674 - accuracy: 0.8983\n",
            "Epoch 20/40\n",
            "55/55 [==============================] - 1s 25ms/step - loss: 0.2634 - accuracy: 0.8984\n",
            "Epoch 21/40\n",
            "55/55 [==============================] - 1s 24ms/step - loss: 0.2575 - accuracy: 0.9029\n",
            "Epoch 22/40\n",
            "55/55 [==============================] - 1s 25ms/step - loss: 0.2540 - accuracy: 0.9027\n",
            "Epoch 23/40\n",
            "55/55 [==============================] - 1s 24ms/step - loss: 0.2475 - accuracy: 0.9048\n",
            "Epoch 24/40\n",
            "55/55 [==============================] - 1s 24ms/step - loss: 0.2423 - accuracy: 0.9062\n",
            "Epoch 25/40\n",
            "55/55 [==============================] - 1s 25ms/step - loss: 0.2382 - accuracy: 0.9072\n",
            "Epoch 26/40\n",
            "55/55 [==============================] - 1s 25ms/step - loss: 0.2329 - accuracy: 0.9101\n",
            "Epoch 27/40\n",
            "55/55 [==============================] - 1s 24ms/step - loss: 0.2297 - accuracy: 0.9109\n",
            "Epoch 28/40\n",
            "55/55 [==============================] - 1s 24ms/step - loss: 0.2211 - accuracy: 0.9128\n",
            "Epoch 29/40\n",
            "55/55 [==============================] - 1s 24ms/step - loss: 0.2176 - accuracy: 0.9157\n",
            "Epoch 30/40\n",
            "55/55 [==============================] - 1s 25ms/step - loss: 0.2151 - accuracy: 0.9163\n",
            "Epoch 31/40\n",
            "55/55 [==============================] - 1s 24ms/step - loss: 0.2102 - accuracy: 0.9190\n",
            "Epoch 32/40\n",
            "55/55 [==============================] - 1s 23ms/step - loss: 0.2086 - accuracy: 0.9192\n",
            "Epoch 33/40\n",
            "55/55 [==============================] - 1s 23ms/step - loss: 0.2081 - accuracy: 0.9202\n",
            "Epoch 34/40\n",
            "55/55 [==============================] - 1s 24ms/step - loss: 0.1964 - accuracy: 0.9235\n",
            "Epoch 35/40\n",
            "55/55 [==============================] - 1s 24ms/step - loss: 0.1999 - accuracy: 0.9228\n",
            "Epoch 36/40\n",
            "55/55 [==============================] - 1s 24ms/step - loss: 0.1906 - accuracy: 0.9253\n",
            "Epoch 37/40\n",
            "55/55 [==============================] - 1s 24ms/step - loss: 0.1917 - accuracy: 0.9255\n",
            "Epoch 38/40\n",
            "55/55 [==============================] - 1s 24ms/step - loss: 0.1880 - accuracy: 0.9271\n",
            "Epoch 39/40\n",
            "55/55 [==============================] - 1s 24ms/step - loss: 0.1841 - accuracy: 0.9282\n",
            "Epoch 40/40\n",
            "55/55 [==============================] - 1s 24ms/step - loss: 0.1780 - accuracy: 0.9310\n",
            "--- 55.23117995262146 seconds ---\n",
            "219/219 [==============================] - 1s 2ms/step - loss: 0.3347 - accuracy: 0.8954\n",
            "1750/1750 [==============================] - 3s 2ms/step - loss: 0.1461 - accuracy: 0.9446\n",
            "\n",
            "Test accuracy:  0.944588303565979\n"
          ]
        }
      ]
    },
    {
      "cell_type": "code",
      "source": [
        "# test the model on validation dataX_train, y_train\n",
        "loss, acc = model.evaluate(X_train, y_train, verbose = 1)\n",
        "print('\\n accuracy using the training data set: %5.2f' %(acc))\n",
        "print('loss using the training data set: %5.2f' %(loss))\n",
        "loss, acc = model.evaluate(X_val, y_val, verbose = 1)\n",
        "print('\\n accuracy using the validation data set: %5.2f' %(acc))\n",
        "print('loss using the validation data set: %5.2f' %(loss))"
      ],
      "metadata": {
        "colab": {
          "base_uri": "https://localhost:8080/"
        },
        "outputId": "d0102621-d2ed-4226-e2c3-a911125de96a",
        "id": "Q2tTnjjryN3l"
      },
      "execution_count": 73,
      "outputs": [
        {
          "output_type": "stream",
          "name": "stdout",
          "text": [
            "1750/1750 [==============================] - 3s 2ms/step - loss: 0.1461 - accuracy: 0.9446\n",
            "\n",
            " accuracy using the training data set:  0.94\n",
            "loss using the training data set:  0.15\n",
            "219/219 [==============================] - 0s 2ms/step - loss: 0.3347 - accuracy: 0.8954\n",
            "\n",
            " accuracy using the validation data set:  0.90\n",
            "loss using the validation data set:  0.33\n"
          ]
        }
      ]
    },
    {
      "cell_type": "markdown",
      "source": [
        "Two optimization algorithms were used: adam and RSMprop. The execution time and model performance on the validation data set was measured for both cases. The total execution time using RMSprop was 55.2 seconds while the total execution time using Adam was 52.4 seconds. That is Adam outperformed the RMSprop for a total of 2.8 seconds. The accuracy achieved using RMSprop and Adam optimization algorithms was the same (0.90), however the loss using adam was 0.37 while RMSprop obtained 0.33. Therefore, adam is selected as the optimization algorithm for this NN. "
      ],
      "metadata": {
        "id": "mSZYmIHazga9"
      }
    },
    {
      "cell_type": "markdown",
      "source": [
        "### EFFECT OF REGULARIZATION"
      ],
      "metadata": {
        "id": "Rhjr4_mhyQR8"
      }
    },
    {
      "cell_type": "code",
      "source": [
        "steps =len(np.linspace(0,0.01,5))\n",
        "LOSS = np.zeros(steps,)\n",
        "ACC = np.zeros(steps,)\n",
        "LOSS_t = np.zeros(steps,)\n",
        "ACC_t = np.zeros(steps,)\n",
        "j=0\n",
        "for i in np.linspace(0,0.01,5):\n",
        "    del model\n",
        "    model = tf.keras.models.Sequential([ \n",
        "    tf.keras.layers.Flatten(input_shape=(28, 28)), \n",
        "    tf.keras.layers.Dense(128, activation='relu', kernel_regularizer=keras.regularizers.l1_l2(i)),\n",
        "    tf.keras.layers.Dense(128, activation='relu', kernel_regularizer=keras.regularizers.l1_l2(i)),\n",
        "    tf.keras.layers.Dense(128, activation='relu', kernel_regularizer=keras.regularizers.l1_l2(i)),\n",
        "    tf.keras.layers.Dense(128, activation='relu', kernel_regularizer=keras.regularizers.l1_l2(i)),        \n",
        "    tf.keras.layers.Dense(128, activation='relu', kernel_regularizer=keras.regularizers.l1_l2(i)),    \n",
        "    tf.keras.layers.Dense(10, activation='softmax')     \n",
        "    ])\n",
        "    model.compile(optimizer='adam',\n",
        "                  loss=tf.keras.losses.SparseCategoricalCrossentropy(from_logits=True),\n",
        "                  metrics=['accuracy'])\n",
        "    history = model.fit(X_train, y_train, epochs=40, batch_size=2**10)\n",
        "    loss = history.history['loss']\n",
        "    accuracy = history.history['accuracy']\n",
        "    # test the model on validation data\n",
        "    loss, acc = model.evaluate(X_val, y_val, verbose = 1)\n",
        "    LOSS[j] = loss\n",
        "    ACC[j] = acc\n",
        "    loss, acc = model.evaluate(X_train, y_train, verbose = 1)\n",
        "    LOSS_t[j] = loss\n",
        "    ACC_t[j] = acc\n",
        "    j=j+1"
      ],
      "metadata": {
        "colab": {
          "base_uri": "https://localhost:8080/"
        },
        "outputId": "a14583af-b24b-4b60-bdb7-83b152471d4a",
        "id": "lXGgzNIGyZX1"
      },
      "execution_count": 83,
      "outputs": [
        {
          "output_type": "stream",
          "name": "stdout",
          "text": [
            "Epoch 1/40\n"
          ]
        },
        {
          "output_type": "stream",
          "name": "stderr",
          "text": [
            "/usr/local/lib/python3.7/dist-packages/tensorflow/python/util/dispatch.py:1082: UserWarning: \"`sparse_categorical_crossentropy` received `from_logits=True`, but the `output` argument was produced by a sigmoid or softmax activation and thus does not represent logits. Was this intended?\"\n",
            "  return dispatch_target(*args, **kwargs)\n"
          ]
        },
        {
          "output_type": "stream",
          "name": "stdout",
          "text": [
            "55/55 [==============================] - 2s 23ms/step - loss: 5.7166 - accuracy: 0.6119\n",
            "Epoch 2/40\n",
            "55/55 [==============================] - 1s 23ms/step - loss: 2.6619 - accuracy: 0.7859\n",
            "Epoch 3/40\n",
            "55/55 [==============================] - 1s 23ms/step - loss: 1.8240 - accuracy: 0.8065\n",
            "Epoch 4/40\n",
            "55/55 [==============================] - 1s 22ms/step - loss: 1.4836 - accuracy: 0.8140\n",
            "Epoch 5/40\n",
            "55/55 [==============================] - 1s 22ms/step - loss: 1.3014 - accuracy: 0.8187\n",
            "Epoch 6/40\n",
            "55/55 [==============================] - 1s 22ms/step - loss: 1.1887 - accuracy: 0.8218\n",
            "Epoch 7/40\n",
            "55/55 [==============================] - 1s 22ms/step - loss: 1.1040 - accuracy: 0.8269\n",
            "Epoch 8/40\n",
            "55/55 [==============================] - 1s 23ms/step - loss: 1.0449 - accuracy: 0.8286\n",
            "Epoch 9/40\n",
            "55/55 [==============================] - 1s 23ms/step - loss: 0.9898 - accuracy: 0.8338\n",
            "Epoch 10/40\n",
            "55/55 [==============================] - 1s 22ms/step - loss: 0.9484 - accuracy: 0.8349\n",
            "Epoch 11/40\n",
            "55/55 [==============================] - 1s 22ms/step - loss: 0.9312 - accuracy: 0.8322\n",
            "Epoch 12/40\n",
            "55/55 [==============================] - 1s 23ms/step - loss: 0.8875 - accuracy: 0.8403\n",
            "Epoch 13/40\n",
            "55/55 [==============================] - 1s 22ms/step - loss: 0.8800 - accuracy: 0.8367\n",
            "Epoch 14/40\n",
            "55/55 [==============================] - 1s 22ms/step - loss: 0.8497 - accuracy: 0.8430\n",
            "Epoch 15/40\n",
            "55/55 [==============================] - 1s 22ms/step - loss: 0.8269 - accuracy: 0.8455\n",
            "Epoch 16/40\n",
            "55/55 [==============================] - 1s 22ms/step - loss: 0.8194 - accuracy: 0.8444\n",
            "Epoch 17/40\n",
            "55/55 [==============================] - 1s 23ms/step - loss: 0.8063 - accuracy: 0.8448\n",
            "Epoch 18/40\n",
            "55/55 [==============================] - 1s 22ms/step - loss: 0.7909 - accuracy: 0.8470\n",
            "Epoch 19/40\n",
            "55/55 [==============================] - 1s 22ms/step - loss: 0.7780 - accuracy: 0.8493\n",
            "Epoch 20/40\n",
            "55/55 [==============================] - 1s 22ms/step - loss: 0.7689 - accuracy: 0.8507\n",
            "Epoch 21/40\n",
            "55/55 [==============================] - 1s 23ms/step - loss: 0.7609 - accuracy: 0.8516\n",
            "Epoch 22/40\n",
            "55/55 [==============================] - 1s 23ms/step - loss: 0.7532 - accuracy: 0.8526\n",
            "Epoch 23/40\n",
            "55/55 [==============================] - 1s 22ms/step - loss: 0.7467 - accuracy: 0.8528\n",
            "Epoch 24/40\n",
            "55/55 [==============================] - 1s 22ms/step - loss: 0.7365 - accuracy: 0.8558\n",
            "Epoch 25/40\n",
            "55/55 [==============================] - 1s 23ms/step - loss: 0.7330 - accuracy: 0.8559\n",
            "Epoch 26/40\n",
            "55/55 [==============================] - 1s 23ms/step - loss: 0.7272 - accuracy: 0.8561\n",
            "Epoch 27/40\n",
            "55/55 [==============================] - 1s 23ms/step - loss: 0.7170 - accuracy: 0.8589\n",
            "Epoch 28/40\n",
            "55/55 [==============================] - 1s 23ms/step - loss: 0.7154 - accuracy: 0.8585\n",
            "Epoch 29/40\n",
            "55/55 [==============================] - 1s 23ms/step - loss: 0.7130 - accuracy: 0.8580\n",
            "Epoch 30/40\n",
            "55/55 [==============================] - 1s 22ms/step - loss: 0.7101 - accuracy: 0.8577\n",
            "Epoch 31/40\n",
            "55/55 [==============================] - 1s 22ms/step - loss: 0.7025 - accuracy: 0.8603\n",
            "Epoch 32/40\n",
            "55/55 [==============================] - 1s 22ms/step - loss: 0.7035 - accuracy: 0.8587\n",
            "Epoch 33/40\n",
            "55/55 [==============================] - 1s 23ms/step - loss: 0.6886 - accuracy: 0.8642\n",
            "Epoch 34/40\n",
            "55/55 [==============================] - 1s 23ms/step - loss: 0.6840 - accuracy: 0.8649\n",
            "Epoch 35/40\n",
            "55/55 [==============================] - 1s 23ms/step - loss: 0.6884 - accuracy: 0.8629\n",
            "Epoch 36/40\n",
            "55/55 [==============================] - 1s 23ms/step - loss: 0.6829 - accuracy: 0.8638\n",
            "Epoch 37/40\n",
            "55/55 [==============================] - 1s 23ms/step - loss: 0.6834 - accuracy: 0.8623\n",
            "Epoch 38/40\n",
            "55/55 [==============================] - 1s 22ms/step - loss: 0.6871 - accuracy: 0.8594\n",
            "Epoch 39/40\n",
            "55/55 [==============================] - 1s 22ms/step - loss: 0.6706 - accuracy: 0.8664\n",
            "Epoch 40/40\n",
            "55/55 [==============================] - 1s 22ms/step - loss: 0.6668 - accuracy: 0.8669\n",
            "219/219 [==============================] - 1s 2ms/step - loss: 0.6847 - accuracy: 0.8591\n",
            "1750/1750 [==============================] - 3s 2ms/step - loss: 0.6562 - accuracy: 0.8710\n",
            "Epoch 1/40\n",
            "55/55 [==============================] - 2s 32ms/step - loss: 19.9272 - accuracy: 0.3979\n",
            "Epoch 2/40\n",
            "55/55 [==============================] - 2s 28ms/step - loss: 6.5296 - accuracy: 0.6266\n",
            "Epoch 3/40\n",
            "55/55 [==============================] - 1s 23ms/step - loss: 2.8692 - accuracy: 0.6625\n",
            "Epoch 4/40\n",
            "55/55 [==============================] - 1s 23ms/step - loss: 1.9417 - accuracy: 0.6884\n",
            "Epoch 5/40\n",
            "55/55 [==============================] - 1s 23ms/step - loss: 1.7405 - accuracy: 0.7061\n",
            "Epoch 6/40\n",
            "55/55 [==============================] - 1s 23ms/step - loss: 1.6285 - accuracy: 0.7185\n",
            "Epoch 7/40\n",
            "55/55 [==============================] - 1s 23ms/step - loss: 1.5532 - accuracy: 0.7227\n",
            "Epoch 8/40\n",
            "55/55 [==============================] - 1s 23ms/step - loss: 1.4921 - accuracy: 0.7284\n",
            "Epoch 9/40\n",
            "55/55 [==============================] - 1s 23ms/step - loss: 1.4436 - accuracy: 0.7324\n",
            "Epoch 10/40\n",
            "55/55 [==============================] - 1s 23ms/step - loss: 1.4016 - accuracy: 0.7353\n",
            "Epoch 11/40\n",
            "55/55 [==============================] - 1s 24ms/step - loss: 1.3664 - accuracy: 0.7376\n",
            "Epoch 12/40\n",
            "55/55 [==============================] - 1s 23ms/step - loss: 1.3347 - accuracy: 0.7400\n",
            "Epoch 13/40\n",
            "55/55 [==============================] - 1s 23ms/step - loss: 1.3099 - accuracy: 0.7411\n",
            "Epoch 14/40\n",
            "55/55 [==============================] - 1s 23ms/step - loss: 1.2856 - accuracy: 0.7423\n",
            "Epoch 15/40\n",
            "55/55 [==============================] - 1s 23ms/step - loss: 1.2641 - accuracy: 0.7458\n",
            "Epoch 16/40\n",
            "55/55 [==============================] - 1s 23ms/step - loss: 1.2461 - accuracy: 0.7456\n",
            "Epoch 17/40\n",
            "55/55 [==============================] - 1s 23ms/step - loss: 1.2329 - accuracy: 0.7463\n",
            "Epoch 18/40\n",
            "55/55 [==============================] - 1s 23ms/step - loss: 1.2151 - accuracy: 0.7503\n",
            "Epoch 19/40\n",
            "55/55 [==============================] - 1s 24ms/step - loss: 1.2032 - accuracy: 0.7521\n",
            "Epoch 20/40\n",
            "55/55 [==============================] - 1s 23ms/step - loss: 1.1905 - accuracy: 0.7528\n",
            "Epoch 21/40\n",
            "55/55 [==============================] - 1s 23ms/step - loss: 1.1803 - accuracy: 0.7553\n",
            "Epoch 22/40\n",
            "55/55 [==============================] - 1s 24ms/step - loss: 1.1712 - accuracy: 0.7552\n",
            "Epoch 23/40\n",
            "55/55 [==============================] - 1s 23ms/step - loss: 1.1649 - accuracy: 0.7555\n",
            "Epoch 24/40\n",
            "55/55 [==============================] - 1s 23ms/step - loss: 1.1527 - accuracy: 0.7593\n",
            "Epoch 25/40\n",
            "55/55 [==============================] - 1s 23ms/step - loss: 1.1487 - accuracy: 0.7594\n",
            "Epoch 26/40\n",
            "55/55 [==============================] - 1s 23ms/step - loss: 1.1385 - accuracy: 0.7602\n",
            "Epoch 27/40\n",
            "55/55 [==============================] - 1s 23ms/step - loss: 1.1281 - accuracy: 0.7637\n",
            "Epoch 28/40\n",
            "55/55 [==============================] - 1s 23ms/step - loss: 1.1215 - accuracy: 0.7653\n",
            "Epoch 29/40\n",
            "55/55 [==============================] - 1s 23ms/step - loss: 1.1171 - accuracy: 0.7659\n",
            "Epoch 30/40\n",
            "55/55 [==============================] - 1s 23ms/step - loss: 1.1074 - accuracy: 0.7688\n",
            "Epoch 31/40\n",
            "55/55 [==============================] - 1s 23ms/step - loss: 1.0995 - accuracy: 0.7707\n",
            "Epoch 32/40\n",
            "55/55 [==============================] - 1s 23ms/step - loss: 1.0945 - accuracy: 0.7706\n",
            "Epoch 33/40\n",
            "55/55 [==============================] - 1s 23ms/step - loss: 1.0913 - accuracy: 0.7716\n",
            "Epoch 34/40\n",
            "55/55 [==============================] - 1s 23ms/step - loss: 1.0885 - accuracy: 0.7713\n",
            "Epoch 35/40\n",
            "55/55 [==============================] - 1s 24ms/step - loss: 1.0758 - accuracy: 0.7748\n",
            "Epoch 36/40\n",
            "55/55 [==============================] - 1s 23ms/step - loss: 1.0706 - accuracy: 0.7762\n",
            "Epoch 37/40\n",
            "55/55 [==============================] - 1s 23ms/step - loss: 1.0640 - accuracy: 0.7778\n",
            "Epoch 38/40\n",
            "55/55 [==============================] - 1s 24ms/step - loss: 1.0606 - accuracy: 0.7784\n",
            "Epoch 39/40\n",
            "55/55 [==============================] - 1s 23ms/step - loss: 1.0585 - accuracy: 0.7775\n",
            "Epoch 40/40\n",
            "55/55 [==============================] - 1s 23ms/step - loss: 1.0489 - accuracy: 0.7806\n",
            "219/219 [==============================] - 1s 2ms/step - loss: 1.0639 - accuracy: 0.7741\n",
            "1750/1750 [==============================] - 3s 2ms/step - loss: 1.0469 - accuracy: 0.7823\n",
            "Epoch 1/40\n",
            "55/55 [==============================] - 2s 24ms/step - loss: 33.6450 - accuracy: 0.2638\n",
            "Epoch 2/40\n",
            "55/55 [==============================] - 1s 23ms/step - loss: 9.8235 - accuracy: 0.2220\n",
            "Epoch 3/40\n",
            "55/55 [==============================] - 1s 23ms/step - loss: 3.2257 - accuracy: 0.2868\n",
            "Epoch 4/40\n",
            "55/55 [==============================] - 1s 23ms/step - loss: 2.0440 - accuracy: 0.3102\n",
            "Epoch 5/40\n",
            "55/55 [==============================] - 1s 23ms/step - loss: 1.9405 - accuracy: 0.3105\n",
            "Epoch 6/40\n",
            "55/55 [==============================] - 1s 23ms/step - loss: 1.8892 - accuracy: 0.3371\n",
            "Epoch 7/40\n",
            "55/55 [==============================] - 1s 24ms/step - loss: 1.8435 - accuracy: 0.3632\n",
            "Epoch 8/40\n",
            "55/55 [==============================] - 1s 23ms/step - loss: 1.7985 - accuracy: 0.3898\n",
            "Epoch 9/40\n",
            "55/55 [==============================] - 1s 23ms/step - loss: 1.7640 - accuracy: 0.4053\n",
            "Epoch 10/40\n",
            "55/55 [==============================] - 1s 23ms/step - loss: 1.7286 - accuracy: 0.4302\n",
            "Epoch 11/40\n",
            "55/55 [==============================] - 1s 23ms/step - loss: 1.7053 - accuracy: 0.4388\n",
            "Epoch 12/40\n",
            "55/55 [==============================] - 1s 23ms/step - loss: 1.6871 - accuracy: 0.4547\n",
            "Epoch 13/40\n",
            "55/55 [==============================] - 1s 24ms/step - loss: 1.6733 - accuracy: 0.4578\n",
            "Epoch 14/40\n",
            "55/55 [==============================] - 1s 23ms/step - loss: 1.6630 - accuracy: 0.4598\n",
            "Epoch 15/40\n",
            "55/55 [==============================] - 1s 24ms/step - loss: 1.6506 - accuracy: 0.4669\n",
            "Epoch 16/40\n",
            "55/55 [==============================] - 1s 24ms/step - loss: 1.6415 - accuracy: 0.4702\n",
            "Epoch 17/40\n",
            "55/55 [==============================] - 1s 23ms/step - loss: 1.6336 - accuracy: 0.4728\n",
            "Epoch 18/40\n",
            "55/55 [==============================] - 1s 23ms/step - loss: 1.6206 - accuracy: 0.4849\n",
            "Epoch 19/40\n",
            "55/55 [==============================] - 1s 23ms/step - loss: 1.6132 - accuracy: 0.5008\n",
            "Epoch 20/40\n",
            "55/55 [==============================] - 1s 23ms/step - loss: 1.5986 - accuracy: 0.5131\n",
            "Epoch 21/40\n",
            "55/55 [==============================] - 1s 23ms/step - loss: 1.5901 - accuracy: 0.5151\n",
            "Epoch 22/40\n",
            "55/55 [==============================] - 1s 24ms/step - loss: 1.5784 - accuracy: 0.5173\n",
            "Epoch 23/40\n",
            "55/55 [==============================] - 1s 23ms/step - loss: 1.5742 - accuracy: 0.5178\n",
            "Epoch 24/40\n",
            "55/55 [==============================] - 1s 23ms/step - loss: 1.5699 - accuracy: 0.5196\n",
            "Epoch 25/40\n",
            "55/55 [==============================] - 1s 24ms/step - loss: 1.5643 - accuracy: 0.5182\n",
            "Epoch 26/40\n",
            "55/55 [==============================] - 1s 23ms/step - loss: 1.5641 - accuracy: 0.5175\n",
            "Epoch 27/40\n",
            "55/55 [==============================] - 1s 23ms/step - loss: 1.5544 - accuracy: 0.5218\n",
            "Epoch 28/40\n",
            "55/55 [==============================] - 1s 24ms/step - loss: 1.5481 - accuracy: 0.5221\n",
            "Epoch 29/40\n",
            "55/55 [==============================] - 1s 23ms/step - loss: 1.5459 - accuracy: 0.5245\n",
            "Epoch 30/40\n",
            "55/55 [==============================] - 1s 23ms/step - loss: 1.5422 - accuracy: 0.5247\n",
            "Epoch 31/40\n",
            "55/55 [==============================] - 1s 23ms/step - loss: 1.5410 - accuracy: 0.5224\n",
            "Epoch 32/40\n",
            "55/55 [==============================] - 1s 24ms/step - loss: 1.5414 - accuracy: 0.5210\n",
            "Epoch 33/40\n",
            "55/55 [==============================] - 1s 23ms/step - loss: 1.5385 - accuracy: 0.5207\n",
            "Epoch 34/40\n",
            "55/55 [==============================] - 1s 23ms/step - loss: 1.5356 - accuracy: 0.5225\n",
            "Epoch 35/40\n",
            "55/55 [==============================] - 1s 23ms/step - loss: 1.5345 - accuracy: 0.5220\n",
            "Epoch 36/40\n",
            "55/55 [==============================] - 1s 24ms/step - loss: 1.5330 - accuracy: 0.5244\n",
            "Epoch 37/40\n",
            "55/55 [==============================] - 1s 23ms/step - loss: 1.5257 - accuracy: 0.5251\n",
            "Epoch 38/40\n",
            "55/55 [==============================] - 1s 23ms/step - loss: 1.5268 - accuracy: 0.5247\n",
            "Epoch 39/40\n",
            "55/55 [==============================] - 1s 24ms/step - loss: 1.5225 - accuracy: 0.5267\n",
            "Epoch 40/40\n",
            "55/55 [==============================] - 1s 23ms/step - loss: 1.5213 - accuracy: 0.5270\n",
            "219/219 [==============================] - 1s 2ms/step - loss: 1.5376 - accuracy: 0.5089\n",
            "1750/1750 [==============================] - 4s 2ms/step - loss: 1.5181 - accuracy: 0.5284\n",
            "Epoch 1/40\n",
            "55/55 [==============================] - 2s 24ms/step - loss: 47.2871 - accuracy: 0.2358\n",
            "Epoch 2/40\n",
            "55/55 [==============================] - 1s 23ms/step - loss: 13.0246 - accuracy: 0.1098\n",
            "Epoch 3/40\n",
            "55/55 [==============================] - 1s 23ms/step - loss: 3.7929 - accuracy: 0.1002\n",
            "Epoch 4/40\n",
            "55/55 [==============================] - 1s 23ms/step - loss: 2.4789 - accuracy: 0.0995\n",
            "Epoch 5/40\n",
            "55/55 [==============================] - 1s 24ms/step - loss: 2.4552 - accuracy: 0.0988\n",
            "Epoch 6/40\n",
            "55/55 [==============================] - 1s 23ms/step - loss: 2.4544 - accuracy: 0.1011\n",
            "Epoch 7/40\n",
            "55/55 [==============================] - 1s 24ms/step - loss: 2.4539 - accuracy: 0.0987\n",
            "Epoch 8/40\n",
            "55/55 [==============================] - 1s 24ms/step - loss: 2.4532 - accuracy: 0.0996\n",
            "Epoch 9/40\n",
            "55/55 [==============================] - 1s 23ms/step - loss: 2.4528 - accuracy: 0.0991\n",
            "Epoch 10/40\n",
            "55/55 [==============================] - 1s 23ms/step - loss: 2.4527 - accuracy: 0.0995\n",
            "Epoch 11/40\n",
            "55/55 [==============================] - 1s 23ms/step - loss: 2.4524 - accuracy: 0.0970\n",
            "Epoch 12/40\n",
            "55/55 [==============================] - 1s 24ms/step - loss: 2.4518 - accuracy: 0.1007\n",
            "Epoch 13/40\n",
            "55/55 [==============================] - 1s 24ms/step - loss: 2.4513 - accuracy: 0.0987\n",
            "Epoch 14/40\n",
            "55/55 [==============================] - 1s 23ms/step - loss: 2.4510 - accuracy: 0.1007\n",
            "Epoch 15/40\n",
            "55/55 [==============================] - 1s 24ms/step - loss: 2.4509 - accuracy: 0.1003\n",
            "Epoch 16/40\n",
            "55/55 [==============================] - 1s 24ms/step - loss: 2.4513 - accuracy: 0.1001\n",
            "Epoch 17/40\n",
            "55/55 [==============================] - 1s 24ms/step - loss: 2.4516 - accuracy: 0.0972\n",
            "Epoch 18/40\n",
            "55/55 [==============================] - 1s 24ms/step - loss: 2.4519 - accuracy: 0.0970\n",
            "Epoch 19/40\n",
            "55/55 [==============================] - 1s 24ms/step - loss: 2.4522 - accuracy: 0.1001\n",
            "Epoch 20/40\n",
            "55/55 [==============================] - 1s 24ms/step - loss: 2.4524 - accuracy: 0.0999\n",
            "Epoch 21/40\n",
            "55/55 [==============================] - 1s 24ms/step - loss: 2.4523 - accuracy: 0.1001\n",
            "Epoch 22/40\n",
            "55/55 [==============================] - 1s 24ms/step - loss: 2.4523 - accuracy: 0.0992\n",
            "Epoch 23/40\n",
            "55/55 [==============================] - 1s 24ms/step - loss: 2.4522 - accuracy: 0.0987\n",
            "Epoch 24/40\n",
            "55/55 [==============================] - 1s 24ms/step - loss: 2.4523 - accuracy: 0.0998\n",
            "Epoch 25/40\n",
            "55/55 [==============================] - 1s 23ms/step - loss: 2.4524 - accuracy: 0.1004\n",
            "Epoch 26/40\n",
            "55/55 [==============================] - 1s 24ms/step - loss: 2.4527 - accuracy: 0.0977\n",
            "Epoch 27/40\n",
            "55/55 [==============================] - 2s 30ms/step - loss: 2.4531 - accuracy: 0.1011\n",
            "Epoch 28/40\n",
            "55/55 [==============================] - 2s 29ms/step - loss: 2.4536 - accuracy: 0.1006\n",
            "Epoch 29/40\n",
            "55/55 [==============================] - 2s 30ms/step - loss: 2.4544 - accuracy: 0.0987\n",
            "Epoch 30/40\n",
            "55/55 [==============================] - 2s 44ms/step - loss: 2.4549 - accuracy: 0.0989\n",
            "Epoch 31/40\n",
            "55/55 [==============================] - 2s 29ms/step - loss: 2.4554 - accuracy: 0.1001\n",
            "Epoch 32/40\n",
            "55/55 [==============================] - 1s 24ms/step - loss: 2.4559 - accuracy: 0.0976\n",
            "Epoch 33/40\n",
            "55/55 [==============================] - 1s 24ms/step - loss: 2.4562 - accuracy: 0.0974\n",
            "Epoch 34/40\n",
            "55/55 [==============================] - 1s 23ms/step - loss: 2.4564 - accuracy: 0.0983\n",
            "Epoch 35/40\n",
            "55/55 [==============================] - 1s 24ms/step - loss: 2.4565 - accuracy: 0.1007\n",
            "Epoch 36/40\n",
            "55/55 [==============================] - 1s 25ms/step - loss: 2.4566 - accuracy: 0.1003\n",
            "Epoch 37/40\n",
            "55/55 [==============================] - 1s 24ms/step - loss: 2.4567 - accuracy: 0.0979\n",
            "Epoch 38/40\n",
            "55/55 [==============================] - 1s 24ms/step - loss: 2.4567 - accuracy: 0.0997\n",
            "Epoch 39/40\n",
            "55/55 [==============================] - 1s 25ms/step - loss: 2.4567 - accuracy: 0.0998\n",
            "Epoch 40/40\n",
            "55/55 [==============================] - 1s 24ms/step - loss: 2.4568 - accuracy: 0.1005\n",
            "219/219 [==============================] - 1s 2ms/step - loss: 2.4567 - accuracy: 0.0953\n",
            "1750/1750 [==============================] - 4s 2ms/step - loss: 2.4564 - accuracy: 0.1011\n",
            "Epoch 1/40\n",
            "55/55 [==============================] - 2s 24ms/step - loss: 61.2031 - accuracy: 0.2346\n",
            "Epoch 2/40\n",
            "55/55 [==============================] - 1s 24ms/step - loss: 16.3154 - accuracy: 0.1035\n",
            "Epoch 3/40\n",
            "55/55 [==============================] - 1s 24ms/step - loss: 4.1768 - accuracy: 0.0995\n",
            "Epoch 4/40\n",
            "55/55 [==============================] - 1s 24ms/step - loss: 2.5370 - accuracy: 0.1011\n",
            "Epoch 5/40\n",
            "55/55 [==============================] - 1s 24ms/step - loss: 2.5092 - accuracy: 0.0996\n",
            "Epoch 6/40\n",
            "55/55 [==============================] - 1s 24ms/step - loss: 2.5085 - accuracy: 0.0986\n",
            "Epoch 7/40\n",
            "55/55 [==============================] - 1s 24ms/step - loss: 2.5082 - accuracy: 0.0964\n",
            "Epoch 8/40\n",
            "55/55 [==============================] - 1s 24ms/step - loss: 2.5073 - accuracy: 0.1007\n",
            "Epoch 9/40\n",
            "55/55 [==============================] - 1s 25ms/step - loss: 2.5065 - accuracy: 0.0989\n",
            "Epoch 10/40\n",
            "55/55 [==============================] - 1s 24ms/step - loss: 2.5060 - accuracy: 0.0989\n",
            "Epoch 11/40\n",
            "55/55 [==============================] - 1s 24ms/step - loss: 2.5054 - accuracy: 0.0994\n",
            "Epoch 12/40\n",
            "55/55 [==============================] - 1s 24ms/step - loss: 2.5050 - accuracy: 0.1014\n",
            "Epoch 13/40\n",
            "55/55 [==============================] - 1s 24ms/step - loss: 2.5048 - accuracy: 0.0990\n",
            "Epoch 14/40\n",
            "55/55 [==============================] - 1s 24ms/step - loss: 2.5042 - accuracy: 0.0994\n",
            "Epoch 15/40\n",
            "55/55 [==============================] - 1s 24ms/step - loss: 2.5035 - accuracy: 0.0999\n",
            "Epoch 16/40\n",
            "55/55 [==============================] - 1s 24ms/step - loss: 2.5027 - accuracy: 0.0984\n",
            "Epoch 17/40\n",
            "55/55 [==============================] - 1s 24ms/step - loss: 2.5023 - accuracy: 0.0976\n",
            "Epoch 18/40\n",
            "55/55 [==============================] - 1s 24ms/step - loss: 2.5020 - accuracy: 0.0991\n",
            "Epoch 19/40\n",
            "55/55 [==============================] - 1s 24ms/step - loss: 2.5019 - accuracy: 0.0984\n",
            "Epoch 20/40\n",
            "55/55 [==============================] - 1s 25ms/step - loss: 2.5021 - accuracy: 0.0997\n",
            "Epoch 21/40\n",
            "55/55 [==============================] - 1s 24ms/step - loss: 2.5024 - accuracy: 0.0998\n",
            "Epoch 22/40\n",
            "55/55 [==============================] - 1s 24ms/step - loss: 2.5030 - accuracy: 0.0996\n",
            "Epoch 23/40\n",
            "55/55 [==============================] - 1s 24ms/step - loss: 2.5033 - accuracy: 0.0983\n",
            "Epoch 24/40\n",
            "55/55 [==============================] - 1s 24ms/step - loss: 2.5038 - accuracy: 0.0982\n",
            "Epoch 25/40\n",
            "55/55 [==============================] - 1s 23ms/step - loss: 2.5039 - accuracy: 0.0986\n",
            "Epoch 26/40\n",
            "55/55 [==============================] - 1s 24ms/step - loss: 2.5040 - accuracy: 0.0998\n",
            "Epoch 27/40\n",
            "55/55 [==============================] - 1s 24ms/step - loss: 2.5039 - accuracy: 0.1011\n",
            "Epoch 28/40\n",
            "55/55 [==============================] - 1s 24ms/step - loss: 2.5037 - accuracy: 0.1004\n",
            "Epoch 29/40\n",
            "55/55 [==============================] - 1s 24ms/step - loss: 2.5035 - accuracy: 0.0997\n",
            "Epoch 30/40\n",
            "55/55 [==============================] - 1s 24ms/step - loss: 2.5034 - accuracy: 0.0994\n",
            "Epoch 31/40\n",
            "55/55 [==============================] - 1s 24ms/step - loss: 2.5035 - accuracy: 0.0989\n",
            "Epoch 32/40\n",
            "55/55 [==============================] - 1s 24ms/step - loss: 2.5037 - accuracy: 0.0974\n",
            "Epoch 33/40\n",
            "55/55 [==============================] - 1s 24ms/step - loss: 2.5039 - accuracy: 0.0983\n",
            "Epoch 34/40\n",
            "55/55 [==============================] - 1s 23ms/step - loss: 2.5041 - accuracy: 0.0988\n",
            "Epoch 35/40\n",
            "55/55 [==============================] - 1s 24ms/step - loss: 2.5044 - accuracy: 0.0994\n",
            "Epoch 36/40\n",
            "55/55 [==============================] - 2s 38ms/step - loss: 2.5048 - accuracy: 0.1004\n",
            "Epoch 37/40\n",
            "55/55 [==============================] - 1s 24ms/step - loss: 2.5053 - accuracy: 0.0976\n",
            "Epoch 38/40\n",
            "55/55 [==============================] - 1s 24ms/step - loss: 2.5059 - accuracy: 0.0995\n",
            "Epoch 39/40\n",
            "55/55 [==============================] - 1s 24ms/step - loss: 2.5067 - accuracy: 0.1000\n",
            "Epoch 40/40\n",
            "55/55 [==============================] - 1s 24ms/step - loss: 2.5072 - accuracy: 0.1007\n",
            "219/219 [==============================] - 1s 2ms/step - loss: 2.5072 - accuracy: 0.0976\n",
            "1750/1750 [==============================] - 4s 2ms/step - loss: 2.5071 - accuracy: 0.0995\n"
          ]
        }
      ]
    },
    {
      "cell_type": "code",
      "source": [
        "fig,axes = plt.subplots(nrows=1,ncols=2,figsize=(12,4))\n",
        "fig.subplots_adjust(wspace=0.4,hspace=0,left=0.2, right=0.9, top=0.9, bottom=0.1)\n",
        "fontdict={  'fontsize': 12, 'fontname': 'serif'}\n",
        "axes[0].plot(np.linspace(0,0.01,5),LOSS_t,'-ro',label='Training')\n",
        "axes[0].plot(np.linspace(0,0.01,5),LOSS,'-bo',label='Validation')\n",
        "axes[0].set_xlabel('landa for L2',fontdict)\n",
        "axes[0].set_ylabel('loss',fontdict)\n",
        "#axes[0].set_ylim(0.14, 0.18) \n",
        "axes[0].legend()\n",
        "\n",
        "axes[1].plot(np.linspace(0,0.01,5),ACC_t,'-ro',label='Training')\n",
        "axes[1].plot(np.linspace(0,0.01,5),ACC,'-bo',label='Validation')\n",
        "axes[1].set_xlabel('landa for L2',fontdict)\n",
        "axes[1].set_ylabel('accuracy',fontdict)\n",
        "#axes[1].set_ylim(0.94, 0.95)\n",
        "axes[1].legend()\n",
        "\n",
        "for tick in axes[0].get_xticklabels():\n",
        "        tick.set_fontname(\"serif\")\n",
        "        tick.set_fontsize(12)\n",
        "for tick in axes[0].get_yticklabels():\n",
        "        tick.set_fontname(\"serif\")\n",
        "        tick.set_fontsize(12)\n",
        "\n",
        "for tick in axes[1].get_xticklabels():\n",
        "        tick.set_fontname(\"serif\")\n",
        "        tick.set_fontsize(12)\n",
        "for tick in axes[1].get_yticklabels():\n",
        "        tick.set_fontname(\"serif\")\n",
        "        tick.set_fontsize(12)"
      ],
      "metadata": {
        "colab": {
          "base_uri": "https://localhost:8080/",
          "height": 301
        },
        "outputId": "b93cf333-175e-43c5-b5a7-71cf3292229a",
        "id": "E5VHYYLu7qiq"
      },
      "execution_count": 87,
      "outputs": [
        {
          "output_type": "display_data",
          "data": {
            "text/plain": [
              "<Figure size 864x288 with 2 Axes>"
            ],
            "image/png": "[encoded data removed]"
          },
          "metadata": {
            "needs_background": "light"
          }
        }
      ]
    },
    {
      "cell_type": "markdown",
      "source": [
        "L2 regularization was implemented with a landa value from 0 to 0.01. The performance of the model decreased with landa. This may be due to the fact that the current model is not overfitting the data and reducing its complexity will just decrease its performance and underfit the data set. When the regularization is increased the weight parameters have a penalty and they get reduced, this leads to less complex models, which is a good practice when a model is overfitting the data. However, the current model is not overfitting the data therefore, no regularization will be done for the current NN."
      ],
      "metadata": {
        "id": "wtDwAYPt_LTu"
      }
    },
    {
      "cell_type": "markdown",
      "source": [
        "### FINAL MODEL"
      ],
      "metadata": {
        "id": "dV7Swn4ewUbN"
      }
    },
    {
      "cell_type": "markdown",
      "source": [
        "Finally, a NN with 5 hidden layers, 128 nodes per layer, adam optimization, relu activation function and softmax output layer is build. The model is optimize using adam algorithm with 40 epochs and the accuracy metric and the sparse categorical cross entropy loss are used to assess the model performance. "
      ],
      "metadata": {
        "id": "_RtIv2iBaumy"
      }
    },
    {
      "cell_type": "code",
      "source": [
        "    model = tf.keras.models.Sequential([ \n",
        "    tf.keras.layers.Flatten(input_shape=(28, 28)), \n",
        "    tf.keras.layers.Dense(128, activation='relu'),\n",
        "    tf.keras.layers.Dense(128, activation='relu'),\n",
        "    tf.keras.layers.Dense(128, activation='relu'),\n",
        "    tf.keras.layers.Dense(128, activation='relu'),        \n",
        "    tf.keras.layers.Dense(128, activation='relu'),    \n",
        "    tf.keras.layers.Dense(10, activation='softmax')     \n",
        "    ])\n",
        "    model.compile(optimizer='adam',\n",
        "                  loss=tf.keras.losses.SparseCategoricalCrossentropy(from_logits=True),\n",
        "                  metrics=['accuracy'])\n",
        "    history = model.fit(X_train, y_train, epochs=20, batch_size=2**10)\n",
        "    loss = history.history['loss']\n",
        "    accuracy = history.history['accuracy']\n",
        "    # test the model on validation data\n",
        "    loss, acc = model.evaluate(X_val, y_val, verbose = 1)\n",
        "    print('\\nTest accuracy: ', acc)"
      ],
      "metadata": {
        "colab": {
          "base_uri": "https://localhost:8080/"
        },
        "id": "UKixwW4L96iV",
        "outputId": "65fa14b6-06d6-4fff-cedf-c0e73d605011"
      },
      "execution_count": 88,
      "outputs": [
        {
          "output_type": "stream",
          "name": "stdout",
          "text": [
            "Epoch 1/20\n"
          ]
        },
        {
          "output_type": "stream",
          "name": "stderr",
          "text": [
            "/usr/local/lib/python3.7/dist-packages/tensorflow/python/util/dispatch.py:1082: UserWarning: \"`sparse_categorical_crossentropy` received `from_logits=True`, but the `output` argument was produced by a sigmoid or softmax activation and thus does not represent logits. Was this intended?\"\n",
            "  return dispatch_target(*args, **kwargs)\n"
          ]
        },
        {
          "output_type": "stream",
          "name": "stdout",
          "text": [
            "55/55 [==============================] - 2s 23ms/step - loss: 0.9083 - accuracy: 0.6777\n",
            "Epoch 2/20\n",
            "55/55 [==============================] - 1s 22ms/step - loss: 0.4734 - accuracy: 0.8326\n",
            "Epoch 3/20\n",
            "55/55 [==============================] - 1s 22ms/step - loss: 0.4173 - accuracy: 0.8509\n",
            "Epoch 4/20\n",
            "55/55 [==============================] - 1s 22ms/step - loss: 0.3786 - accuracy: 0.8643\n",
            "Epoch 5/20\n",
            "55/55 [==============================] - 1s 22ms/step - loss: 0.3697 - accuracy: 0.8675\n",
            "Epoch 6/20\n",
            "55/55 [==============================] - 1s 23ms/step - loss: 0.3449 - accuracy: 0.8759\n",
            "Epoch 7/20\n",
            "55/55 [==============================] - 1s 22ms/step - loss: 0.3292 - accuracy: 0.8796\n",
            "Epoch 8/20\n",
            "55/55 [==============================] - 1s 22ms/step - loss: 0.3141 - accuracy: 0.8856\n",
            "Epoch 9/20\n",
            "55/55 [==============================] - 1s 23ms/step - loss: 0.3067 - accuracy: 0.8879\n",
            "Epoch 10/20\n",
            "55/55 [==============================] - 1s 22ms/step - loss: 0.2957 - accuracy: 0.8906\n",
            "Epoch 11/20\n",
            "55/55 [==============================] - 1s 22ms/step - loss: 0.2898 - accuracy: 0.8942\n",
            "Epoch 12/20\n",
            "55/55 [==============================] - 1s 22ms/step - loss: 0.2740 - accuracy: 0.8995\n",
            "Epoch 13/20\n",
            "55/55 [==============================] - 1s 22ms/step - loss: 0.2693 - accuracy: 0.9003\n",
            "Epoch 14/20\n",
            "55/55 [==============================] - 1s 22ms/step - loss: 0.2613 - accuracy: 0.9032\n",
            "Epoch 15/20\n",
            "55/55 [==============================] - 1s 22ms/step - loss: 0.2538 - accuracy: 0.9057\n",
            "Epoch 16/20\n",
            "55/55 [==============================] - 1s 22ms/step - loss: 0.2474 - accuracy: 0.9075\n",
            "Epoch 17/20\n",
            "55/55 [==============================] - 1s 23ms/step - loss: 0.2499 - accuracy: 0.9061\n",
            "Epoch 18/20\n",
            "55/55 [==============================] - 1s 23ms/step - loss: 0.2362 - accuracy: 0.9123\n",
            "Epoch 19/20\n",
            "55/55 [==============================] - 1s 22ms/step - loss: 0.2236 - accuracy: 0.9160\n",
            "Epoch 20/20\n",
            "55/55 [==============================] - 1s 22ms/step - loss: 0.2279 - accuracy: 0.9145\n",
            "219/219 [==============================] - 1s 2ms/step - loss: 0.3203 - accuracy: 0.8851\n",
            "\n",
            "Test accuracy:  0.8851428627967834\n"
          ]
        }
      ]
    },
    {
      "cell_type": "code",
      "source": [
        "# test the model on validation dataX_train, y_train\n",
        "loss, acc = model.evaluate(X_train, y_train, verbose = 1)\n",
        "print('\\n accuracy using the training data set: %5.2f' %(acc))\n",
        "print('loss using the training data set: %5.2f' %(loss))\n",
        "loss, acc = model.evaluate(X_val, y_val, verbose = 1)\n",
        "print('\\n accuracy using the validation data set: %5.2f' %(acc))\n",
        "print('loss using the validation data set: %5.2f' %(loss))"
      ],
      "metadata": {
        "colab": {
          "base_uri": "https://localhost:8080/"
        },
        "outputId": "4724e931-648a-4ee0-e5df-df832edc594a",
        "id": "OENsqDnpAvRq"
      },
      "execution_count": 89,
      "outputs": [
        {
          "output_type": "stream",
          "name": "stdout",
          "text": [
            "1750/1750 [==============================] - 3s 2ms/step - loss: 0.2250 - accuracy: 0.9149\n",
            "\n",
            " accuracy using the training data set:  0.91\n",
            "loss using the training data set:  0.23\n",
            "219/219 [==============================] - 0s 2ms/step - loss: 0.3203 - accuracy: 0.8851\n",
            "\n",
            " accuracy using the validation data set:  0.89\n",
            "loss using the validation data set:  0.32\n"
          ]
        }
      ]
    },
    {
      "cell_type": "markdown",
      "source": [
        "The final model obtained a 89% accuracy and 0.32 loss in the validation data set. However, the validation data set have been used in the hyperparameter tunning process. Therefore the assessment of the model performance is biased. As a solution, we can now evaluate the model with the test data set. This data set has not been used previously in any case."
      ],
      "metadata": {
        "id": "PXQBj51g-2-7"
      }
    },
    {
      "cell_type": "code",
      "source": [
        "    loss, acc = model.evaluate(X_test, y_test, verbose = 1)\n",
        "    print('\\nTest accuracy: %5.2f' %(acc))\n",
        "    print('\\nTest loss: %5.2f' %(loss))"
      ],
      "metadata": {
        "colab": {
          "base_uri": "https://localhost:8080/"
        },
        "id": "X3kIqm_n-yUr",
        "outputId": "201d2da0-ae2d-4d21-fe52-68f755218388"
      },
      "execution_count": 93,
      "outputs": [
        {
          "output_type": "stream",
          "name": "stdout",
          "text": [
            "219/219 [==============================] - 0s 2ms/step - loss: 0.3075 - accuracy: 0.8871\n",
            "\n",
            "Test accuracy:  0.89\n",
            "\n",
            "Test loss:  0.31\n"
          ]
        }
      ]
    },
    {
      "cell_type": "markdown",
      "source": [
        "Finally, an accuracy equal to 89% and a loss equal to 0.31 is reached for the model evaluated on the test data set. Note that the accuracy level and loss reached with the test data set is almost equal with respect to the one obtained using the validation data set. This may be a consequence of a well data distribution. "
      ],
      "metadata": {
        "id": "dy9hFfGh_GlF"
      }
    },
    {
      "cell_type": "markdown",
      "source": [
        "## BASELINE MODEL"
      ],
      "metadata": {
        "id": "91ATloaHazG6"
      }
    },
    {
      "cell_type": "markdown",
      "source": [
        "A logistic regression will be used to fit the data set. After tunning the number of iterations for the logistic regression, the model will be compared with the NN model achieved in the previous section. "
      ],
      "metadata": {
        "id": "KvhpqXS0ModR"
      }
    },
    {
      "cell_type": "code",
      "source": [
        "from sklearn.linear_model import LogisticRegression\n",
        "X_train_log = X_train.flatten().reshape(55999,784)\n",
        "X_val_log = X_val.flatten().reshape(7000,784)\n",
        "X_test_log = X_test.flatten().reshape(7000,784)"
      ],
      "metadata": {
        "id": "mkVqpl7IBfKz"
      },
      "execution_count": 95,
      "outputs": []
    },
    {
      "cell_type": "markdown",
      "source": [
        "### EFFECT OF NUMBER OF ITERATIONS"
      ],
      "metadata": {
        "id": "7AL4Yx3b8SjH"
      }
    },
    {
      "cell_type": "markdown",
      "source": [
        "The effect of the number of iterations will be assessed in this section"
      ],
      "metadata": {
        "id": "j6WYsIfyQh0I"
      }
    },
    {
      "cell_type": "code",
      "source": [
        "score_train = np.zeros(5,)\n",
        "score_val = np.zeros(5,)\n",
        "\n",
        "for i in range(0,5,1):\n",
        "  Logistic_model = LogisticRegression(solver='sag',multi_class='auto',max_iter=1+i*10).fit(X_train_log,y_train)\n",
        "  # Use score method to get accuracy of model\n",
        "  score_train[i] = Logistic_model.score(X_train_log, y_train)\n",
        "  score_val[i] = Logistic_model.score(X_val_log, y_val)\n",
        "  print(score)"
      ],
      "metadata": {
        "colab": {
          "base_uri": "https://localhost:8080/"
        },
        "id": "zfY_glnQAgux",
        "outputId": "35d0da88-760c-4452-d19d-b9f22878e247"
      },
      "execution_count": 100,
      "outputs": [
        {
          "output_type": "stream",
          "name": "stderr",
          "text": [
            "/usr/local/lib/python3.7/dist-packages/sklearn/linear_model/_sag.py:354: ConvergenceWarning: The max_iter was reached which means the coef_ did not converge\n",
            "  ConvergenceWarning,\n"
          ]
        },
        {
          "output_type": "stream",
          "name": "stdout",
          "text": [
            "[0. 0. 0. 0. 0.]\n"
          ]
        },
        {
          "output_type": "stream",
          "name": "stderr",
          "text": [
            "/usr/local/lib/python3.7/dist-packages/sklearn/linear_model/_sag.py:354: ConvergenceWarning: The max_iter was reached which means the coef_ did not converge\n",
            "  ConvergenceWarning,\n"
          ]
        },
        {
          "output_type": "stream",
          "name": "stdout",
          "text": [
            "[0. 0. 0. 0. 0.]\n"
          ]
        },
        {
          "output_type": "stream",
          "name": "stderr",
          "text": [
            "/usr/local/lib/python3.7/dist-packages/sklearn/linear_model/_sag.py:354: ConvergenceWarning: The max_iter was reached which means the coef_ did not converge\n",
            "  ConvergenceWarning,\n"
          ]
        },
        {
          "output_type": "stream",
          "name": "stdout",
          "text": [
            "[0. 0. 0. 0. 0.]\n"
          ]
        },
        {
          "output_type": "stream",
          "name": "stderr",
          "text": [
            "/usr/local/lib/python3.7/dist-packages/sklearn/linear_model/_sag.py:354: ConvergenceWarning: The max_iter was reached which means the coef_ did not converge\n",
            "  ConvergenceWarning,\n"
          ]
        },
        {
          "output_type": "stream",
          "name": "stdout",
          "text": [
            "[0. 0. 0. 0. 0.]\n",
            "[0. 0. 0. 0. 0.]\n"
          ]
        },
        {
          "output_type": "stream",
          "name": "stderr",
          "text": [
            "/usr/local/lib/python3.7/dist-packages/sklearn/linear_model/_sag.py:354: ConvergenceWarning: The max_iter was reached which means the coef_ did not converge\n",
            "  ConvergenceWarning,\n"
          ]
        }
      ]
    },
    {
      "cell_type": "code",
      "source": [
        "fig,axes = plt.subplots(nrows=1,ncols=1,figsize=(8,4))\n",
        "fig.subplots_adjust(wspace=0.4,hspace=0,left=0.2, right=0.9, top=0.9, bottom=0.1)\n",
        "fontdict={  'fontsize': 12, 'fontname': 'serif'}\n",
        "axes.plot(1+(np.arange(0,5,1))*10,score_train,'-ro',label='Training')\n",
        "axes.plot(1+(np.arange(0,5,1))*10,score_val,'-bo',label='Validation')\n",
        "\n",
        "axes.set_xlabel('iteration',fontdict)\n",
        "axes.set_ylabel('accuracy',fontdict)\n",
        "\n",
        "for tick in axes.get_xticklabels():\n",
        "        tick.set_fontname(\"serif\")\n",
        "        tick.set_fontsize(12)\n",
        "for tick in axes.get_yticklabels():\n",
        "        tick.set_fontname(\"serif\")\n",
        "        tick.set_fontsize(12)"
      ],
      "metadata": {
        "colab": {
          "base_uri": "https://localhost:8080/",
          "height": 298
        },
        "id": "ZYojNuMDCYRR",
        "outputId": "a3767e98-573d-4605-fa75-33df2003cf97"
      },
      "execution_count": 101,
      "outputs": [
        {
          "output_type": "display_data",
          "data": {
            "text/plain": [
              "<Figure size 576x288 with 1 Axes>"
            ],
            "image/png": "[encoded data removed]"
          },
          "metadata": {
            "needs_background": "light"
          }
        }
      ]
    },
    {
      "cell_type": "markdown",
      "source": [
        "The figure shows the effect of the maximum number of iteration on the performance of the model. It can be seen that after 10 iterations the performance is not improved. Therefore, 10 iterations are selected for this model. "
      ],
      "metadata": {
        "id": "h0PQlpydKG_X"
      }
    },
    {
      "cell_type": "code",
      "source": [
        "from sklearn.metrics import log_loss\n",
        "Logistic_model = LogisticRegression(solver='sag',multi_class='auto',max_iter=10).fit(X_train_log,y_train)\n",
        "score = Logistic_model.score(X_test_log, y_test)\n",
        "y_pred = Logistic_model.predict(X_test_log)\n",
        "loss =  log_loss(y_test, y_pred, labels=class_names)\n",
        "print('\\nTest accuracy: %5.2f' %(score))\n",
        "print('\\nTest loss: %5.2f' %(loss))"
      ],
      "metadata": {
        "colab": {
          "base_uri": "https://localhost:8080/"
        },
        "id": "fYwqlP-fLpA-",
        "outputId": "29cd1bac-434f-4207-d2d5-b3e55b32971b"
      },
      "execution_count": 114,
      "outputs": [
        {
          "output_type": "stream",
          "name": "stdout",
          "text": [
            "\n",
            "Test accuracy:  0.86\n"
          ]
        },
        {
          "output_type": "stream",
          "name": "stderr",
          "text": [
            "/usr/local/lib/python3.7/dist-packages/sklearn/linear_model/_sag.py:354: ConvergenceWarning: The max_iter was reached which means the coef_ did not converge\n",
            "  ConvergenceWarning,\n"
          ]
        }
      ]
    },
    {
      "cell_type": "code",
      "source": [
        "score = Logistic_model.score(X_test_log, y_test)\n",
        "y_pred = Logistic_model.predict_proba(X_test_log)\n",
        "loss =  log_loss(y_test, y_pred)\n",
        "print('\\nTest accuracy: %5.2f' %(score))\n",
        "print('\\nTest loss: %5.2f' %(loss))"
      ],
      "metadata": {
        "colab": {
          "base_uri": "https://localhost:8080/"
        },
        "id": "Dk0FGVpvXXBR",
        "outputId": "a549327e-803d-404f-8a4f-5384f3cafae6"
      },
      "execution_count": 127,
      "outputs": [
        {
          "output_type": "stream",
          "name": "stdout",
          "text": [
            "\n",
            "Test accuracy:  0.86\n",
            "\n",
            "Test loss:  0.41\n"
          ]
        }
      ]
    },
    {
      "cell_type": "markdown",
      "source": [
        "## COMPARING THE RESULTS OF BOTH MODELS"
      ],
      "metadata": {
        "id": "7Yj2yoRXKt6r"
      }
    },
    {
      "cell_type": "markdown",
      "source": [
        "xxxxxxxxxxxxxxxxxxxxxxxxxxxxxxxxxxxxxxxxxxxxxxxxxxxxxxxxxxxxxxx"
      ],
      "metadata": {
        "id": "lQWBAl3rMrHI"
      }
    }
  ]
}
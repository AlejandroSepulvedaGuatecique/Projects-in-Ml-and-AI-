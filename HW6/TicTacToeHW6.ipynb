{
  "nbformat": 4,
  "nbformat_minor": 0,
  "metadata": {
    "colab": {
      "provenance": [],
      "authorship_tag": "ABX9TyNYgLjl8SN2pr5fx9w6Qh0j",
      "include_colab_link": true
    },
    "kernelspec": {
      "name": "python3",
      "display_name": "Python 3"
    },
    "language_info": {
      "name": "python"
    }
  },
  "cells": [
    {
      "cell_type": "markdown",
      "metadata": {
        "id": "view-in-github",
        "colab_type": "text"
      },
      "source": [
        "<a href=\"https://colab.research.google.com/github/AlejandroSepulvedaGuatecique/Projects-in-Ml-and-AI-/blob/main/HW6/TicTacToeHW6.ipynb\" target=\"_parent\"><img src=\"https://colab.research.google.com/assets/colab-badge.svg\" alt=\"Open In Colab\"/></a>"
      ]
    },
    {
      "cell_type": "markdown",
      "source": [
        "# TIC-TAC-TOE IMPLEMENTATION "
      ],
      "metadata": {
        "id": "W6Luzz1vaKn0"
      }
    },
    {
      "cell_type": "markdown",
      "source": [
        "This implementation is based on the following resources. Slightly changes were made regarding the hyperparameters of the reinforcement learning model. Description of the class functionalities are provided thorught out the notebook. Finally, the results are analyzed. \n",
        "\n",
        "https://towardsdatascience.com/reinforcement-learning-implement-tictactoe-189582bea542\n",
        "https://github.com/JaeDukSeo/reinforcement-learning-an-introduction/blob/master/chapter01/TicTacToe.py\n",
        "https://github.com/JaeDukSeo/reinforcement-learning-an-introduction"
      ],
      "metadata": {
        "id": "7TNJ0mZ_dUfW"
      }
    },
    {
      "cell_type": "markdown",
      "source": [
        "### STATE: \n",
        "The board is represented as a 3 by 3 grid. The positions will be filled with zeros (available), ones (Player 1 moves) or minus ones (Player 2).\n",
        "### REWARDS\n",
        "The rewards are only given at the end of a game. The rewards are given as follows: 1 for a win, -1 for a loss, 0.1 for a tie achieved for the player that started and 0.5 for a tie achieved for the second player. It is known that if you start the game you have more probabilities to win. "
      ],
      "metadata": {
        "id": "eOlon1TaD4Oq"
      }
    },
    {
      "cell_type": "markdown",
      "source": [
        "### CLASS STATE\n",
        "\n",
        "Init\n",
        "\n",
        "Here, the board is represented (self.data). \n",
        "The winner of the game is initalized (self.winner)\n",
        "The information regarding the end of the game is initalized (self.end)\n",
        "\n",
        "getHash\n",
        "\n",
        "The different states played on the board are stored in a state-value dictionary (self.hasVal).\n",
        "\n",
        "\n",
        "isEnd\n",
        "\n",
        "This function determine if a player has won the game or a ties has been reached. The code searchs for every row, column and diagonal if the sum returns a 3, player 1 won, if the sum returns a -3, player 2 won, if any player has won and no more positions are available a tie is reached. \n",
        "\n",
        "nextState\n",
        "\n",
        "This function updates the board state after an action is taken by a player. \n",
        "\n",
        "show \n",
        "\n",
        "This code plot the board for visualization. This is just used when a human is playing. \n",
        "\n",
        "\n"
      ],
      "metadata": {
        "id": "qk-8uFotGcBj"
      }
    },
    {
      "cell_type": "code",
      "source": [
        "from __future__ import print_function\n",
        "import numpy as np\n",
        "import pickle\n",
        "\n",
        "BOARD_ROWS = 3\n",
        "BOARD_COLS = 3\n",
        "BOARD_SIZE = BOARD_ROWS * BOARD_COLS\n",
        "\n",
        "class State:\n",
        "    def __init__(self):\n",
        "        # the board is represented by a n * n array,\n",
        "        # 1 represents chessman of the player who moves first,\n",
        "        # -1 represents chessman of another player\n",
        "        # 0 represents empty position\n",
        "        self.data = np.zeros((BOARD_ROWS, BOARD_COLS))\n",
        "        self.winner = None\n",
        "        self.hashVal = None\n",
        "        self.end = None\n",
        "\n",
        "    # calculate the hash value for one state, it's unique\n",
        "    def getHash(self):\n",
        "        if self.hashVal is None:\n",
        "            self.hashVal = 0\n",
        "            for i in self.data.reshape(BOARD_ROWS * BOARD_COLS):\n",
        "                if i == -1:\n",
        "                    i = 2\n",
        "                self.hashVal = self.hashVal * 3 + i\n",
        "        return int(self.hashVal)\n",
        "\n",
        "    # determine whether a player has won the game, or it's a tie\n",
        "    def isEnd(self):\n",
        "        if self.end is not None:\n",
        "            return self.end\n",
        "        results = []\n",
        "        # check row\n",
        "        for i in range(0, BOARD_ROWS):\n",
        "            results.append(np.sum(self.data[i, :]))\n",
        "        # check columns\n",
        "        for i in range(0, BOARD_COLS):\n",
        "            results.append(np.sum(self.data[:, i]))\n",
        "\n",
        "        # check diagonals\n",
        "        results.append(0)\n",
        "        for i in range(0, BOARD_ROWS):\n",
        "            results[-1] += self.data[i, i]\n",
        "        results.append(0)\n",
        "        for i in range(0, BOARD_ROWS):\n",
        "            results[-1] += self.data[i, BOARD_ROWS - 1 - i]\n",
        "\n",
        "        for result in results:\n",
        "            if result == 3:\n",
        "                self.winner = 1\n",
        "                self.end = True\n",
        "                return self.end\n",
        "            if result == -3:\n",
        "                self.winner = -1\n",
        "                self.end = True\n",
        "                return self.end\n",
        "\n",
        "        # whether it's a tie\n",
        "        sum = np.sum(np.abs(self.data))\n",
        "        if sum == BOARD_ROWS * BOARD_COLS:\n",
        "            self.winner = 0\n",
        "            self.end = True\n",
        "            return self.end\n",
        "\n",
        "        # game is still going on\n",
        "        self.end = False\n",
        "        return self.end\n",
        "\n",
        "    #  1 or -1\n",
        "    # put chessman symbol in position (i, j)\n",
        "    def nextState(self, i, j, symbol):\n",
        "        newState = State()\n",
        "        newState.data = np.copy(self.data)\n",
        "        newState.data[i, j] = symbol\n",
        "        return newState\n",
        "\n",
        "    # print the board\n",
        "    def show(self):\n",
        "        for i in range(0, BOARD_ROWS):\n",
        "            print('-------------')\n",
        "            out = '| '\n",
        "            for j in range(0, BOARD_COLS):\n",
        "                if self.data[i, j] == 1:\n",
        "                    token = '*'\n",
        "                if self.data[i, j] == 0:\n",
        "                    token = '0'\n",
        "                if self.data[i, j] == -1:\n",
        "                    token = 'x'\n",
        "                out += token + ' | '\n",
        "            print(out)\n",
        "        print('-------------')\n",
        "\n",
        "def getAllStatesImpl(currentState, currentSymbol, allStates):\n",
        "    for i in range(0, BOARD_ROWS):\n",
        "        for j in range(0, BOARD_COLS):\n",
        "            if currentState.data[i][j] == 0:\n",
        "                newState = currentState.nextState(i, j, currentSymbol)\n",
        "                newHash = newState.getHash()\n",
        "                if newHash not in allStates.keys():\n",
        "                    isEnd = newState.isEnd()\n",
        "                    allStates[newHash] = (newState, isEnd)\n",
        "                    if not isEnd:\n",
        "                        getAllStatesImpl(newState, -currentSymbol, allStates)\n",
        "\n",
        "def getAllStates():\n",
        "    currentSymbol = 1\n",
        "    currentState = State()\n",
        "    allStates = dict()\n",
        "    allStates[currentState.getHash()] = (currentState, currentState.isEnd())\n",
        "    getAllStatesImpl(currentState, currentSymbol, allStates)\n",
        "    return allStates\n",
        "\n",
        "# all possible board configurations\n",
        "allStates = getAllStates()\n",
        "\n",
        "\n"
      ],
      "metadata": {
        "id": "SRBzMkJMhMl4"
      },
      "execution_count": 85,
      "outputs": []
    },
    {
      "cell_type": "markdown",
      "source": [
        "### CLASS JUDGER\n",
        "\n",
        "giveReward\n",
        "\n",
        "The rewards are only given at the end of a game. The rewards are given as follows: 1 for a win, -1 for a loss, 0.1 for a tie achieved for the player that started and 0.5 for a tie achieved for the second player. It is known that if you start the game you have more probabilities to win. \n",
        "\n",
        "reset \n",
        "\n",
        "This function reset the board game and it is used before starting a new game. \n",
        "\n",
        "play \n",
        "\n",
        "This function takes care of the game process. It ensure that the game continues until someone has won or a tie is reached. Also it ensures that all movements are possible. "
      ],
      "metadata": {
        "id": "gnR7sbDIL3aU"
      }
    },
    {
      "cell_type": "code",
      "source": [
        "class Judger:\n",
        "    # @player1: player who will move first, its chessman will be 1\n",
        "    # @player2: another player with chessman -1\n",
        "    # @feedback: if True, both players will receive rewards when game is end\n",
        "    def __init__(self, player1, player2, feedback=True):\n",
        "        self.p1 = player1\n",
        "        self.p2 = player2\n",
        "        self.feedback = feedback\n",
        "        self.currentPlayer = None\n",
        "        self.p1Symbol = 1\n",
        "        self.p2Symbol = -1\n",
        "        self.p1.setSymbol(self.p1Symbol)\n",
        "        self.p2.setSymbol(self.p2Symbol)\n",
        "        self.currentState = State()\n",
        "        self.allStates = allStates\n",
        "\n",
        "    # give reward to two players\n",
        "    def giveReward(self):\n",
        "        if self.currentState.winner == self.p1Symbol:\n",
        "            self.p1.feedReward(1)\n",
        "            self.p2.feedReward(0)\n",
        "        elif self.currentState.winner == self.p2Symbol:\n",
        "            self.p1.feedReward(0)\n",
        "            self.p2.feedReward(1)\n",
        "        else:\n",
        "            self.p1.feedReward(0.1)\n",
        "            self.p2.feedReward(0.5)\n",
        "\n",
        "    def feedCurrentState(self):\n",
        "        self.p1.feedState(self.currentState)\n",
        "        self.p2.feedState(self.currentState)\n",
        "\n",
        "    def reset(self):\n",
        "        self.p1.reset()\n",
        "        self.p2.reset()\n",
        "        self.currentState = State()\n",
        "        self.currentPlayer = None\n",
        "\n",
        "    # @show: if True, print each board during the game\n",
        "    def play(self, show=False):\n",
        "        self.reset()\n",
        "        self.feedCurrentState()\n",
        "        while True:\n",
        "            # set current player\n",
        "            if self.currentPlayer == self.p1:\n",
        "                self.currentPlayer = self.p2\n",
        "            else:\n",
        "                self.currentPlayer = self.p1\n",
        "            if show:\n",
        "                self.currentState.show()\n",
        "            [i, j, symbol] = self.currentPlayer.takeAction()\n",
        "            self.currentState = self.currentState.nextState(i, j, symbol)\n",
        "            hashValue = self.currentState.getHash()\n",
        "            self.currentState, isEnd = self.allStates[hashValue]\n",
        "            self.feedCurrentState()\n",
        "            if isEnd:\n",
        "                if self.feedback:\n",
        "                    self.giveReward()\n",
        "                return self.currentState.winner"
      ],
      "metadata": {
        "id": "46Es2TfUL6iT"
      },
      "execution_count": null,
      "outputs": []
    },
    {
      "cell_type": "markdown",
      "source": [
        "### CLASS PLAYER\n",
        "\n",
        "feedReward\n",
        "\n",
        "Here is where the reinforcement learning occurs. Rewards are just given at the end of the game. The state values are updated after the game is finished. a learning rate is defined here as 0.1. The learning rate measures the relevance of the steps taken to reach a good outcome. \n",
        "\n",
        "takeAction\n",
        "\n",
        "Here the exploration and exploitation take place. Iniatially a 10% of the time exploration will take place while the 90% will be used for exploitation. \n",
        "\n",
        "save policy\n",
        "\n",
        "This function saves the policy obtained after training. \n"
      ],
      "metadata": {
        "id": "_uJJ-6IsNLgB"
      }
    },
    {
      "cell_type": "code",
      "source": [
        "# AI player\n",
        "class Player:\n",
        "    # @stepSize: step size to update estimations\n",
        "    # @exploreRate: possibility to explore\n",
        "    def __init__(self, stepSize = 0.1, exploreRate=0.1):\n",
        "        self.allStates = allStates\n",
        "        self.estimations = dict()\n",
        "        self.stepSize = stepSize\n",
        "        self.exploreRate = exploreRate\n",
        "        self.states = []\n",
        "\n",
        "    def reset(self):\n",
        "        self.states = []\n",
        "\n",
        "    def setSymbol(self, symbol):\n",
        "        self.symbol = symbol\n",
        "        for hash in self.allStates.keys():\n",
        "            (state, isEnd) = self.allStates[hash]\n",
        "            if isEnd:\n",
        "                if state.winner == self.symbol:\n",
        "                    self.estimations[hash] = 1.0\n",
        "                else:\n",
        "                    self.estimations[hash] = 0\n",
        "            else:\n",
        "                self.estimations[hash] = 0.5\n",
        "\n",
        "    # accept a state\n",
        "    def feedState(self, state):\n",
        "        self.states.append(state)\n",
        "\n",
        "    # update estimation according to reward\n",
        "    def feedReward(self, reward):\n",
        "        if len(self.states) == 0:\n",
        "            return\n",
        "        self.states = [state.getHash() for state in self.states]\n",
        "        target = reward\n",
        "        for latestState in reversed(self.states):\n",
        "            value = self.estimations[latestState] + self.stepSize * (target - self.estimations[latestState])\n",
        "            self.estimations[latestState] = value\n",
        "            target = value\n",
        "        self.states = []\n",
        "\n",
        "    # determine next action\n",
        "    def takeAction(self):\n",
        "        state = self.states[-1]\n",
        "        nextStates = []\n",
        "        nextPositions = []\n",
        "        for i in range(BOARD_ROWS):   \n",
        "            for j in range(BOARD_COLS):\n",
        "                if state.data[i, j] == 0:         # Checking for available positions\n",
        "                    nextPositions.append([i, j])  # store the available position \n",
        "                    nextStates.append(state.nextState(i, j, self.symbol).getHash())\n",
        "        if np.random.binomial(1, self.exploreRate):     # This is for Exploration\n",
        "            np.random.shuffle(nextPositions)\n",
        "            # Not sure if truncating is the best way to deal with exploratory step\n",
        "            # Maybe it's better to only skip this step rather than forget all the history\n",
        "            self.states = []\n",
        "            action = nextPositions[0]\n",
        "            action.append(self.symbol)\n",
        "            return action    #Position, who played it   ([i,j], -1)\n",
        "\n",
        "        values = []          # exploitation \n",
        "        for hash, pos in zip(nextStates, nextPositions):\n",
        "            values.append((self.estimations[hash], pos))  #estimations \n",
        "        np.random.shuffle(values)                         \n",
        "        values.sort(key=lambda x: x[0], reverse=True)\n",
        "        action = values[0][1]   # optimal available Position to play\n",
        "        action.append(self.symbol) #e.g. ([0,2], -1)\n",
        "        return action       #Position, who played it   ([i,j], -1)\n",
        "\n",
        "    def savePolicy(self):\n",
        "        fw = open('optimal_policy_' + str(self.symbol), 'wb')\n",
        "        pickle.dump(self.estimations, fw)\n",
        "        fw.close()\n",
        "\n",
        "    def loadPolicy(self):\n",
        "        fr = open('optimal_policy_' + str(self.symbol),'rb')\n",
        "        self.estimations = pickle.load(fr)\n",
        "        fr.close()\n",
        "\n",
        "# human interface\n",
        "# input a number to put a chessman\n",
        "# | 1 | 2 | 3 |\n",
        "# | 4 | 5 | 6 |\n",
        "# | 7 | 8 | 9 |\n",
        "\n",
        "\n"
      ],
      "metadata": {
        "id": "OHyCLxtzNLSl"
      },
      "execution_count": null,
      "outputs": []
    },
    {
      "cell_type": "markdown",
      "source": [
        "CLASS HUMAN PLAYER\n",
        "\n",
        "This class is defined for human interaction. \n",
        "\n",
        "takeaction\n",
        "\n",
        "This function ask the user to input a position between 1 and 9. "
      ],
      "metadata": {
        "id": "X5MEIvLNRpLW"
      }
    },
    {
      "cell_type": "code",
      "source": [
        "class HumanPlayer:\n",
        "    def __init__(self, stepSize = 0.1, exploreRate=0.1):\n",
        "        self.symbol = None\n",
        "        self.currentState = None\n",
        "        return\n",
        "    def reset(self):\n",
        "        return\n",
        "    def setSymbol(self, symbol):\n",
        "        self.symbol = symbol\n",
        "        return\n",
        "    def feedState(self, state):\n",
        "        self.currentState = state\n",
        "        return\n",
        "    def feedReward(self, reward):\n",
        "        return\n",
        "    def takeAction(self):\n",
        "        data = int(input(\"Input your position:\"))\n",
        "        data -= 1\n",
        "        i = data // int(BOARD_COLS)\n",
        "        j = data % BOARD_COLS\n",
        "        if self.currentState.data[i, j] != 0:\n",
        "            return self.takeAction()\n",
        "        return (i, j, self.symbol)"
      ],
      "metadata": {
        "id": "_h9BCQCSRpeo"
      },
      "execution_count": null,
      "outputs": []
    },
    {
      "cell_type": "markdown",
      "source": [
        "The model is trained using the train function. After the model is trained, it can be tested using the compete function in which two AI players played against each other.  "
      ],
      "metadata": {
        "id": "GYDj-0X2SGYs"
      }
    },
    {
      "cell_type": "code",
      "source": [
        "def train(epochs=20000):\n",
        "    player1 = Player()\n",
        "    player2 = Player()\n",
        "    judger = Judger(player1, player2)\n",
        "    player1Win = 0\n",
        "    player2Win = 0\n",
        "    P1W = np.zeros(20000)\n",
        "    P2W = np.zeros(20000)\n",
        "    for i in range(0, epochs):\n",
        "        #print(\"Epoch\", i)\n",
        "        winner = judger.play()\n",
        "        if winner == 1:\n",
        "            player1Win += 1\n",
        "            P1W[player1Win] = player1Win/(i+1)         \n",
        "        if winner == -1:\n",
        "            player2Win += 1\n",
        "            P2W[player2Win] = player2Win/(i+1)\n",
        "        judger.reset()\n",
        "    P1W = player1Win / epochs\n",
        "    P2W = player2Win / epochs\n",
        "    print(player1Win / epochs)\n",
        "    print(player2Win / epochs)\n",
        "    player1.savePolicy()\n",
        "    player2.savePolicy()\n",
        "    return P1W, P2W\n",
        "''' def train(epochs=20000):\n",
        "    player1 = Player()\n",
        "    player2 = Player()\n",
        "    judger = Judger(player1, player2)\n",
        "    player1Win = 0.0\n",
        "    player2Win = 0.0\n",
        "    for i in range(0, epochs):\n",
        "        print(\"Epoch\", i)\n",
        "        winner = judger.play()\n",
        "        if winner == 1:\n",
        "            player1Win += 1\n",
        "        if winner == -1:\n",
        "            player2Win += 1\n",
        "        judger.reset()\n",
        "    print(player1Win / epochs)\n",
        "    print(player2Win / epochs)\n",
        "    player1.savePolicy()\n",
        "    player2.savePolicy() '''\n",
        "\n",
        "def compete(turns=500):\n",
        "    player1 = Player(exploreRate=0)\n",
        "    player2 = Player(exploreRate=0)\n",
        "    judger = Judger(player1, player2, False)\n",
        "    player1.loadPolicy()\n",
        "    player2.loadPolicy()\n",
        "    player1Win = 0.0\n",
        "    player2Win = 0.0\n",
        "    player3Win = 0.0\n",
        "    for i in range(0, turns):\n",
        "        #print(\"Epoch\", i)\n",
        "        winner = judger.play()\n",
        "        if winner == 1:\n",
        "            player1Win += 1\n",
        "        if winner == -1:\n",
        "            player2Win += 1\n",
        "        else:\n",
        "            player3Win += 1\n",
        "        judger.reset()\n",
        "    P1C = player1Win / turns\n",
        "    P2C = player2Win / turns\n",
        "    P3C = player3Win / turns\n",
        "    print(P1C)\n",
        "    print(P2C)\n",
        "    return P1C, P2C, P3C\n",
        "\n",
        "def play():\n",
        "    while True:\n",
        "        player1 = Player(exploreRate=0)\n",
        "        player2 = HumanPlayer()\n",
        "        judger = Judger(player1, player2, False)\n",
        "        player1.loadPolicy()\n",
        "        winner = judger.play(True)\n",
        "        if winner == player2.symbol:\n",
        "            print(\"Win!\")\n",
        "        elif winner == player1.symbol:\n",
        "            print(\"Lose!\")\n",
        "        else:\n",
        "            print(\"Tie!\")\n",
        "\n",
        "\n",
        "\n",
        "def ite(epochs_array):\n",
        "  P1W=np.zeros(len(epochs_array))\n",
        "  P2W=np.zeros(len(epochs_array))\n",
        "  P1C=np.zeros(len(epochs_array))\n",
        "  P2C=np.zeros(len(epochs_array))\n",
        "  P3C=np.zeros(len(epochs_array))\n",
        "  count = 0\n",
        "  for i in epochs_array:\n",
        "      P1W[count], P2W[count]  = train(epochs=i)\n",
        "      P1C[count], P2C[count], P3C[count] = compete()\n",
        "      count += 1\n",
        "  return P1W, P2W, P1C, P2C, P3C"
      ],
      "metadata": {
        "id": "U60E7Ys_i6tM"
      },
      "execution_count": 232,
      "outputs": []
    },
    {
      "cell_type": "code",
      "source": [
        "epochs_array = np.arange(2,500,5)\n",
        "P1W, P2W, P1C, P2C, P3C = ite(epochs_array)"
      ],
      "metadata": {
        "id": "3tqXXmaRxQfp"
      },
      "execution_count": null,
      "outputs": []
    },
    {
      "cell_type": "code",
      "source": [
        "import matplotlib.pyplot as plt\n",
        "fig,axes = plt.subplots(nrows=1,ncols=2,figsize=(12,4))\n",
        "fig.subplots_adjust(wspace=0.4,hspace=0,left=0.2, right=0.9, top=0.9, bottom=0.1)\n",
        "fontdict={  'fontsize': 12, 'fontname': 'serif'}\n",
        "axes[0].plot(epochs_array,P1W,'-b', label = 'Player 1')\n",
        "axes[0].plot(epochs_array,P2W,'-r', label = 'Player 2')\n",
        "axes[0].set_xlabel('epoch',fontdict)\n",
        "axes[0].set_ylabel('Winning percentage',fontdict)\n",
        "#axes[0].set_ylim(0.14, 0.18)\n",
        "axes[0].legend()\n",
        "\n",
        "axes[1].plot(epochs_array,P1C,'*b', label = 'Player 1')\n",
        "axes[1].plot(epochs_array,P2C,'*r', label = 'Player 2')\n",
        "axes[1].plot(epochs_array,P3C,'*k', label = 'Tie')\n",
        "\n",
        "axes[1].set_xlabel('epoch',fontdict)\n",
        "axes[1].set_ylabel('Winning percentage',fontdict)\n",
        "#axes[1].set_ylim(0.94, 0.95)\n",
        "axes[1].legend()\n",
        "\n",
        "for tick in axes[0].get_xticklabels():\n",
        "        tick.set_fontname(\"serif\")\n",
        "        tick.set_fontsize(12)\n",
        "for tick in axes[0].get_yticklabels():\n",
        "        tick.set_fontname(\"serif\")\n",
        "        tick.set_fontsize(12)\n",
        "\n",
        "for tick in axes[1].get_xticklabels():\n",
        "        tick.set_fontname(\"serif\")\n",
        "        tick.set_fontsize(12)\n",
        "for tick in axes[1].get_yticklabels():\n",
        "        tick.set_fontname(\"serif\")\n",
        "        tick.set_fontsize(12)"
      ],
      "metadata": {
        "colab": {
          "base_uri": "https://localhost:8080/",
          "height": 298
        },
        "outputId": "2e56eac1-4efa-4d80-b8ac-42ed2faa6892",
        "id": "oyynhWI-WUTf"
      },
      "execution_count": 244,
      "outputs": [
        {
          "output_type": "display_data",
          "data": {
            "text/plain": [
              "<Figure size 864x288 with 2 Axes>"
            ],
            "image/png": "[encoded data removed]"
          },
          "metadata": {
            "needs_background": "light"
          }
        }
      ]
    },
    {
      "cell_type": "markdown",
      "source": [
        "The figure at the left shows the winning percentage after training the model with a number of epochs. While the figure at the right shows the winning percentage when the compete function is used based on the trained models. \n",
        "\n",
        "Player 1 initially dominates the games at the beginning of the process. Since the model was trained using a limited number of epochs, this is to be expected, and the likelihood that the player who initiates the game would win has a greater internal probability. This behavior is reduced as the number of train epochs getting close the winning percentage of both models. Also, for a large number of train epochs the tie outcome is the more likely to happen. This is a solid sign of a well trained model. "
      ],
      "metadata": {
        "id": "AyulS4WaWLln"
      }
    },
    {
      "cell_type": "code",
      "source": [
        "def train(epochs=20000):\n",
        "    player1 = Player(stepSize = 0.999, exploreRate=0.3)\n",
        "    player2 = Player(stepSize = 0.999, exploreRate=0.3)\n",
        "    judger = Judger(player1, player2)\n",
        "    player1Win = 0\n",
        "    player2Win = 0\n",
        "    P1W = np.zeros(20000)\n",
        "    P2W = np.zeros(20000)\n",
        "    for i in range(0, epochs):\n",
        "        #print(\"Epoch\", i)\n",
        "        winner = judger.play()\n",
        "        if winner == 1:\n",
        "            player1Win += 1\n",
        "            P1W[player1Win] = player1Win/(i+1)         \n",
        "        if winner == -1:\n",
        "            player2Win += 1\n",
        "            P2W[player2Win] = player2Win/(i+1)\n",
        "        judger.reset()\n",
        "    P1W = player1Win / epochs\n",
        "    P2W = player2Win / epochs\n",
        "    print(player1Win / epochs)\n",
        "    print(player2Win / epochs)\n",
        "    player1.savePolicy()\n",
        "    player2.savePolicy()\n",
        "    return P1W, P2W\n",
        "''' def train(epochs=20000):\n",
        "    player1 = Player()\n",
        "    player2 = Player()\n",
        "    judger = Judger(player1, player2)\n",
        "    player1Win = 0.0\n",
        "    player2Win = 0.0\n",
        "    for i in range(0, epochs):\n",
        "        print(\"Epoch\", i)\n",
        "        winner = judger.play()\n",
        "        if winner == 1:\n",
        "            player1Win += 1\n",
        "        if winner == -1:\n",
        "            player2Win += 1\n",
        "        judger.reset()\n",
        "    print(player1Win / epochs)\n",
        "    print(player2Win / epochs)\n",
        "    player1.savePolicy()\n",
        "    player2.savePolicy() '''\n",
        "\n",
        "def ite(epochs_array):\n",
        "  P1W=np.zeros(len(epochs_array))\n",
        "  P2W=np.zeros(len(epochs_array))\n",
        "  P1C=np.zeros(len(epochs_array))\n",
        "  P2C=np.zeros(len(epochs_array))\n",
        "  P3C=np.zeros(len(epochs_array))\n",
        "  count = 0\n",
        "  for i in epochs_array:\n",
        "      P1W[count], P2W[count]  = train(epochs=i)\n",
        "      P1C[count], P2C[count], P3C[count] = compete()\n",
        "      count += 1\n",
        "  return P1W, P2W, P1C, P2C, P3C\n"
      ],
      "metadata": {
        "id": "sFbQRAWBZCN6"
      },
      "execution_count": 245,
      "outputs": []
    },
    {
      "cell_type": "code",
      "source": [
        "epochs_array = np.arange(2,5000,100)\n",
        "P1W, P2W, P1C, P2C, P3C = ite(epochs_array)"
      ],
      "metadata": {
        "id": "CoWlim5IZS97"
      },
      "execution_count": null,
      "outputs": []
    },
    {
      "cell_type": "code",
      "source": [
        "import matplotlib.pyplot as plt\n",
        "fig,axes = plt.subplots(nrows=1,ncols=2,figsize=(12,4))\n",
        "fig.subplots_adjust(wspace=0.4,hspace=0,left=0.2, right=0.9, top=0.9, bottom=0.1)\n",
        "fontdict={  'fontsize': 12, 'fontname': 'serif'}\n",
        "axes[0].plot(epochs_array,P1W,'-b', label = 'Player 1')\n",
        "axes[0].plot(epochs_array,P2W,'-r', label = 'Player 2')\n",
        "axes[0].set_xlabel('epoch',fontdict)\n",
        "axes[0].set_ylabel('Winning percentage',fontdict)\n",
        "#axes[0].set_ylim(0.14, 0.18)\n",
        "axes[0].legend()\n",
        "\n",
        "axes[1].plot(epochs_array,P1C,'*b', label = 'Player 1')\n",
        "axes[1].plot(epochs_array,P2C,'*r', label = 'Player 2')\n",
        "axes[1].plot(epochs_array,P3C,'*k', label = 'Tie')\n",
        "\n",
        "axes[1].set_xlabel('epoch',fontdict)\n",
        "axes[1].set_ylabel('Winning percentage',fontdict)\n",
        "#axes[1].set_ylim(0.94, 0.95)\n",
        "axes[1].legend()\n",
        "\n",
        "for tick in axes[0].get_xticklabels():\n",
        "        tick.set_fontname(\"serif\")\n",
        "        tick.set_fontsize(12)\n",
        "for tick in axes[0].get_yticklabels():\n",
        "        tick.set_fontname(\"serif\")\n",
        "        tick.set_fontsize(12)\n",
        "\n",
        "for tick in axes[1].get_xticklabels():\n",
        "        tick.set_fontname(\"serif\")\n",
        "        tick.set_fontsize(12)\n",
        "for tick in axes[1].get_yticklabels():\n",
        "        tick.set_fontname(\"serif\")\n",
        "        tick.set_fontsize(12)"
      ],
      "metadata": {
        "colab": {
          "base_uri": "https://localhost:8080/",
          "height": 298
        },
        "outputId": "7245f567-41e9-4ea0-eb0d-dd4f864f6fb8",
        "id": "80CKq3bTZsIO"
      },
      "execution_count": 249,
      "outputs": [
        {
          "output_type": "display_data",
          "data": {
            "text/plain": [
              "<Figure size 864x288 with 2 Axes>"
            ],
            "image/png": "[encoded data removed]"
          },
          "metadata": {
            "needs_background": "light"
          }
        }
      ]
    },
    {
      "cell_type": "markdown",
      "source": [
        "The preivous conclusions are clear when the number of epochs is taken to 5000. Note that the winning percantage in the training section is larger for player 1, even after a large number of epochs. This is because the exploratory step is used 30% of the times, which will tend to give more winnings to Player 1. "
      ],
      "metadata": {
        "id": "BuesMIIBarmc"
      }
    },
    {
      "cell_type": "markdown",
      "source": [
        "Finally, a human can play against the trained AI. "
      ],
      "metadata": {
        "id": "M1MPRxnebpZO"
      }
    },
    {
      "cell_type": "code",
      "source": [
        "play()"
      ],
      "metadata": {
        "colab": {
          "base_uri": "https://localhost:8080/"
        },
        "id": "TkKKfk5ibmfQ",
        "outputId": "fa6808e5-22ad-48ac-c301-51a75d382ddb"
      },
      "execution_count": null,
      "outputs": [
        {
          "output_type": "stream",
          "name": "stdout",
          "text": [
            "-------------\n",
            "| 0 | 0 | 0 | \n",
            "-------------\n",
            "| 0 | 0 | 0 | \n",
            "-------------\n",
            "| 0 | 0 | 0 | \n",
            "-------------\n",
            "-------------\n",
            "| 0 | 0 | * | \n",
            "-------------\n",
            "| 0 | 0 | 0 | \n",
            "-------------\n",
            "| 0 | 0 | 0 | \n",
            "-------------\n",
            "Input your position:1\n",
            "-------------\n",
            "| x | 0 | * | \n",
            "-------------\n",
            "| 0 | 0 | 0 | \n",
            "-------------\n",
            "| 0 | 0 | 0 | \n",
            "-------------\n",
            "-------------\n",
            "| x | 0 | * | \n",
            "-------------\n",
            "| 0 | 0 | * | \n",
            "-------------\n",
            "| 0 | 0 | 0 | \n",
            "-------------\n",
            "Input your position:9\n",
            "-------------\n",
            "| x | 0 | * | \n",
            "-------------\n",
            "| 0 | 0 | * | \n",
            "-------------\n",
            "| 0 | 0 | x | \n",
            "-------------\n",
            "-------------\n",
            "| x | 0 | * | \n",
            "-------------\n",
            "| 0 | * | * | \n",
            "-------------\n",
            "| 0 | 0 | x | \n",
            "-------------\n",
            "Input your position:7\n",
            "-------------\n",
            "| x | 0 | * | \n",
            "-------------\n",
            "| 0 | * | * | \n",
            "-------------\n",
            "| x | 0 | x | \n",
            "-------------\n",
            "Lose!\n",
            "-------------\n",
            "| 0 | 0 | 0 | \n",
            "-------------\n",
            "| 0 | 0 | 0 | \n",
            "-------------\n",
            "| 0 | 0 | 0 | \n",
            "-------------\n",
            "-------------\n",
            "| 0 | 0 | * | \n",
            "-------------\n",
            "| 0 | 0 | 0 | \n",
            "-------------\n",
            "| 0 | 0 | 0 | \n",
            "-------------\n"
          ]
        }
      ]
    },
    {
      "cell_type": "markdown",
      "source": [
        "The AI player was able to select the right moves to win the game. "
      ],
      "metadata": {
        "id": "lo1vksAyb4Yx"
      }
    }
  ]
}